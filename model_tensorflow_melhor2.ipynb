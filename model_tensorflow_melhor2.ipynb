{
 "cells": [
  {
   "cell_type": "code",
   "execution_count": 83,
   "metadata": {},
   "outputs": [],
   "source": [
    "import csv\n",
    "import numpy as np\n",
    "import pandas as pd\n",
    "from matplotlib import pyplot as plt\n",
    "from datetime import datetime\n",
    "from sklearn.model_selection import train_test_split\n",
    "import data"
   ]
  },
  {
   "cell_type": "code",
   "execution_count": null,
   "outputs": [],
   "source": [
    "# usando emb de 32 dim, word count 3, treinado 20 epocas, window 5"
   ],
   "metadata": {
    "collapsed": false
   }
  },
  {
   "cell_type": "code",
   "execution_count": 84,
   "metadata": {},
   "outputs": [],
   "source": [
    "train_data = pd.read_csv(\"data/train_with_embeddings.csv\")"
   ]
  },
  {
   "cell_type": "code",
   "execution_count": 85,
   "metadata": {},
   "outputs": [
    {
     "data": {
      "text/plain": "Index(['Unnamed: 0', 'text', 'retweets_count', 'favorites_count',\n       'followers_count', 'statuses_count', 'friends_count', 'mentions',\n       'urls', 'verified', 'hashtags', 'timestamp', 'TweetID', '0', '1', '2',\n       '3', '4', '5', '6', '7', '8', '9', '10', '11', '12', '13', '14', '15',\n       '16', '17', '18', '19', '20', '21', '22', '23', '24', '25', '26', '27',\n       '28', '29', '30', '31'],\n      dtype='object')"
     },
     "execution_count": 85,
     "metadata": {},
     "output_type": "execute_result"
    }
   ],
   "source": [
    "train_data.columns"
   ]
  },
  {
   "cell_type": "code",
   "execution_count": 86,
   "metadata": {},
   "outputs": [],
   "source": [
    "train_data = train_data.drop([\"Unnamed: 0\"], axis=1)"
   ]
  },
  {
   "cell_type": "code",
   "execution_count": 87,
   "metadata": {},
   "outputs": [],
   "source": [
    "# new features\n",
    "train_data[\"url_count\"] = train_data[\"urls\"].apply(lambda s: s[1:-1].count(\"\\'\")/2)\n",
    "train_data[\"text_len\"] = train_data[\"text\"].apply(lambda s: len(s))\n",
    "train_data[\"hashtags_count\"] = train_data[\"hashtags\"].apply(lambda s: s[1:-1].count(\"\\'\")/2)\n",
    "train_data[\"day\"] = train_data[\"timestamp\"].apply(lambda t: datetime.utcfromtimestamp(t/1000).day)\n",
    "train_data[\"hour\"] = train_data[\"timestamp\"].apply(lambda t: datetime.utcfromtimestamp(t/1000).hour)\n",
    "\n",
    "# text features\n",
    "train_data[\"avg_word_len\"] = train_data[\"text\"].apply(lambda s: np.mean([len(w) for w in s.split()]))\n",
    "train_data[\"rep_words_freq\"] = train_data[\"text\"].apply(lambda s: np.mean(len(list(set(s.split())))/len(s.split())))\n",
    "train_data[\"rep_chars_freq\"] = train_data[\"text\"].apply(lambda s: np.mean(len(list(set(s)))/len(list(s))))\n",
    "train_data[\"max_char_freq\"] = train_data[\"text\"].apply(lambda s: max( [s.count(c) for c in list(set(s))] )   /len(list(s)))\n",
    "train_data[\"avg_word_count\"] = train_data[\"text\"].apply(lambda s: len(s.split()))\n",
    "\n",
    "train_data[\"log\"] = np.log(0.1 + train_data[\"favorites_count\"])\n",
    "train_data[\"sqrt\"] = np.sqrt(train_data[\"favorites_count\"])\n",
    "\n",
    "# indicators of keywords\n",
    "train_data[\"Macron\"] =  train_data[\"text\"].apply(lambda s: (\"macron\" in s.lower().split()))\n",
    "train_data[\"Zemmour\"] =  train_data[\"text\"].apply(lambda s: (\"zemmour\" in s.lower().split()))\n",
    "train_data[\"Vote\"] =  train_data[\"text\"].apply(lambda s: (\"vote\" in s.lower().split()) or (\"votez\" in s.lower().split()) or (\"vot\" in s.lower().split()))\n",
    "# train_data[\"Melenchon\"] =  train_data[\"text\"].apply(lambda s: (\"melenchon\" in s.replace(\"é\",\"e\").lower().split()))\n",
    "\n",
    "# train_data[\"rt\"] =  train_data[\"text\"].apply(lambda s: (\"rt\" in s.lower().split()))\n",
    "train_data[\"rt\"] =  train_data[\"text\"].apply(lambda s: (s.lower().split()[0] == \"rt\"))    # changed!!"
   ]
  },
  {
   "cell_type": "code",
   "execution_count": 88,
   "metadata": {},
   "outputs": [
    {
     "data": {
      "text/plain": "                                                     text  retweets_count  \\\n0                      rt refarcir macron ans nom prépare               3   \n1                                               populaire               0   \n2                                     faut dégager cinglé               3   \n3       enseignants mettre prescriptions président rép...               0   \n4                              mafieuse oppressive macron               0   \n...                                                   ...             ...   \n353964                     gonflette tour raciste frustré               0   \n353965  france caste crapuleuse encadrée gangsters irr...               0   \n353966                      eric zemmour français berbère               3   \n353967                           gauchistes dépression pq               0   \n353968      algérie emmanuel macron grande histoire amour               0   \n\n        favorites_count  followers_count  statuses_count  friends_count  \\\n0                     0             3682          453535           3628   \n1                     0               86            1016            284   \n2                     1             1944           28234           1995   \n3                     0                1            1072              0   \n4                     0            13957           25311          10841   \n...                 ...              ...             ...            ...   \n353964                0               34            1509             55   \n353965                0               89           11166            127   \n353966                0             1888             712           3086   \n353967                0              139             486            320   \n353968                0                0              82             24   \n\n       mentions                         urls  verified hashtags  ...  sqrt  \\\n0            []                           []         0       []  ...   0.0   \n1            []                           []         0       []  ...   0.0   \n2            []                           []         0       []  ...   1.0   \n3            []  ['https://t.co/rytlted08g']         0       []  ...   0.0   \n4            []                           []         0       []  ...   0.0   \n...         ...                          ...       ...      ...  ...   ...   \n353964       []  ['https://t.co/pma33zhslx']         0       []  ...   0.0   \n353965       []                           []         0       []  ...   0.0   \n353966       []                           []         0       []  ...   0.0   \n353967       []                           []         0       []  ...   0.0   \n353968       []                           []         0       []  ...   0.0   \n\n        Macron  Zemmour   Vote     rt  \\\n0         True    False  False   True   \n1        False    False  False  False   \n2        False    False  False  False   \n3        False    False  False  False   \n4         True    False  False  False   \n...        ...      ...    ...    ...   \n353964   False    False  False  False   \n353965   False    False  False  False   \n353966   False     True  False  False   \n353967   False    False  False  False   \n353968    True    False  False  False   \n\n                                                 text_arr  \\\n0               [rt, refarcir, macron, ans, nom, prépare]   \n1                                             [populaire]   \n2                                 [faut, dégager, cinglé]   \n3       [enseignants, mettre, prescriptions, président...   \n4                          [mafieuse, oppressive, macron]   \n...                                                   ...   \n353964                [gonflette, tour, raciste, frustré]   \n353965  [france, caste, crapuleuse, encadrée, gangster...   \n353966                 [eric, zemmour, français, berbère]   \n353967                       [gauchistes, dépression, pq]   \n353968  [algérie, emmanuel, macron, grande, histoire, ...   \n\n                                   text_without_stopwords  polarity  \\\n0                      rt refarcir macron ans nom prépare      0.00   \n1                                               populaire      0.50   \n2                                     faut dégager cinglé     -0.01   \n3       enseignants mettre prescriptions président rép...      0.06   \n4                              mafieuse oppressive macron      0.00   \n...                                                   ...       ...   \n353964                     gonflette tour raciste frustré      0.00   \n353965  france caste crapuleuse encadrée gangsters irr...      0.10   \n353966                      eric zemmour français berbère      0.20   \n353967                           gauchistes dépression pq      0.00   \n353968      algérie emmanuel macron grande histoire amour      0.30   \n\n        subjectivity     abrev  \n0              0.000  0.000000  \n1              0.500  0.000000  \n2             -0.010  0.000000  \n3              0.125  0.000000  \n4              0.000  0.000000  \n...              ...       ...  \n353964         0.000  0.000000  \n353965         0.200  0.000000  \n353966         0.000  0.000000  \n353967         0.000  0.333333  \n353968         0.200  0.000000  \n\n[353969 rows x 65 columns]",
      "text/html": "<div>\n<style scoped>\n    .dataframe tbody tr th:only-of-type {\n        vertical-align: middle;\n    }\n\n    .dataframe tbody tr th {\n        vertical-align: top;\n    }\n\n    .dataframe thead th {\n        text-align: right;\n    }\n</style>\n<table border=\"1\" class=\"dataframe\">\n  <thead>\n    <tr style=\"text-align: right;\">\n      <th></th>\n      <th>text</th>\n      <th>retweets_count</th>\n      <th>favorites_count</th>\n      <th>followers_count</th>\n      <th>statuses_count</th>\n      <th>friends_count</th>\n      <th>mentions</th>\n      <th>urls</th>\n      <th>verified</th>\n      <th>hashtags</th>\n      <th>...</th>\n      <th>sqrt</th>\n      <th>Macron</th>\n      <th>Zemmour</th>\n      <th>Vote</th>\n      <th>rt</th>\n      <th>text_arr</th>\n      <th>text_without_stopwords</th>\n      <th>polarity</th>\n      <th>subjectivity</th>\n      <th>abrev</th>\n    </tr>\n  </thead>\n  <tbody>\n    <tr>\n      <th>0</th>\n      <td>rt refarcir macron ans nom prépare</td>\n      <td>3</td>\n      <td>0</td>\n      <td>3682</td>\n      <td>453535</td>\n      <td>3628</td>\n      <td>[]</td>\n      <td>[]</td>\n      <td>0</td>\n      <td>[]</td>\n      <td>...</td>\n      <td>0.0</td>\n      <td>True</td>\n      <td>False</td>\n      <td>False</td>\n      <td>True</td>\n      <td>[rt, refarcir, macron, ans, nom, prépare]</td>\n      <td>rt refarcir macron ans nom prépare</td>\n      <td>0.00</td>\n      <td>0.000</td>\n      <td>0.000000</td>\n    </tr>\n    <tr>\n      <th>1</th>\n      <td>populaire</td>\n      <td>0</td>\n      <td>0</td>\n      <td>86</td>\n      <td>1016</td>\n      <td>284</td>\n      <td>[]</td>\n      <td>[]</td>\n      <td>0</td>\n      <td>[]</td>\n      <td>...</td>\n      <td>0.0</td>\n      <td>False</td>\n      <td>False</td>\n      <td>False</td>\n      <td>False</td>\n      <td>[populaire]</td>\n      <td>populaire</td>\n      <td>0.50</td>\n      <td>0.500</td>\n      <td>0.000000</td>\n    </tr>\n    <tr>\n      <th>2</th>\n      <td>faut dégager cinglé</td>\n      <td>3</td>\n      <td>1</td>\n      <td>1944</td>\n      <td>28234</td>\n      <td>1995</td>\n      <td>[]</td>\n      <td>[]</td>\n      <td>0</td>\n      <td>[]</td>\n      <td>...</td>\n      <td>1.0</td>\n      <td>False</td>\n      <td>False</td>\n      <td>False</td>\n      <td>False</td>\n      <td>[faut, dégager, cinglé]</td>\n      <td>faut dégager cinglé</td>\n      <td>-0.01</td>\n      <td>-0.010</td>\n      <td>0.000000</td>\n    </tr>\n    <tr>\n      <th>3</th>\n      <td>enseignants mettre prescriptions président rép...</td>\n      <td>0</td>\n      <td>0</td>\n      <td>1</td>\n      <td>1072</td>\n      <td>0</td>\n      <td>[]</td>\n      <td>['https://t.co/rytlted08g']</td>\n      <td>0</td>\n      <td>[]</td>\n      <td>...</td>\n      <td>0.0</td>\n      <td>False</td>\n      <td>False</td>\n      <td>False</td>\n      <td>False</td>\n      <td>[enseignants, mettre, prescriptions, président...</td>\n      <td>enseignants mettre prescriptions président rép...</td>\n      <td>0.06</td>\n      <td>0.125</td>\n      <td>0.000000</td>\n    </tr>\n    <tr>\n      <th>4</th>\n      <td>mafieuse oppressive macron</td>\n      <td>0</td>\n      <td>0</td>\n      <td>13957</td>\n      <td>25311</td>\n      <td>10841</td>\n      <td>[]</td>\n      <td>[]</td>\n      <td>0</td>\n      <td>[]</td>\n      <td>...</td>\n      <td>0.0</td>\n      <td>True</td>\n      <td>False</td>\n      <td>False</td>\n      <td>False</td>\n      <td>[mafieuse, oppressive, macron]</td>\n      <td>mafieuse oppressive macron</td>\n      <td>0.00</td>\n      <td>0.000</td>\n      <td>0.000000</td>\n    </tr>\n    <tr>\n      <th>...</th>\n      <td>...</td>\n      <td>...</td>\n      <td>...</td>\n      <td>...</td>\n      <td>...</td>\n      <td>...</td>\n      <td>...</td>\n      <td>...</td>\n      <td>...</td>\n      <td>...</td>\n      <td>...</td>\n      <td>...</td>\n      <td>...</td>\n      <td>...</td>\n      <td>...</td>\n      <td>...</td>\n      <td>...</td>\n      <td>...</td>\n      <td>...</td>\n      <td>...</td>\n      <td>...</td>\n    </tr>\n    <tr>\n      <th>353964</th>\n      <td>gonflette tour raciste frustré</td>\n      <td>0</td>\n      <td>0</td>\n      <td>34</td>\n      <td>1509</td>\n      <td>55</td>\n      <td>[]</td>\n      <td>['https://t.co/pma33zhslx']</td>\n      <td>0</td>\n      <td>[]</td>\n      <td>...</td>\n      <td>0.0</td>\n      <td>False</td>\n      <td>False</td>\n      <td>False</td>\n      <td>False</td>\n      <td>[gonflette, tour, raciste, frustré]</td>\n      <td>gonflette tour raciste frustré</td>\n      <td>0.00</td>\n      <td>0.000</td>\n      <td>0.000000</td>\n    </tr>\n    <tr>\n      <th>353965</th>\n      <td>france caste crapuleuse encadrée gangsters irr...</td>\n      <td>0</td>\n      <td>0</td>\n      <td>89</td>\n      <td>11166</td>\n      <td>127</td>\n      <td>[]</td>\n      <td>[]</td>\n      <td>0</td>\n      <td>[]</td>\n      <td>...</td>\n      <td>0.0</td>\n      <td>False</td>\n      <td>False</td>\n      <td>False</td>\n      <td>False</td>\n      <td>[france, caste, crapuleuse, encadrée, gangster...</td>\n      <td>france caste crapuleuse encadrée gangsters irr...</td>\n      <td>0.10</td>\n      <td>0.200</td>\n      <td>0.000000</td>\n    </tr>\n    <tr>\n      <th>353966</th>\n      <td>eric zemmour français berbère</td>\n      <td>3</td>\n      <td>0</td>\n      <td>1888</td>\n      <td>712</td>\n      <td>3086</td>\n      <td>[]</td>\n      <td>[]</td>\n      <td>0</td>\n      <td>[]</td>\n      <td>...</td>\n      <td>0.0</td>\n      <td>False</td>\n      <td>True</td>\n      <td>False</td>\n      <td>False</td>\n      <td>[eric, zemmour, français, berbère]</td>\n      <td>eric zemmour français berbère</td>\n      <td>0.20</td>\n      <td>0.000</td>\n      <td>0.000000</td>\n    </tr>\n    <tr>\n      <th>353967</th>\n      <td>gauchistes dépression pq</td>\n      <td>0</td>\n      <td>0</td>\n      <td>139</td>\n      <td>486</td>\n      <td>320</td>\n      <td>[]</td>\n      <td>[]</td>\n      <td>0</td>\n      <td>[]</td>\n      <td>...</td>\n      <td>0.0</td>\n      <td>False</td>\n      <td>False</td>\n      <td>False</td>\n      <td>False</td>\n      <td>[gauchistes, dépression, pq]</td>\n      <td>gauchistes dépression pq</td>\n      <td>0.00</td>\n      <td>0.000</td>\n      <td>0.333333</td>\n    </tr>\n    <tr>\n      <th>353968</th>\n      <td>algérie emmanuel macron grande histoire amour</td>\n      <td>0</td>\n      <td>0</td>\n      <td>0</td>\n      <td>82</td>\n      <td>24</td>\n      <td>[]</td>\n      <td>[]</td>\n      <td>0</td>\n      <td>[]</td>\n      <td>...</td>\n      <td>0.0</td>\n      <td>True</td>\n      <td>False</td>\n      <td>False</td>\n      <td>False</td>\n      <td>[algérie, emmanuel, macron, grande, histoire, ...</td>\n      <td>algérie emmanuel macron grande histoire amour</td>\n      <td>0.30</td>\n      <td>0.200</td>\n      <td>0.000000</td>\n    </tr>\n  </tbody>\n</table>\n<p>353969 rows × 65 columns</p>\n</div>"
     },
     "metadata": {},
     "output_type": "display_data"
    }
   ],
   "source": [
    "train_data = data.feature_words_arr(train_data)\n",
    "train_data = data.feature_delete_stop_words(train_data, 'text_without_stopwords')\n",
    "train_data = data.feature_sent_analysis(train_data, 'text_without_stopwords')\n",
    "train_data = data.feature_abbrev(train_data)\n",
    "display(train_data)\n",
    "# # outlier removal\n",
    "# train_data = train_data[train_data[\"retweets_count\"] <= 40000]"
   ]
  },
  {
   "cell_type": "code",
   "execution_count": 89,
   "metadata": {},
   "outputs": [],
   "source": [
    "# from nltk.sentiment import SentimentIntensityAnalyzer\n",
    "# sia = SentimentIntensityAnalyzer()\n",
    "# print(\"sentiment analysis...\")\n",
    "# train_data[\"compound\"] =  train_data[\"text\"].apply(lambda s: sia.polarity_scores(s)['compound'])"
   ]
  },
  {
   "cell_type": "code",
   "execution_count": 90,
   "metadata": {},
   "outputs": [],
   "source": [
    "# select useful columns\n",
    "train_data_filtered = train_data.drop([\"text\", \"urls\", \"mentions\", \"hashtags\", \"timestamp\", \"TweetID\",\n",
    "                                        \"text_arr\", \"text_without_stopwords\"], axis=1)"
   ]
  },
  {
   "cell_type": "code",
   "execution_count": 91,
   "metadata": {
    "collapsed": false
   },
   "outputs": [],
   "source": [
    "# train_data_filtered = train_data.loc[:, [\"retweets_count\",\"favorites_count\",\"followers_count\",\"statuses_count\",\"friends_count\",\n",
    "#                                  \"hashtags_count\",\"hour\",\"verified\",\"url_count\",\"text_len\",\"rt\",\"Macron\",\"Zemmour\",\"Melenchon\"]]\n",
    "\n",
    "\n",
    "X_train, X_eval, y_train, y_eval = train_test_split(train_data_filtered.drop(\"retweets_count\", axis=1),\n",
    "                                                    train_data_filtered[\"retweets_count\"],\n",
    "                                                    random_state=42, test_size=0.1)\n",
    "\n",
    "# Standardize the data\n",
    "normal_columns = train_data_filtered.drop([\"hour\", \"verified\", \"url_count\", \"rt\", \"retweets_count\"], axis=1).columns\n",
    "# normal_columns = train_data_filtered.drop([\"hour\", \"verified\", \"url_count\", \"rt\", \"retweets_count\"], axis=1).columns\n",
    "mu, sigma = X_train[normal_columns].mean(axis=0), X_train[normal_columns].std(axis=0)\n",
    "X_train.loc[:, normal_columns] = (X_train[normal_columns] - mu) / sigma\n",
    "X_eval.loc[:, normal_columns] = (X_eval[normal_columns] - mu) / sigma"
   ]
  },
  {
   "cell_type": "code",
   "execution_count": 92,
   "metadata": {},
   "outputs": [],
   "source": [
    "import tensorflow as tf"
   ]
  },
  {
   "cell_type": "code",
   "execution_count": 93,
   "metadata": {},
   "outputs": [
    {
     "data": {
      "text/plain": "\"model = tf.keras.models.Sequential([\\n    tf.keras.layers.Dense(40, activation='relu'),\\n    # tf.keras.layers.Dropout(0.1),\\n    tf.keras.layers.Dense(40, activation='relu'),\\n    tf.keras.layers.Dense(1),\\n])\""
     },
     "execution_count": 93,
     "metadata": {},
     "output_type": "execute_result"
    }
   ],
   "source": [
    "# model = tf.keras.models.Sequential([\n",
    "#   tf.keras.layers.Dense(20, activation='relu'),\n",
    "#   tf.keras.layers.Dense(20, activation='relu'),\n",
    "#   tf.keras.layers.Dense(20, activation='relu'),\n",
    "#   tf.keras.layers.Dense(1),\n",
    "# ])\n",
    "\n",
    "model = tf.keras.models.Sequential([\n",
    "  tf.keras.layers.Dense(20, activation='relu'),\n",
    "  # tf.keras.layers.Dropout(0.1),\n",
    "  tf.keras.layers.Dense(20, activation='relu'),\n",
    "  tf.keras.layers.Dense(20, activation='relu'),\n",
    "  tf.keras.layers.Dense(1),\n",
    "])\n",
    "\n",
    "\"\"\"model = tf.keras.models.Sequential([\n",
    "    tf.keras.layers.Dense(40, activation='relu'),\n",
    "    # tf.keras.layers.Dropout(0.1),\n",
    "    tf.keras.layers.Dense(40, activation='relu'),\n",
    "    tf.keras.layers.Dense(1),\n",
    "])\"\"\"\n",
    "\n",
    "# model = tf.keras.models.Sequential([\n",
    "#   tf.keras.layers.Dense(128, activation='relu'),\n",
    "#   tf.keras.layers.Dropout(0.2),\n",
    "#   tf.keras.layers.Dense(128, activation='relu'),\n",
    "#   tf.keras.layers.Dropout(0.2),\n",
    "#   tf.keras.layers.Dense(128, activation='relu'),\n",
    "#   tf.keras.layers.Dropout(0.2),\n",
    "#   tf.keras.layers.Dense(1),\n",
    "# ])"
   ]
  },
  {
   "cell_type": "code",
   "execution_count": 94,
   "metadata": {},
   "outputs": [],
   "source": [
    "model.compile(optimizer=\"adam\", loss='mae')"
   ]
  },
  {
   "cell_type": "code",
   "execution_count": 95,
   "metadata": {},
   "outputs": [
    {
     "data": {
      "text/plain": "\"import tensorflow_addons as tfa\\noptimizer = tfa.optimizers.AdamW(learning_rate=1e-3, weight_decay=1e-6)\\nmodel.compile(optimizer=optimizer, loss='mae')\""
     },
     "execution_count": 95,
     "metadata": {},
     "output_type": "execute_result"
    }
   ],
   "source": [
    "\"\"\"import tensorflow_addons as tfa\n",
    "optimizer = tfa.optimizers.AdamW(learning_rate=1e-3, weight_decay=1e-6)\n",
    "model.compile(optimizer=optimizer, loss='mae')\"\"\""
   ]
  },
  {
   "cell_type": "code",
   "execution_count": 98,
   "metadata": {},
   "outputs": [
    {
     "name": "stdout",
     "output_type": "stream",
     "text": [
      "Epoch 1/25\n",
      "312/312 [==============================] - 1s 2ms/step - loss: 5.7241 - val_loss: 5.6642\n",
      "Epoch 2/25\n",
      "312/312 [==============================] - 1s 2ms/step - loss: 5.7155 - val_loss: 5.6520\n",
      "Epoch 3/25\n",
      "312/312 [==============================] - 1s 2ms/step - loss: 5.7108 - val_loss: 5.7359\n",
      "Epoch 4/25\n",
      "312/312 [==============================] - 1s 2ms/step - loss: 5.7144 - val_loss: 5.6726\n",
      "Epoch 5/25\n",
      "312/312 [==============================] - 0s 1ms/step - loss: 5.7064 - val_loss: 5.6701\n",
      "Epoch 6/25\n",
      "312/312 [==============================] - 1s 3ms/step - loss: 5.6953 - val_loss: 5.6764\n",
      "Epoch 7/25\n",
      "312/312 [==============================] - 1s 2ms/step - loss: 5.6900 - val_loss: 5.6975\n",
      "Epoch 8/25\n",
      "312/312 [==============================] - 1s 2ms/step - loss: 5.7032 - val_loss: 5.7032\n",
      "Epoch 9/25\n",
      "312/312 [==============================] - 1s 2ms/step - loss: 5.6843 - val_loss: 5.6783\n",
      "Epoch 10/25\n",
      "312/312 [==============================] - 1s 3ms/step - loss: 5.6778 - val_loss: 5.6909\n",
      "Epoch 11/25\n",
      "312/312 [==============================] - 1s 3ms/step - loss: 5.6844 - val_loss: 5.7099\n",
      "Epoch 12/25\n",
      "312/312 [==============================] - 1s 2ms/step - loss: 5.6590 - val_loss: 5.7072\n",
      "Epoch 13/25\n",
      "312/312 [==============================] - 0s 1ms/step - loss: 5.6625 - val_loss: 5.7123\n",
      "Epoch 14/25\n",
      "312/312 [==============================] - 1s 2ms/step - loss: 5.6639 - val_loss: 5.7140\n",
      "Epoch 15/25\n",
      "312/312 [==============================] - 1s 2ms/step - loss: 5.6541 - val_loss: 5.7130\n",
      "Epoch 16/25\n",
      "312/312 [==============================] - 1s 2ms/step - loss: 5.6412 - val_loss: 5.7042\n",
      "Epoch 17/25\n",
      "312/312 [==============================] - 1s 2ms/step - loss: 5.6386 - val_loss: 5.6958\n",
      "Epoch 18/25\n",
      "312/312 [==============================] - 1s 3ms/step - loss: 5.6222 - val_loss: 5.7183\n",
      "Epoch 19/25\n",
      "312/312 [==============================] - 1s 2ms/step - loss: 5.6321 - val_loss: 5.6880\n",
      "Epoch 20/25\n",
      "312/312 [==============================] - 0s 2ms/step - loss: 5.6176 - val_loss: 5.7164\n",
      "Epoch 21/25\n",
      "312/312 [==============================] - 1s 2ms/step - loss: 5.6065 - val_loss: 5.7242\n",
      "Epoch 22/25\n",
      "312/312 [==============================] - 1s 2ms/step - loss: 5.6095 - val_loss: 5.7076\n",
      "Epoch 23/25\n",
      "312/312 [==============================] - 1s 3ms/step - loss: 5.5943 - val_loss: 5.7116\n",
      "Epoch 24/25\n",
      "312/312 [==============================] - 1s 2ms/step - loss: 5.6025 - val_loss: 5.7233\n",
      "Epoch 25/25\n",
      "312/312 [==============================] - 1s 3ms/step - loss: 5.5880 - val_loss: 5.7131\n"
     ]
    }
   ],
   "source": [
    "history = model.fit(X_train.values.astype(np.float32), y_train.values.astype(np.float32), epochs=80, batch_size=1024,\n",
    "         validation_data=(X_eval.values.astype(np.float32), y_eval.values.astype(np.float32)), shuffle=True)"
   ]
  },
  {
   "cell_type": "code",
   "execution_count": 97,
   "metadata": {},
   "outputs": [
    {
     "data": {
      "text/plain": "<Figure size 640x480 with 1 Axes>",
      "image/png": "[encoded data removed]"
     },
     "metadata": {},
     "output_type": "display_data"
    }
   ],
   "source": [
    "plt.plot(history.epoch, history.history[\"loss\"], 'b', label='Training loss')\n",
    "plt.plot(history.epoch, history.history[\"val_loss\"], 'g', label='Validation loss')\n",
    "plt.title('Training loss')\n",
    "plt.xlabel('Epochs')\n",
    "plt.ylabel('Loss')\n",
    "plt.legend()\n",
    "plt.show()"
   ]
  },
  {
   "cell_type": "code",
   "execution_count": 45,
   "metadata": {},
   "outputs": [
    {
     "name": "stdout",
     "output_type": "stream",
     "text": [
      "1107/1107 - 0s - loss: 6.0695 - 497ms/epoch - 449us/step\n"
     ]
    },
    {
     "data": {
      "text/plain": "6.06954288482666"
     },
     "execution_count": 45,
     "metadata": {},
     "output_type": "execute_result"
    }
   ],
   "source": [
    "model.evaluate(X_eval.values.astype(np.float32),  y_eval.values.astype(np.float32), verbose=2)"
   ]
  },
  {
   "cell_type": "code",
   "execution_count": 17,
   "metadata": {},
   "outputs": [
    {
     "name": "stdout",
     "output_type": "stream",
     "text": [
      "1107/1107 [==============================] - 0s 367us/step\n",
      "[[-3.8322471e-03]\n",
      " [-7.4711069e-04]\n",
      " [-5.0463900e-04]\n",
      " ...\n",
      " [-2.1370314e-03]\n",
      " [-2.6850365e-03]\n",
      " [ 1.6587729e+01]]\n"
     ]
    }
   ],
   "source": [
    "pred = model.predict(X_eval.values.astype(np.float32))\n",
    "print(pred)"
   ]
  },
  {
   "cell_type": "code",
   "execution_count": 18,
   "metadata": {},
   "outputs": [],
   "source": [
    "eval_data = X_eval.copy()\n",
    "eval_data [\"groundtruth\"] = y_eval\n",
    "eval_data[\"pred\"] = pred"
   ]
  },
  {
   "cell_type": "code",
   "execution_count": 19,
   "metadata": {},
   "outputs": [
    {
     "data": {
      "text/plain": "        favorites_count  followers_count  statuses_count  friends_count  \\\n307625        -0.055089        -0.077407       -0.334165      -0.497254   \n52950         -0.055089        -0.077779       -0.408998      -0.502035   \n289882        -0.055089        -0.067681        2.979071       1.399853   \n17637         -0.055089        -0.075549        0.847381      -0.566985   \n339255        -0.053906        -0.028786       -0.027463       0.115989   \n...                 ...              ...             ...            ...   \n308634        -0.055089        -0.071539        0.205442       0.380173   \n276530        -0.053906        -0.077630       -0.393446      -0.539890   \n302150        -0.055089        -0.076848       -0.012975      -0.174096   \n55651         -0.055089        -0.077729       -0.401657      -0.502434   \n194022        -0.008948         0.402570        0.433283       0.017169   \n\n        verified         0         1         2         3         4  ...  \\\n307625         0  1.535138  0.001031 -1.472968 -0.771349 -1.273339  ...   \n52950          0  1.046139 -0.893833 -1.752839  1.370994 -1.571936  ...   \n289882         0  1.369111 -0.426967  0.620751 -2.074152  1.424168  ...   \n17637          0  0.242622  0.355079  0.797423  0.275174  0.690548  ...   \n339255         0  0.210926  1.776944 -0.798671  1.251465 -2.058538  ...   \n...          ...       ...       ...       ...       ...       ...  ...   \n308634         0 -0.216226  0.135003 -0.790920 -0.580679  0.214126  ...   \n276530         0 -2.282618 -0.264207 -0.276957 -1.500341 -0.874692  ...   \n302150         0 -0.744128  0.304306 -0.382525 -0.276123  0.650591  ...   \n55651          0  0.343937  0.518112 -1.444739 -0.309734 -0.472250  ...   \n194022         1  1.952093 -0.421811  1.417137 -0.308629 -0.537160  ...   \n\n             log    Macron   Zemmour      Vote     rt  polarity  subjectivity  \\\n307625 -0.564477 -0.601175 -0.379343 -0.257806  False  0.794312     -0.754931   \n52950  -0.564477 -0.601175 -0.379343 -0.257806  False  0.989324      0.480421   \n289882 -0.564477 -0.601175 -0.379343 -0.257806   True -1.459153      0.963819   \n17637  -0.564477 -0.601175 -0.379343 -0.257806   True  0.144274      0.534132   \n339255  0.474196  1.663403 -0.379343 -0.257806  False -0.072405     -0.754931   \n...          ...       ...       ...       ...    ...       ...           ...   \n308634 -0.564477 -0.601175 -0.379343 -0.257806  False -0.072405     -0.754931   \n276530  0.474196 -0.601175 -0.379343 -0.257806  False  0.216501     -0.110400   \n302150 -0.564477 -0.601175 -0.379343 -0.257806  False -0.397424     -0.325244   \n55651  -0.564477 -0.601175 -0.379343  3.878877  False -0.072405     -0.754931   \n194022  2.020930 -0.601175 -0.379343 -0.257806  False  0.913486      0.748976   \n\n           abrev  groundtruth       pred  \n307625 -0.389772            0  -0.003832  \n52950  -0.389772            0  -0.000747  \n289882 -0.389772            0  -0.000505  \n17637   2.679304            0   0.000593  \n339255 -0.389772            1   1.647873  \n...          ...          ...        ...  \n308634 -0.389772            3  -0.002709  \n276530 -0.389772            3   1.334405  \n302150  1.802425            0  -0.002137  \n55651  -0.389772            0  -0.002685  \n194022 -0.389772           13  16.587729  \n\n[35397 rows x 57 columns]",
      "text/html": "<div>\n<style scoped>\n    .dataframe tbody tr th:only-of-type {\n        vertical-align: middle;\n    }\n\n    .dataframe tbody tr th {\n        vertical-align: top;\n    }\n\n    .dataframe thead th {\n        text-align: right;\n    }\n</style>\n<table border=\"1\" class=\"dataframe\">\n  <thead>\n    <tr style=\"text-align: right;\">\n      <th></th>\n      <th>favorites_count</th>\n      <th>followers_count</th>\n      <th>statuses_count</th>\n      <th>friends_count</th>\n      <th>verified</th>\n      <th>0</th>\n      <th>1</th>\n      <th>2</th>\n      <th>3</th>\n      <th>4</th>\n      <th>...</th>\n      <th>log</th>\n      <th>Macron</th>\n      <th>Zemmour</th>\n      <th>Vote</th>\n      <th>rt</th>\n      <th>polarity</th>\n      <th>subjectivity</th>\n      <th>abrev</th>\n      <th>groundtruth</th>\n      <th>pred</th>\n    </tr>\n  </thead>\n  <tbody>\n    <tr>\n      <th>307625</th>\n      <td>-0.055089</td>\n      <td>-0.077407</td>\n      <td>-0.334165</td>\n      <td>-0.497254</td>\n      <td>0</td>\n      <td>1.535138</td>\n      <td>0.001031</td>\n      <td>-1.472968</td>\n      <td>-0.771349</td>\n      <td>-1.273339</td>\n      <td>...</td>\n      <td>-0.564477</td>\n      <td>-0.601175</td>\n      <td>-0.379343</td>\n      <td>-0.257806</td>\n      <td>False</td>\n      <td>0.794312</td>\n      <td>-0.754931</td>\n      <td>-0.389772</td>\n      <td>0</td>\n      <td>-0.003832</td>\n    </tr>\n    <tr>\n      <th>52950</th>\n      <td>-0.055089</td>\n      <td>-0.077779</td>\n      <td>-0.408998</td>\n      <td>-0.502035</td>\n      <td>0</td>\n      <td>1.046139</td>\n      <td>-0.893833</td>\n      <td>-1.752839</td>\n      <td>1.370994</td>\n      <td>-1.571936</td>\n      <td>...</td>\n      <td>-0.564477</td>\n      <td>-0.601175</td>\n      <td>-0.379343</td>\n      <td>-0.257806</td>\n      <td>False</td>\n      <td>0.989324</td>\n      <td>0.480421</td>\n      <td>-0.389772</td>\n      <td>0</td>\n      <td>-0.000747</td>\n    </tr>\n    <tr>\n      <th>289882</th>\n      <td>-0.055089</td>\n      <td>-0.067681</td>\n      <td>2.979071</td>\n      <td>1.399853</td>\n      <td>0</td>\n      <td>1.369111</td>\n      <td>-0.426967</td>\n      <td>0.620751</td>\n      <td>-2.074152</td>\n      <td>1.424168</td>\n      <td>...</td>\n      <td>-0.564477</td>\n      <td>-0.601175</td>\n      <td>-0.379343</td>\n      <td>-0.257806</td>\n      <td>True</td>\n      <td>-1.459153</td>\n      <td>0.963819</td>\n      <td>-0.389772</td>\n      <td>0</td>\n      <td>-0.000505</td>\n    </tr>\n    <tr>\n      <th>17637</th>\n      <td>-0.055089</td>\n      <td>-0.075549</td>\n      <td>0.847381</td>\n      <td>-0.566985</td>\n      <td>0</td>\n      <td>0.242622</td>\n      <td>0.355079</td>\n      <td>0.797423</td>\n      <td>0.275174</td>\n      <td>0.690548</td>\n      <td>...</td>\n      <td>-0.564477</td>\n      <td>-0.601175</td>\n      <td>-0.379343</td>\n      <td>-0.257806</td>\n      <td>True</td>\n      <td>0.144274</td>\n      <td>0.534132</td>\n      <td>2.679304</td>\n      <td>0</td>\n      <td>0.000593</td>\n    </tr>\n    <tr>\n      <th>339255</th>\n      <td>-0.053906</td>\n      <td>-0.028786</td>\n      <td>-0.027463</td>\n      <td>0.115989</td>\n      <td>0</td>\n      <td>0.210926</td>\n      <td>1.776944</td>\n      <td>-0.798671</td>\n      <td>1.251465</td>\n      <td>-2.058538</td>\n      <td>...</td>\n      <td>0.474196</td>\n      <td>1.663403</td>\n      <td>-0.379343</td>\n      <td>-0.257806</td>\n      <td>False</td>\n      <td>-0.072405</td>\n      <td>-0.754931</td>\n      <td>-0.389772</td>\n      <td>1</td>\n      <td>1.647873</td>\n    </tr>\n    <tr>\n      <th>...</th>\n      <td>...</td>\n      <td>...</td>\n      <td>...</td>\n      <td>...</td>\n      <td>...</td>\n      <td>...</td>\n      <td>...</td>\n      <td>...</td>\n      <td>...</td>\n      <td>...</td>\n      <td>...</td>\n      <td>...</td>\n      <td>...</td>\n      <td>...</td>\n      <td>...</td>\n      <td>...</td>\n      <td>...</td>\n      <td>...</td>\n      <td>...</td>\n      <td>...</td>\n      <td>...</td>\n    </tr>\n    <tr>\n      <th>308634</th>\n      <td>-0.055089</td>\n      <td>-0.071539</td>\n      <td>0.205442</td>\n      <td>0.380173</td>\n      <td>0</td>\n      <td>-0.216226</td>\n      <td>0.135003</td>\n      <td>-0.790920</td>\n      <td>-0.580679</td>\n      <td>0.214126</td>\n      <td>...</td>\n      <td>-0.564477</td>\n      <td>-0.601175</td>\n      <td>-0.379343</td>\n      <td>-0.257806</td>\n      <td>False</td>\n      <td>-0.072405</td>\n      <td>-0.754931</td>\n      <td>-0.389772</td>\n      <td>3</td>\n      <td>-0.002709</td>\n    </tr>\n    <tr>\n      <th>276530</th>\n      <td>-0.053906</td>\n      <td>-0.077630</td>\n      <td>-0.393446</td>\n      <td>-0.539890</td>\n      <td>0</td>\n      <td>-2.282618</td>\n      <td>-0.264207</td>\n      <td>-0.276957</td>\n      <td>-1.500341</td>\n      <td>-0.874692</td>\n      <td>...</td>\n      <td>0.474196</td>\n      <td>-0.601175</td>\n      <td>-0.379343</td>\n      <td>-0.257806</td>\n      <td>False</td>\n      <td>0.216501</td>\n      <td>-0.110400</td>\n      <td>-0.389772</td>\n      <td>3</td>\n      <td>1.334405</td>\n    </tr>\n    <tr>\n      <th>302150</th>\n      <td>-0.055089</td>\n      <td>-0.076848</td>\n      <td>-0.012975</td>\n      <td>-0.174096</td>\n      <td>0</td>\n      <td>-0.744128</td>\n      <td>0.304306</td>\n      <td>-0.382525</td>\n      <td>-0.276123</td>\n      <td>0.650591</td>\n      <td>...</td>\n      <td>-0.564477</td>\n      <td>-0.601175</td>\n      <td>-0.379343</td>\n      <td>-0.257806</td>\n      <td>False</td>\n      <td>-0.397424</td>\n      <td>-0.325244</td>\n      <td>1.802425</td>\n      <td>0</td>\n      <td>-0.002137</td>\n    </tr>\n    <tr>\n      <th>55651</th>\n      <td>-0.055089</td>\n      <td>-0.077729</td>\n      <td>-0.401657</td>\n      <td>-0.502434</td>\n      <td>0</td>\n      <td>0.343937</td>\n      <td>0.518112</td>\n      <td>-1.444739</td>\n      <td>-0.309734</td>\n      <td>-0.472250</td>\n      <td>...</td>\n      <td>-0.564477</td>\n      <td>-0.601175</td>\n      <td>-0.379343</td>\n      <td>3.878877</td>\n      <td>False</td>\n      <td>-0.072405</td>\n      <td>-0.754931</td>\n      <td>-0.389772</td>\n      <td>0</td>\n      <td>-0.002685</td>\n    </tr>\n    <tr>\n      <th>194022</th>\n      <td>-0.008948</td>\n      <td>0.402570</td>\n      <td>0.433283</td>\n      <td>0.017169</td>\n      <td>1</td>\n      <td>1.952093</td>\n      <td>-0.421811</td>\n      <td>1.417137</td>\n      <td>-0.308629</td>\n      <td>-0.537160</td>\n      <td>...</td>\n      <td>2.020930</td>\n      <td>-0.601175</td>\n      <td>-0.379343</td>\n      <td>-0.257806</td>\n      <td>False</td>\n      <td>0.913486</td>\n      <td>0.748976</td>\n      <td>-0.389772</td>\n      <td>13</td>\n      <td>16.587729</td>\n    </tr>\n  </tbody>\n</table>\n<p>35397 rows × 57 columns</p>\n</div>"
     },
     "execution_count": 19,
     "metadata": {},
     "output_type": "execute_result"
    }
   ],
   "source": [
    "eval_data"
   ]
  },
  {
   "cell_type": "code",
   "execution_count": 20,
   "metadata": {},
   "outputs": [],
   "source": [
    "# eval_data.to_csv(\"pred_example_58\")"
   ]
  },
  {
   "cell_type": "code",
   "execution_count": 21,
   "metadata": {},
   "outputs": [],
   "source": [
    "# plt.scatter(X_train[\"favorites_count\"], model.predict(X_train))\n",
    "# plt.scatter(X_train[\"favorites_count\"], y_train.values.astype(np.float32))"
   ]
  },
  {
   "cell_type": "code",
   "execution_count": 22,
   "metadata": {},
   "outputs": [],
   "source": [
    "# evaluation\n",
    "\n",
    "eval_data = pd.read_csv(\"data/evaluation_with_embeddings.csv\")\n",
    "eval_data = eval_data.drop([\"Unnamed: 0\"], axis=1)\n",
    "tweets = eval_data[\"TweetID\"]"
   ]
  },
  {
   "cell_type": "code",
   "execution_count": 23,
   "metadata": {},
   "outputs": [
    {
     "ename": "KeyError",
     "evalue": "\"['Vote'] not in index\"",
     "output_type": "error",
     "traceback": [
      "\u001B[0;31m---------------------------------------------------------------------------\u001B[0m",
      "\u001B[0;31mKeyError\u001B[0m                                  Traceback (most recent call last)",
      "Cell \u001B[0;32mIn[23], line 35\u001B[0m\n\u001B[1;32m     31\u001B[0m eval_data \u001B[38;5;241m=\u001B[39m eval_data\u001B[38;5;241m.\u001B[39mdrop([\u001B[38;5;124m\"\u001B[39m\u001B[38;5;124mtext\u001B[39m\u001B[38;5;124m\"\u001B[39m, \u001B[38;5;124m\"\u001B[39m\u001B[38;5;124murls\u001B[39m\u001B[38;5;124m\"\u001B[39m, \u001B[38;5;124m\"\u001B[39m\u001B[38;5;124mmentions\u001B[39m\u001B[38;5;124m\"\u001B[39m, \u001B[38;5;124m\"\u001B[39m\u001B[38;5;124mhashtags\u001B[39m\u001B[38;5;124m\"\u001B[39m, \u001B[38;5;124m\"\u001B[39m\u001B[38;5;124mtimestamp\u001B[39m\u001B[38;5;124m\"\u001B[39m, \u001B[38;5;124m\"\u001B[39m\u001B[38;5;124mTweetID\u001B[39m\u001B[38;5;124m\"\u001B[39m,\n\u001B[1;32m     32\u001B[0m                                         \u001B[38;5;124m\"\u001B[39m\u001B[38;5;124mtext_arr\u001B[39m\u001B[38;5;124m\"\u001B[39m, \u001B[38;5;124m\"\u001B[39m\u001B[38;5;124mtext_without_stopwords\u001B[39m\u001B[38;5;124m\"\u001B[39m], axis\u001B[38;5;241m=\u001B[39m\u001B[38;5;241m1\u001B[39m)\n\u001B[1;32m     34\u001B[0m \u001B[38;5;66;03m# normalize\u001B[39;00m\n\u001B[0;32m---> 35\u001B[0m eval_data\u001B[38;5;241m.\u001B[39mloc[:, normal_columns] \u001B[38;5;241m=\u001B[39m (\u001B[43meval_data\u001B[49m\u001B[38;5;241;43m.\u001B[39;49m\u001B[43mloc\u001B[49m\u001B[43m[\u001B[49m\u001B[43m:\u001B[49m\u001B[43m,\u001B[49m\u001B[43m \u001B[49m\u001B[43mnormal_columns\u001B[49m\u001B[43m]\u001B[49m \u001B[38;5;241m-\u001B[39m mu) \u001B[38;5;241m/\u001B[39m sigma\n\u001B[1;32m     37\u001B[0m display(eval_data)\n",
      "File \u001B[0;32m~/Desktop/hexa/hexa/venv/lib/python3.10/site-packages/pandas/core/indexing.py:1067\u001B[0m, in \u001B[0;36m_LocationIndexer.__getitem__\u001B[0;34m(self, key)\u001B[0m\n\u001B[1;32m   1065\u001B[0m     \u001B[38;5;28;01mif\u001B[39;00m \u001B[38;5;28mself\u001B[39m\u001B[38;5;241m.\u001B[39m_is_scalar_access(key):\n\u001B[1;32m   1066\u001B[0m         \u001B[38;5;28;01mreturn\u001B[39;00m \u001B[38;5;28mself\u001B[39m\u001B[38;5;241m.\u001B[39mobj\u001B[38;5;241m.\u001B[39m_get_value(\u001B[38;5;241m*\u001B[39mkey, takeable\u001B[38;5;241m=\u001B[39m\u001B[38;5;28mself\u001B[39m\u001B[38;5;241m.\u001B[39m_takeable)\n\u001B[0;32m-> 1067\u001B[0m     \u001B[38;5;28;01mreturn\u001B[39;00m \u001B[38;5;28;43mself\u001B[39;49m\u001B[38;5;241;43m.\u001B[39;49m\u001B[43m_getitem_tuple\u001B[49m\u001B[43m(\u001B[49m\u001B[43mkey\u001B[49m\u001B[43m)\u001B[49m\n\u001B[1;32m   1068\u001B[0m \u001B[38;5;28;01melse\u001B[39;00m:\n\u001B[1;32m   1069\u001B[0m     \u001B[38;5;66;03m# we by definition only have the 0th axis\u001B[39;00m\n\u001B[1;32m   1070\u001B[0m     axis \u001B[38;5;241m=\u001B[39m \u001B[38;5;28mself\u001B[39m\u001B[38;5;241m.\u001B[39maxis \u001B[38;5;129;01mor\u001B[39;00m \u001B[38;5;241m0\u001B[39m\n",
      "File \u001B[0;32m~/Desktop/hexa/hexa/venv/lib/python3.10/site-packages/pandas/core/indexing.py:1256\u001B[0m, in \u001B[0;36m_LocIndexer._getitem_tuple\u001B[0;34m(self, tup)\u001B[0m\n\u001B[1;32m   1253\u001B[0m \u001B[38;5;28;01mif\u001B[39;00m \u001B[38;5;28mself\u001B[39m\u001B[38;5;241m.\u001B[39m_multi_take_opportunity(tup):\n\u001B[1;32m   1254\u001B[0m     \u001B[38;5;28;01mreturn\u001B[39;00m \u001B[38;5;28mself\u001B[39m\u001B[38;5;241m.\u001B[39m_multi_take(tup)\n\u001B[0;32m-> 1256\u001B[0m \u001B[38;5;28;01mreturn\u001B[39;00m \u001B[38;5;28;43mself\u001B[39;49m\u001B[38;5;241;43m.\u001B[39;49m\u001B[43m_getitem_tuple_same_dim\u001B[49m\u001B[43m(\u001B[49m\u001B[43mtup\u001B[49m\u001B[43m)\u001B[49m\n",
      "File \u001B[0;32m~/Desktop/hexa/hexa/venv/lib/python3.10/site-packages/pandas/core/indexing.py:924\u001B[0m, in \u001B[0;36m_LocationIndexer._getitem_tuple_same_dim\u001B[0;34m(self, tup)\u001B[0m\n\u001B[1;32m    921\u001B[0m \u001B[38;5;28;01mif\u001B[39;00m com\u001B[38;5;241m.\u001B[39mis_null_slice(key):\n\u001B[1;32m    922\u001B[0m     \u001B[38;5;28;01mcontinue\u001B[39;00m\n\u001B[0;32m--> 924\u001B[0m retval \u001B[38;5;241m=\u001B[39m \u001B[38;5;28;43mgetattr\u001B[39;49m\u001B[43m(\u001B[49m\u001B[43mretval\u001B[49m\u001B[43m,\u001B[49m\u001B[43m \u001B[49m\u001B[38;5;28;43mself\u001B[39;49m\u001B[38;5;241;43m.\u001B[39;49m\u001B[43mname\u001B[49m\u001B[43m)\u001B[49m\u001B[38;5;241;43m.\u001B[39;49m\u001B[43m_getitem_axis\u001B[49m\u001B[43m(\u001B[49m\u001B[43mkey\u001B[49m\u001B[43m,\u001B[49m\u001B[43m \u001B[49m\u001B[43maxis\u001B[49m\u001B[38;5;241;43m=\u001B[39;49m\u001B[43mi\u001B[49m\u001B[43m)\u001B[49m\n\u001B[1;32m    925\u001B[0m \u001B[38;5;66;03m# We should never have retval.ndim < self.ndim, as that should\u001B[39;00m\n\u001B[1;32m    926\u001B[0m \u001B[38;5;66;03m#  be handled by the _getitem_lowerdim call above.\u001B[39;00m\n\u001B[1;32m    927\u001B[0m \u001B[38;5;28;01massert\u001B[39;00m retval\u001B[38;5;241m.\u001B[39mndim \u001B[38;5;241m==\u001B[39m \u001B[38;5;28mself\u001B[39m\u001B[38;5;241m.\u001B[39mndim\n",
      "File \u001B[0;32m~/Desktop/hexa/hexa/venv/lib/python3.10/site-packages/pandas/core/indexing.py:1301\u001B[0m, in \u001B[0;36m_LocIndexer._getitem_axis\u001B[0;34m(self, key, axis)\u001B[0m\n\u001B[1;32m   1298\u001B[0m     \u001B[38;5;28;01mif\u001B[39;00m \u001B[38;5;28mhasattr\u001B[39m(key, \u001B[38;5;124m\"\u001B[39m\u001B[38;5;124mndim\u001B[39m\u001B[38;5;124m\"\u001B[39m) \u001B[38;5;129;01mand\u001B[39;00m key\u001B[38;5;241m.\u001B[39mndim \u001B[38;5;241m>\u001B[39m \u001B[38;5;241m1\u001B[39m:\n\u001B[1;32m   1299\u001B[0m         \u001B[38;5;28;01mraise\u001B[39;00m \u001B[38;5;167;01mValueError\u001B[39;00m(\u001B[38;5;124m\"\u001B[39m\u001B[38;5;124mCannot index with multidimensional key\u001B[39m\u001B[38;5;124m\"\u001B[39m)\n\u001B[0;32m-> 1301\u001B[0m     \u001B[38;5;28;01mreturn\u001B[39;00m \u001B[38;5;28;43mself\u001B[39;49m\u001B[38;5;241;43m.\u001B[39;49m\u001B[43m_getitem_iterable\u001B[49m\u001B[43m(\u001B[49m\u001B[43mkey\u001B[49m\u001B[43m,\u001B[49m\u001B[43m \u001B[49m\u001B[43maxis\u001B[49m\u001B[38;5;241;43m=\u001B[39;49m\u001B[43maxis\u001B[49m\u001B[43m)\u001B[49m\n\u001B[1;32m   1303\u001B[0m \u001B[38;5;66;03m# nested tuple slicing\u001B[39;00m\n\u001B[1;32m   1304\u001B[0m \u001B[38;5;28;01mif\u001B[39;00m is_nested_tuple(key, labels):\n",
      "File \u001B[0;32m~/Desktop/hexa/hexa/venv/lib/python3.10/site-packages/pandas/core/indexing.py:1239\u001B[0m, in \u001B[0;36m_LocIndexer._getitem_iterable\u001B[0;34m(self, key, axis)\u001B[0m\n\u001B[1;32m   1236\u001B[0m \u001B[38;5;28mself\u001B[39m\u001B[38;5;241m.\u001B[39m_validate_key(key, axis)\n\u001B[1;32m   1238\u001B[0m \u001B[38;5;66;03m# A collection of keys\u001B[39;00m\n\u001B[0;32m-> 1239\u001B[0m keyarr, indexer \u001B[38;5;241m=\u001B[39m \u001B[38;5;28;43mself\u001B[39;49m\u001B[38;5;241;43m.\u001B[39;49m\u001B[43m_get_listlike_indexer\u001B[49m\u001B[43m(\u001B[49m\u001B[43mkey\u001B[49m\u001B[43m,\u001B[49m\u001B[43m \u001B[49m\u001B[43maxis\u001B[49m\u001B[43m)\u001B[49m\n\u001B[1;32m   1240\u001B[0m \u001B[38;5;28;01mreturn\u001B[39;00m \u001B[38;5;28mself\u001B[39m\u001B[38;5;241m.\u001B[39mobj\u001B[38;5;241m.\u001B[39m_reindex_with_indexers(\n\u001B[1;32m   1241\u001B[0m     {axis: [keyarr, indexer]}, copy\u001B[38;5;241m=\u001B[39m\u001B[38;5;28;01mTrue\u001B[39;00m, allow_dups\u001B[38;5;241m=\u001B[39m\u001B[38;5;28;01mTrue\u001B[39;00m\n\u001B[1;32m   1242\u001B[0m )\n",
      "File \u001B[0;32m~/Desktop/hexa/hexa/venv/lib/python3.10/site-packages/pandas/core/indexing.py:1432\u001B[0m, in \u001B[0;36m_LocIndexer._get_listlike_indexer\u001B[0;34m(self, key, axis)\u001B[0m\n\u001B[1;32m   1429\u001B[0m ax \u001B[38;5;241m=\u001B[39m \u001B[38;5;28mself\u001B[39m\u001B[38;5;241m.\u001B[39mobj\u001B[38;5;241m.\u001B[39m_get_axis(axis)\n\u001B[1;32m   1430\u001B[0m axis_name \u001B[38;5;241m=\u001B[39m \u001B[38;5;28mself\u001B[39m\u001B[38;5;241m.\u001B[39mobj\u001B[38;5;241m.\u001B[39m_get_axis_name(axis)\n\u001B[0;32m-> 1432\u001B[0m keyarr, indexer \u001B[38;5;241m=\u001B[39m \u001B[43max\u001B[49m\u001B[38;5;241;43m.\u001B[39;49m\u001B[43m_get_indexer_strict\u001B[49m\u001B[43m(\u001B[49m\u001B[43mkey\u001B[49m\u001B[43m,\u001B[49m\u001B[43m \u001B[49m\u001B[43maxis_name\u001B[49m\u001B[43m)\u001B[49m\n\u001B[1;32m   1434\u001B[0m \u001B[38;5;28;01mreturn\u001B[39;00m keyarr, indexer\n",
      "File \u001B[0;32m~/Desktop/hexa/hexa/venv/lib/python3.10/site-packages/pandas/core/indexes/base.py:6113\u001B[0m, in \u001B[0;36mIndex._get_indexer_strict\u001B[0;34m(self, key, axis_name)\u001B[0m\n\u001B[1;32m   6110\u001B[0m \u001B[38;5;28;01melse\u001B[39;00m:\n\u001B[1;32m   6111\u001B[0m     keyarr, indexer, new_indexer \u001B[38;5;241m=\u001B[39m \u001B[38;5;28mself\u001B[39m\u001B[38;5;241m.\u001B[39m_reindex_non_unique(keyarr)\n\u001B[0;32m-> 6113\u001B[0m \u001B[38;5;28;43mself\u001B[39;49m\u001B[38;5;241;43m.\u001B[39;49m\u001B[43m_raise_if_missing\u001B[49m\u001B[43m(\u001B[49m\u001B[43mkeyarr\u001B[49m\u001B[43m,\u001B[49m\u001B[43m \u001B[49m\u001B[43mindexer\u001B[49m\u001B[43m,\u001B[49m\u001B[43m \u001B[49m\u001B[43maxis_name\u001B[49m\u001B[43m)\u001B[49m\n\u001B[1;32m   6115\u001B[0m keyarr \u001B[38;5;241m=\u001B[39m \u001B[38;5;28mself\u001B[39m\u001B[38;5;241m.\u001B[39mtake(indexer)\n\u001B[1;32m   6116\u001B[0m \u001B[38;5;28;01mif\u001B[39;00m \u001B[38;5;28misinstance\u001B[39m(key, Index):\n\u001B[1;32m   6117\u001B[0m     \u001B[38;5;66;03m# GH 42790 - Preserve name from an Index\u001B[39;00m\n",
      "File \u001B[0;32m~/Desktop/hexa/hexa/venv/lib/python3.10/site-packages/pandas/core/indexes/base.py:6176\u001B[0m, in \u001B[0;36mIndex._raise_if_missing\u001B[0;34m(self, key, indexer, axis_name)\u001B[0m\n\u001B[1;32m   6173\u001B[0m     \u001B[38;5;28;01mraise\u001B[39;00m \u001B[38;5;167;01mKeyError\u001B[39;00m(\u001B[38;5;124mf\u001B[39m\u001B[38;5;124m\"\u001B[39m\u001B[38;5;124mNone of [\u001B[39m\u001B[38;5;132;01m{\u001B[39;00mkey\u001B[38;5;132;01m}\u001B[39;00m\u001B[38;5;124m] are in the [\u001B[39m\u001B[38;5;132;01m{\u001B[39;00maxis_name\u001B[38;5;132;01m}\u001B[39;00m\u001B[38;5;124m]\u001B[39m\u001B[38;5;124m\"\u001B[39m)\n\u001B[1;32m   6175\u001B[0m not_found \u001B[38;5;241m=\u001B[39m \u001B[38;5;28mlist\u001B[39m(ensure_index(key)[missing_mask\u001B[38;5;241m.\u001B[39mnonzero()[\u001B[38;5;241m0\u001B[39m]]\u001B[38;5;241m.\u001B[39munique())\n\u001B[0;32m-> 6176\u001B[0m \u001B[38;5;28;01mraise\u001B[39;00m \u001B[38;5;167;01mKeyError\u001B[39;00m(\u001B[38;5;124mf\u001B[39m\u001B[38;5;124m\"\u001B[39m\u001B[38;5;132;01m{\u001B[39;00mnot_found\u001B[38;5;132;01m}\u001B[39;00m\u001B[38;5;124m not in index\u001B[39m\u001B[38;5;124m\"\u001B[39m)\n",
      "\u001B[0;31mKeyError\u001B[0m: \"['Vote'] not in index\""
     ]
    }
   ],
   "source": [
    "eval_data[\"url_count\"] = eval_data[\"urls\"].apply(lambda s: s[1:-1].count(\"\\'\")/2)\n",
    "eval_data[\"text_len\"] = eval_data[\"text\"].apply(lambda s: len(s))\n",
    "eval_data[\"hashtags_count\"] = eval_data[\"hashtags\"].apply(lambda s: s[1:-1].count(\"\\'\")/2)\n",
    "eval_data[\"day\"] = eval_data[\"timestamp\"].apply(lambda t: datetime.utcfromtimestamp(t/1000).day)\n",
    "eval_data[\"hour\"] = eval_data[\"timestamp\"].apply(lambda t: datetime.utcfromtimestamp(t/1000).hour)\n",
    "# eval_data[\"Macron\"] =  eval_data[\"text\"].apply(lambda s: (\"macron\" in s.lower().split()))\n",
    "# eval_data[\"Zemmour\"] =  eval_data[\"text\"].apply(lambda s: (\"zemmour\" in s.lower().split()))\n",
    "# eval_data[\"Melenchon\"] =  eval_data[\"text\"].apply(lambda s: (\"melenchon\" in s.lower().split()))\n",
    "eval_data[\"avg_word_len\"] = eval_data[\"text\"].apply(lambda s: np.mean([len(w) for w in s.split()]))\n",
    "eval_data[\"rep_words_freq\"] = eval_data[\"text\"].apply(lambda s: np.mean(len(list(set(s.split())))/len(s.split())))\n",
    "eval_data[\"rep_chars_freq\"] = eval_data[\"text\"].apply(lambda s: np.mean(len(list(set(s)))/len(list(s))))\n",
    "eval_data[\"max_char_freq\"] = eval_data[\"text\"].apply(lambda s: max( [s.count(c) for c in list(set(s))] )/len(list(s)))\n",
    "eval_data[\"avg_word_count\"] = eval_data[\"text\"].apply(lambda s: len(s.split()))\n",
    "\n",
    "eval_data[\"log\"] = np.log(0.1 + eval_data[\"favorites_count\"])\n",
    "\n",
    "# indicators of keywords\n",
    "eval_data[\"Macron\"] =  eval_data[\"text\"].apply(lambda s: (\"macron\" in s.lower().split()))\n",
    "eval_data[\"Zemmour\"] =  eval_data[\"text\"].apply(lambda s: (\"zemmour\" in s.lower().split()))\n",
    "# eval_data[\"Melenchon\"] =  eval_data[\"text\"].apply(lambda s: (\"melenchon\" in s.replace(\"é\",\"e\").lower().split()))\n",
    "eval_data[\"rt\"] =  eval_data[\"text\"].apply(lambda s: (\"rt\" in s.lower().split()))\n",
    "\n",
    "# print(\"sentiment analysis...\")\n",
    "# eval_data[\"compound\"] =  eval_data[\"text\"].apply(lambda s: sia.polarity_scores(s)['compound'])\n",
    "\n",
    "eval_data = data.feature_words_arr(eval_data)\n",
    "eval_data = data.feature_delete_stop_words(eval_data, 'text_without_stopwords')\n",
    "eval_data = data.feature_sent_analysis(eval_data, 'text_without_stopwords')\n",
    "eval_data = data.feature_abbrev(eval_data)\n",
    "\n",
    "eval_data = eval_data.drop([\"text\", \"urls\", \"mentions\", \"hashtags\", \"timestamp\", \"TweetID\",\n",
    "                                        \"text_arr\", \"text_without_stopwords\"], axis=1)\n",
    "\n",
    "# normalize\n",
    "eval_data.loc[:, normal_columns] = (eval_data.loc[:, normal_columns] - mu) / sigma\n",
    "\n",
    "display(eval_data)"
   ]
  },
  {
   "cell_type": "code",
   "execution_count": null,
   "metadata": {},
   "outputs": [],
   "source": [
    "display(X_train)"
   ]
  },
  {
   "cell_type": "code",
   "execution_count": null,
   "metadata": {},
   "outputs": [],
   "source": [
    "pred = model.predict(eval_data.values.astype(np.float32))\n",
    "\n",
    "print(pred)\n",
    "\n",
    "# output normalization\n",
    "for i,p in enumerate(pred):\n",
    "    if p<0: pred[i] = 0"
   ]
  },
  {
   "cell_type": "code",
   "execution_count": null,
   "metadata": {},
   "outputs": [],
   "source": [
    "with open(\"data/predictions.csv\", 'w') as f:\n",
    "    writer = csv.writer(f)\n",
    "    writer.writerow([\"TweetID\", \"retweets_count\"])\n",
    "    for index, prediction in enumerate(pred):\n",
    "        writer.writerow([str(tweets[index]) , str(int(prediction))])"
   ]
  },
  {
   "cell_type": "code",
   "execution_count": null,
   "metadata": {},
   "outputs": [],
   "source": []
  }
 ],
 "metadata": {
  "kernelspec": {
   "display_name": "Python 3.10.6 ('venv': venv)",
   "language": "python",
   "name": "python3"
  },
  "language_info": {
   "codemirror_mode": {
    "name": "ipython",
    "version": 3
   },
   "file_extension": ".py",
   "mimetype": "text/x-python",
   "name": "python",
   "nbconvert_exporter": "python",
   "pygments_lexer": "ipython3",
   "version": "3.10.6"
  },
  "orig_nbformat": 4,
  "vscode": {
   "interpreter": {
    "hash": "2b76f9357de510751682414c7cddbaacea429d985ca72e90da955bd41bf6fe1e"
   }
  }
 },
 "nbformat": 4,
 "nbformat_minor": 2
}

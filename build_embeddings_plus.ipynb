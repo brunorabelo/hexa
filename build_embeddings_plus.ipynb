{
 "cells": [
  {
   "cell_type": "code",
   "execution_count": 1,
   "metadata": {},
   "outputs": [
    {
     "name": "stderr",
     "output_type": "stream",
     "text": [
      "2022-12-06 20:35:49.934976: I tensorflow/core/platform/cpu_feature_guard.cc:193] This TensorFlow binary is optimized with oneAPI Deep Neural Network Library (oneDNN) to use the following CPU instructions in performance-critical operations:  AVX2 AVX_VNNI FMA\n",
      "To enable them in other operations, rebuild TensorFlow with the appropriate compiler flags.\n",
      "2022-12-06 20:35:50.022153: I tensorflow/core/util/util.cc:169] oneDNN custom operations are on. You may see slightly different numerical results due to floating-point round-off errors from different computation orders. To turn them off, set the environment variable `TF_ENABLE_ONEDNN_OPTS=0`.\n",
      "2022-12-06 20:35:50.044930: E tensorflow/stream_executor/cuda/cuda_blas.cc:2981] Unable to register cuBLAS factory: Attempting to register factory for plugin cuBLAS when one has already been registered\n",
      "2022-12-06 20:35:50.457547: W tensorflow/stream_executor/platform/default/dso_loader.cc:64] Could not load dynamic library 'libnvinfer.so.7'; dlerror: libnvinfer.so.7: cannot open shared object file: No such file or directory\n",
      "2022-12-06 20:35:50.457589: W tensorflow/stream_executor/platform/default/dso_loader.cc:64] Could not load dynamic library 'libnvinfer_plugin.so.7'; dlerror: libnvinfer_plugin.so.7: cannot open shared object file: No such file or directory\n",
      "2022-12-06 20:35:50.457592: W tensorflow/compiler/tf2tensorrt/utils/py_utils.cc:38] TF-TRT Warning: Cannot dlopen some TensorRT libraries. If you would like to use Nvidia GPU with TensorRT, please make sure the missing libraries mentioned above are installed properly.\n",
      "2022-12-06 20:35:50.957587: E tensorflow/stream_executor/cuda/cuda_driver.cc:265] failed call to cuInit: CUDA_ERROR_SYSTEM_DRIVER_MISMATCH: system has unsupported display driver / cuda driver combination\n",
      "2022-12-06 20:35:50.957610: I tensorflow/stream_executor/cuda/cuda_diagnostics.cc:169] retrieving CUDA diagnostic information for host: danilo-Nitro-AN515-58\n",
      "2022-12-06 20:35:50.957614: I tensorflow/stream_executor/cuda/cuda_diagnostics.cc:176] hostname: danilo-Nitro-AN515-58\n",
      "2022-12-06 20:35:50.957688: I tensorflow/stream_executor/cuda/cuda_diagnostics.cc:200] libcuda reported version is: 510.108.3\n",
      "2022-12-06 20:35:50.957699: I tensorflow/stream_executor/cuda/cuda_diagnostics.cc:204] kernel reported version is: 525.60.11\n",
      "2022-12-06 20:35:50.957702: E tensorflow/stream_executor/cuda/cuda_diagnostics.cc:313] kernel version 525.60.11 does not match DSO version 510.108.3 -- cannot find working devices in this configuration\n"
     ]
    }
   ],
   "source": [
    "import csv\n",
    "import numpy as np\n",
    "import pandas as pd\n",
    "\n",
    "import data\n",
    "# Word2vec\n",
    "from gensim.models import Word2Vec\n",
    "from gensim.utils import tokenize\n",
    "from unidecode import unidecode"
   ]
  },
  {
   "cell_type": "code",
   "execution_count": 2,
   "metadata": {},
   "outputs": [],
   "source": [
    "train_data = pd.read_csv(\"data/train.csv\")"
   ]
  },
  {
   "cell_type": "code",
   "execution_count": 3,
   "metadata": {},
   "outputs": [],
   "source": [
    "# embedding dimension\n",
    "n_dim = 32"
   ]
  },
  {
   "cell_type": "code",
   "execution_count": 4,
   "metadata": {},
   "outputs": [
    {
     "name": "stdout",
     "output_type": "stream",
     "text": [
      "[['rt', 'refarcir', 'macron', 'ans', 'nom', 'prepare'], ['populaire'], ['faut', 'degager', 'cingle'], ['enseignants', 'mettre', 'prescriptions', 'president', 'republique', 'faut', 'croire', 'president', 'donner', 'periode', 'compte', 'mesures', 'appliquees', 'grever'], ['mafieuse', 'oppressive', 'macron']]\n"
     ]
    }
   ],
   "source": [
    "sentences = [list(tokenize(s, deacc=True, lower=True)) for s in train_data['text']]\n",
    "print(sentences[:5])"
   ]
  },
  {
   "cell_type": "code",
   "execution_count": 5,
   "metadata": {},
   "outputs": [
    {
     "data": {
      "text/plain": "(11758500, 13100508)"
     },
     "execution_count": 5,
     "metadata": {},
     "output_type": "execute_result"
    }
   ],
   "source": [
    "model = Word2Vec(vector_size=n_dim, window=5, min_count=3, workers=7)\n",
    "model.build_vocab(sentences)\n",
    "model.train(sentences, total_examples=model.corpus_count, epochs=4)"
   ]
  },
  {
   "cell_type": "code",
   "execution_count": 6,
   "metadata": {},
   "outputs": [],
   "source": [
    "embeddings = np.zeros((train_data.shape[0], n_dim))"
   ]
  },
  {
   "cell_type": "code",
   "execution_count": 7,
   "outputs": [],
   "source": [
    "found, not_found = [], []\n",
    "usage = []"
   ],
   "metadata": {
    "collapsed": false
   }
  },
  {
   "cell_type": "code",
   "execution_count": 8,
   "metadata": {},
   "outputs": [],
   "source": [
    "for idx in range(train_data.shape[0]):\n",
    "    curr_usage = 0\n",
    "    for s in train_data.loc[idx, \"text\"].split():\n",
    "        try:\n",
    "            if len(s) >= 3:\n",
    "                embeddings[idx] += model.wv[unidecode(s).lower()]\n",
    "                found.append(s)\n",
    "                curr_usage += 1\n",
    "        except:\n",
    "            not_found.append(s)\n",
    "            pass\n",
    "            # print(idx, unidecode(s).lower())\n",
    "    usage.append((curr_usage, len(train_data.loc[idx, \"text\"].split())))"
   ]
  },
  {
   "cell_type": "code",
   "execution_count": 9,
   "outputs": [
    {
     "name": "stdout",
     "output_type": "stream",
     "text": [
      "['macron', 'ans', 'nom', 'prépare', 'populaire', 'faut', 'dégager', 'cinglé', 'enseignants', 'mettre', 'prescriptions', 'président', 'république', 'faut', 'croire', 'président', 'donner', 'période', 'compte', 'mesures', 'appliquées', 'grever', 'mafieuse', 'oppressive', 'macron', 'équipe', 'campagne', 'macron', 'prie', 'soutien', 'sarko', 'bizarre', 'bizarre', 'cousin', 'sensés', 'dems', 'votent', 'pauvre', 'envoies', 'macron', 'chameau', 'cheval', 'dessiné', 'commission', 'emmanuel', 'macron', 'annule', 'venue', 'soirée', 'électorale', 'bfmtv', 'chaîne', 'prend', 'décision', 'radicale', 'violer', 'pauvre', 'ukrainienne', 'africains', 'düsseldorf', 'petites', 'minutes', 'temps', 'temps', 'bfm', 'heures', 'offre', 'marcheurs', 'roi', 'connard', 'dégoûte', 'poutou', 'continuer', 'battre', 'gonfler', 'intentions', 'vote', 'quinquennat', 'macron', 'série', 'ininterrompue', 'plans', 'com', 'apparence', 'passe', 'melenchon', 'jamais', 'insulter', 'macron', 'publiquement', 'plateau', 'remarque', 'devrais', 'essayer', 'crier', 'insanités', 'lieu', 'extérieur', 'visites', 'donne'] ['refarcir', 'abusée', 'carpet', 'bombing', 'rihards', 'kols', 'démentes', 'réabonne', 'finosello', 'bellaiche', 'actuell', 'rudolph', 'bobobobo', 'voaaaaaa', 'mélcuche', 'tssss', 'emmmerde', 'tribalistes', 'bottons', 'levossuet', 'connaîtriez', 'beauferie', 'shengen', 'coulons', 'malinké', 'plaisantent', 'barhein', 'donbassinsider', 'lila', 'passionnellement', 'verca', 'graët', 'flattez', 'eroc', 'lebrun', 'marquaient', 'goals', 'aericle', 'rasait', 'rasait', 'sef', 'prisse', 'tvadp', 'grisbi', 'betterave', 'knowledge', 'quasimodo', 'honnnte', 'sakurai', 'fighter', 'pulmonaires', 'locomoteurs', 'autodemolition', 'rokaia', 'bwqhhqhaha', 'bwahahahhahhahjajahahahahahahahaha', 'stériliser', 'bovary', 'gldf', 'validiez', 'collectionneurs', 'colargol', 'surjoués', 'introuvables', 'départir', 'mackingsey', 'pufff', 'syndiquez', 'encartez', 'architecturaux', 'martien', 'grenobloise', 'quistrebert', 'saispas', 'cequ', 'furreur', 'oendemie', 'cinoch', 'anaconda', 'formole', 'hazlewood', 'germanophone', 'méridional', 'quouaaa', 'souh', 'rone', 'ttu', 'macau', 'décoloniser', 'beinsports', 'tambutet', 'sesboüé', 'nguyen', 'nooooonnn', 'utopia', 'mposera', 'dancher', 'émiettée', 'balva', 'satisfaisants']\n"
     ]
    }
   ],
   "source": [
    "print(found[:100], not_found[:100])"
   ],
   "metadata": {
    "collapsed": false
   }
  },
  {
   "cell_type": "code",
   "execution_count": 10,
   "outputs": [
    {
     "name": "stdout",
     "output_type": "stream",
     "text": [
      "3094170\n",
      "70814\n"
     ]
    }
   ],
   "source": [
    "print(len(found))\n",
    "print(len(not_found))"
   ],
   "metadata": {
    "collapsed": false
   }
  },
  {
   "cell_type": "code",
   "execution_count": 11,
   "outputs": [
    {
     "name": "stdout",
     "output_type": "stream",
     "text": [
      "[(4, 6), (1, 1), (3, 3), (14, 14), (3, 3), (13, 13), (6, 6), (11, 11), (5, 6), (14, 14), (3, 3), (7, 9), (2, 2), (17, 19), (6, 7), (10, 10), (4, 4), (2, 2), (8, 8), (8, 8), (4, 4), (4, 4), (4, 5), (16, 16), (18, 19), (13, 13), (18, 18), (6, 6), (10, 10), (19, 19), (4, 4), (2, 2), (9, 12), (12, 14), (8, 8), (11, 11), (13, 13), (13, 13), (8, 8), (6, 7), (7, 7), (18, 18), (4, 4), (7, 7), (14, 14), (14, 15), (7, 7), (12, 12), (8, 10), (3, 3), (5, 5), (19, 19), (11, 11), (6, 7), (1, 1), (16, 18), (3, 3), (9, 13), (4, 4), (12, 12), (12, 12), (6, 6), (6, 7), (8, 8), (1, 1), (1, 2), (2, 2), (3, 4), (12, 13), (13, 14), (4, 4), (5, 5), (4, 7), (10, 10), (5, 5), (8, 9), (5, 5), (17, 17), (8, 9), (11, 11), (8, 8), (3, 3), (4, 4), (3, 4), (18, 18), (5, 6), (9, 9), (6, 8), (4, 4), (13, 13), (6, 7), (6, 7), (7, 7), (14, 15), (4, 4), (16, 16), (13, 14), (4, 4), (2, 3), (6, 6)]\n"
     ]
    }
   ],
   "source": [
    "print(usage[:100])"
   ],
   "metadata": {
    "collapsed": false
   }
  },
  {
   "cell_type": "code",
   "execution_count": 12,
   "metadata": {},
   "outputs": [],
   "source": [
    "df_new = pd.concat([train_data, pd.DataFrame(embeddings)], axis=1)"
   ]
  },
  {
   "cell_type": "code",
   "execution_count": 13,
   "metadata": {},
   "outputs": [
    {
     "data": {
      "text/plain": "                                                     text  retweets_count  \\\n0                      rt refarcir macron ans nom prépare               3   \n1                                               populaire               0   \n2                                     faut dégager cinglé               3   \n3       enseignants mettre prescriptions président rép...               0   \n4                              mafieuse oppressive macron               0   \n...                                                   ...             ...   \n353964                     gonflette tour raciste frustré               0   \n353965  france caste crapuleuse encadrée gangsters irr...               0   \n353966                      eric zemmour français berbère               3   \n353967                           gauchistes dépression pq               0   \n353968      algérie emmanuel macron grande histoire amour               0   \n\n        favorites_count  followers_count  statuses_count  friends_count  \\\n0                     0             3682          453535           3628   \n1                     0               86            1016            284   \n2                     1             1944           28234           1995   \n3                     0                1            1072              0   \n4                     0            13957           25311          10841   \n...                 ...              ...             ...            ...   \n353964                0               34            1509             55   \n353965                0               89           11166            127   \n353966                0             1888             712           3086   \n353967                0              139             486            320   \n353968                0                0              82             24   \n\n       mentions                         urls  verified hashtags  ...  \\\n0            []                           []         0       []  ...   \n1            []                           []         0       []  ...   \n2            []                           []         0       []  ...   \n3            []  ['https://t.co/rytlted08g']         0       []  ...   \n4            []                           []         0       []  ...   \n...         ...                          ...       ...      ...  ...   \n353964       []  ['https://t.co/pma33zhslx']         0       []  ...   \n353965       []                           []         0       []  ...   \n353966       []                           []         0       []  ...   \n353967       []                           []         0       []  ...   \n353968       []                           []         0       []  ...   \n\n               22        23        24        25        26        27        28  \\\n0        4.646532 -0.906124  2.260742  3.168564 -1.401000 -1.951112 -2.020051   \n1        0.303377 -0.955376  1.113358  0.951807 -2.460639 -0.231257 -0.371027   \n2        4.507827  1.435595  0.588664  0.873489 -4.487713  2.014378 -0.171286   \n3       11.439668  0.811828 -7.714990  8.646625 -8.791422  1.476102 -5.360216   \n4        1.261369 -0.534618  1.683347  0.508542 -2.935206 -1.011417  0.244173   \n...           ...       ...       ...       ...       ...       ...       ...   \n353964   1.942423  0.090860  0.642374 -1.203738 -8.320486  2.128591  2.228518   \n353965   4.546421 -4.839086  2.855232  4.320019 -3.034552 -1.043354  0.067186   \n353966   8.608120 -4.907044  5.765294 -1.774291 -9.106257  0.767960  4.852843   \n353967   0.255871 -1.879965 -0.889584  0.561174 -2.839007  1.631688  1.503662   \n353968   9.337715 -5.693635  3.566816  5.580498 -2.732101 -2.810578 -3.436004   \n\n               29         30         31  \n0       -2.999555  -1.528810  -2.534579  \n1       -0.499201  -0.625621   2.514381  \n2       -2.959697  -2.425393  -4.573173  \n3       -6.502421 -18.691670 -17.289281  \n4       -1.462812  -0.624479  -0.903896  \n...           ...        ...        ...  \n353964  -3.868133  -0.779345   0.572256  \n353965  -5.281217  -2.535276  -0.906507  \n353966  -7.070803   1.484933  -2.572688  \n353967  -0.682619  -0.802378   0.501271  \n353968 -14.487615   1.971602   1.081630  \n\n[353969 rows x 44 columns]",
      "text/html": "<div>\n<style scoped>\n    .dataframe tbody tr th:only-of-type {\n        vertical-align: middle;\n    }\n\n    .dataframe tbody tr th {\n        vertical-align: top;\n    }\n\n    .dataframe thead th {\n        text-align: right;\n    }\n</style>\n<table border=\"1\" class=\"dataframe\">\n  <thead>\n    <tr style=\"text-align: right;\">\n      <th></th>\n      <th>text</th>\n      <th>retweets_count</th>\n      <th>favorites_count</th>\n      <th>followers_count</th>\n      <th>statuses_count</th>\n      <th>friends_count</th>\n      <th>mentions</th>\n      <th>urls</th>\n      <th>verified</th>\n      <th>hashtags</th>\n      <th>...</th>\n      <th>22</th>\n      <th>23</th>\n      <th>24</th>\n      <th>25</th>\n      <th>26</th>\n      <th>27</th>\n      <th>28</th>\n      <th>29</th>\n      <th>30</th>\n      <th>31</th>\n    </tr>\n  </thead>\n  <tbody>\n    <tr>\n      <th>0</th>\n      <td>rt refarcir macron ans nom prépare</td>\n      <td>3</td>\n      <td>0</td>\n      <td>3682</td>\n      <td>453535</td>\n      <td>3628</td>\n      <td>[]</td>\n      <td>[]</td>\n      <td>0</td>\n      <td>[]</td>\n      <td>...</td>\n      <td>4.646532</td>\n      <td>-0.906124</td>\n      <td>2.260742</td>\n      <td>3.168564</td>\n      <td>-1.401000</td>\n      <td>-1.951112</td>\n      <td>-2.020051</td>\n      <td>-2.999555</td>\n      <td>-1.528810</td>\n      <td>-2.534579</td>\n    </tr>\n    <tr>\n      <th>1</th>\n      <td>populaire</td>\n      <td>0</td>\n      <td>0</td>\n      <td>86</td>\n      <td>1016</td>\n      <td>284</td>\n      <td>[]</td>\n      <td>[]</td>\n      <td>0</td>\n      <td>[]</td>\n      <td>...</td>\n      <td>0.303377</td>\n      <td>-0.955376</td>\n      <td>1.113358</td>\n      <td>0.951807</td>\n      <td>-2.460639</td>\n      <td>-0.231257</td>\n      <td>-0.371027</td>\n      <td>-0.499201</td>\n      <td>-0.625621</td>\n      <td>2.514381</td>\n    </tr>\n    <tr>\n      <th>2</th>\n      <td>faut dégager cinglé</td>\n      <td>3</td>\n      <td>1</td>\n      <td>1944</td>\n      <td>28234</td>\n      <td>1995</td>\n      <td>[]</td>\n      <td>[]</td>\n      <td>0</td>\n      <td>[]</td>\n      <td>...</td>\n      <td>4.507827</td>\n      <td>1.435595</td>\n      <td>0.588664</td>\n      <td>0.873489</td>\n      <td>-4.487713</td>\n      <td>2.014378</td>\n      <td>-0.171286</td>\n      <td>-2.959697</td>\n      <td>-2.425393</td>\n      <td>-4.573173</td>\n    </tr>\n    <tr>\n      <th>3</th>\n      <td>enseignants mettre prescriptions président rép...</td>\n      <td>0</td>\n      <td>0</td>\n      <td>1</td>\n      <td>1072</td>\n      <td>0</td>\n      <td>[]</td>\n      <td>['https://t.co/rytlted08g']</td>\n      <td>0</td>\n      <td>[]</td>\n      <td>...</td>\n      <td>11.439668</td>\n      <td>0.811828</td>\n      <td>-7.714990</td>\n      <td>8.646625</td>\n      <td>-8.791422</td>\n      <td>1.476102</td>\n      <td>-5.360216</td>\n      <td>-6.502421</td>\n      <td>-18.691670</td>\n      <td>-17.289281</td>\n    </tr>\n    <tr>\n      <th>4</th>\n      <td>mafieuse oppressive macron</td>\n      <td>0</td>\n      <td>0</td>\n      <td>13957</td>\n      <td>25311</td>\n      <td>10841</td>\n      <td>[]</td>\n      <td>[]</td>\n      <td>0</td>\n      <td>[]</td>\n      <td>...</td>\n      <td>1.261369</td>\n      <td>-0.534618</td>\n      <td>1.683347</td>\n      <td>0.508542</td>\n      <td>-2.935206</td>\n      <td>-1.011417</td>\n      <td>0.244173</td>\n      <td>-1.462812</td>\n      <td>-0.624479</td>\n      <td>-0.903896</td>\n    </tr>\n    <tr>\n      <th>...</th>\n      <td>...</td>\n      <td>...</td>\n      <td>...</td>\n      <td>...</td>\n      <td>...</td>\n      <td>...</td>\n      <td>...</td>\n      <td>...</td>\n      <td>...</td>\n      <td>...</td>\n      <td>...</td>\n      <td>...</td>\n      <td>...</td>\n      <td>...</td>\n      <td>...</td>\n      <td>...</td>\n      <td>...</td>\n      <td>...</td>\n      <td>...</td>\n      <td>...</td>\n      <td>...</td>\n    </tr>\n    <tr>\n      <th>353964</th>\n      <td>gonflette tour raciste frustré</td>\n      <td>0</td>\n      <td>0</td>\n      <td>34</td>\n      <td>1509</td>\n      <td>55</td>\n      <td>[]</td>\n      <td>['https://t.co/pma33zhslx']</td>\n      <td>0</td>\n      <td>[]</td>\n      <td>...</td>\n      <td>1.942423</td>\n      <td>0.090860</td>\n      <td>0.642374</td>\n      <td>-1.203738</td>\n      <td>-8.320486</td>\n      <td>2.128591</td>\n      <td>2.228518</td>\n      <td>-3.868133</td>\n      <td>-0.779345</td>\n      <td>0.572256</td>\n    </tr>\n    <tr>\n      <th>353965</th>\n      <td>france caste crapuleuse encadrée gangsters irr...</td>\n      <td>0</td>\n      <td>0</td>\n      <td>89</td>\n      <td>11166</td>\n      <td>127</td>\n      <td>[]</td>\n      <td>[]</td>\n      <td>0</td>\n      <td>[]</td>\n      <td>...</td>\n      <td>4.546421</td>\n      <td>-4.839086</td>\n      <td>2.855232</td>\n      <td>4.320019</td>\n      <td>-3.034552</td>\n      <td>-1.043354</td>\n      <td>0.067186</td>\n      <td>-5.281217</td>\n      <td>-2.535276</td>\n      <td>-0.906507</td>\n    </tr>\n    <tr>\n      <th>353966</th>\n      <td>eric zemmour français berbère</td>\n      <td>3</td>\n      <td>0</td>\n      <td>1888</td>\n      <td>712</td>\n      <td>3086</td>\n      <td>[]</td>\n      <td>[]</td>\n      <td>0</td>\n      <td>[]</td>\n      <td>...</td>\n      <td>8.608120</td>\n      <td>-4.907044</td>\n      <td>5.765294</td>\n      <td>-1.774291</td>\n      <td>-9.106257</td>\n      <td>0.767960</td>\n      <td>4.852843</td>\n      <td>-7.070803</td>\n      <td>1.484933</td>\n      <td>-2.572688</td>\n    </tr>\n    <tr>\n      <th>353967</th>\n      <td>gauchistes dépression pq</td>\n      <td>0</td>\n      <td>0</td>\n      <td>139</td>\n      <td>486</td>\n      <td>320</td>\n      <td>[]</td>\n      <td>[]</td>\n      <td>0</td>\n      <td>[]</td>\n      <td>...</td>\n      <td>0.255871</td>\n      <td>-1.879965</td>\n      <td>-0.889584</td>\n      <td>0.561174</td>\n      <td>-2.839007</td>\n      <td>1.631688</td>\n      <td>1.503662</td>\n      <td>-0.682619</td>\n      <td>-0.802378</td>\n      <td>0.501271</td>\n    </tr>\n    <tr>\n      <th>353968</th>\n      <td>algérie emmanuel macron grande histoire amour</td>\n      <td>0</td>\n      <td>0</td>\n      <td>0</td>\n      <td>82</td>\n      <td>24</td>\n      <td>[]</td>\n      <td>[]</td>\n      <td>0</td>\n      <td>[]</td>\n      <td>...</td>\n      <td>9.337715</td>\n      <td>-5.693635</td>\n      <td>3.566816</td>\n      <td>5.580498</td>\n      <td>-2.732101</td>\n      <td>-2.810578</td>\n      <td>-3.436004</td>\n      <td>-14.487615</td>\n      <td>1.971602</td>\n      <td>1.081630</td>\n    </tr>\n  </tbody>\n</table>\n<p>353969 rows × 44 columns</p>\n</div>"
     },
     "metadata": {},
     "output_type": "display_data"
    }
   ],
   "source": [
    "display(df_new)"
   ]
  },
  {
   "cell_type": "code",
   "execution_count": 14,
   "metadata": {
    "collapsed": false
   },
   "outputs": [],
   "source": [
    "file_path = f\"data/train_with_embeddings.csv\""
   ]
  },
  {
   "cell_type": "code",
   "execution_count": 15,
   "metadata": {},
   "outputs": [],
   "source": [
    "df_new.to_csv(file_path)"
   ]
  },
  {
   "cell_type": "code",
   "execution_count": 16,
   "metadata": {},
   "outputs": [],
   "source": [
    "eval_data = pd.read_csv(\"data/evaluation.csv\")"
   ]
  },
  {
   "cell_type": "code",
   "execution_count": 17,
   "metadata": {},
   "outputs": [],
   "source": [
    "embeddings = np.zeros((eval_data.shape[0], n_dim))"
   ]
  },
  {
   "cell_type": "code",
   "execution_count": 18,
   "metadata": {},
   "outputs": [],
   "source": [
    "for idx in range(eval_data.shape[0]):\n",
    "    for s in eval_data.loc[idx, \"text\"].split():\n",
    "        try:\n",
    "            embeddings[idx] += model.wv[unidecode(s).lower()]\n",
    "        except:\n",
    "            pass\n",
    "            # print(idx, unidecode(s).lower())"
   ]
  },
  {
   "cell_type": "code",
   "execution_count": 19,
   "metadata": {},
   "outputs": [],
   "source": [
    "df_new = pd.concat([eval_data, pd.DataFrame(embeddings)], axis=1)"
   ]
  },
  {
   "cell_type": "code",
   "execution_count": 20,
   "metadata": {},
   "outputs": [
    {
     "data": {
      "text/plain": "                                                     text  favorites_count  \\\n0                              descendue pourcentage vote                0   \n1                        photo demande arbre généalogique                0   \n2              dossiers promis poste gars vraiment fiable                6   \n3       lol cas faut second tour macron sortir définit...                2   \n4       zemmour putain discours propagandiste littéral...                0   \n...                                                   ...              ...   \n117985                       balais inexcusable vote veut                0   \n117986  balayant rap borloo mâles blcs commis faute fo...                0   \n117987  triste réalité covid tue malades macron veille...               12   \n117988  excellente idée pouvez réussir démarche crise ...                0   \n117989  rt revivez moments forts rencontre président r...                0   \n\n        followers_count  statuses_count  friends_count mentions  \\\n0                    85            4442            327       []   \n1                   427           33282            443       []   \n2                  1127           13111           1596       []   \n3                  1699           25760           2036       []   \n4                   249           20718            369       []   \n...                 ...             ...            ...      ...   \n117985                4             194             64       []   \n117986              744           39489            894       []   \n117987              924            2270            159       []   \n117988                5               4             80       []   \n117989              555            5703            149       []   \n\n                                                     urls  verified  \\\n0                                                      []         0   \n1                                                      []         0   \n2                                                      []         0   \n3                             ['https://t.co/7ox54d8dlm']         0   \n4       ['https://t.co/tsw9cg6v9j', 'https://t.co/t0j9...         0   \n...                                                   ...       ...   \n117985                                                 []         0   \n117986                        ['https://t.co/im5cs5ur1a']         0   \n117987                                                 []         0   \n117988                        ['https://t.co/xontgm06pb']         0   \n117989                                                 []         0   \n\n                                 hashtags      timestamp  ...         22  \\\n0       ['presidentielle2022', 'hidalgo']  1647607994000  ...   0.236177   \n1                                      []  1647601275000  ...   1.224501   \n2                              ['macron']  1646900684000  ...   6.140955   \n3                                      []  1647161294000  ...  17.498280   \n4                                      []  1647724874000  ...  13.178494   \n...                                   ...            ...  ...        ...   \n117985                                 []  1647103416000  ...   1.732712   \n117986                                 []  1647490899000  ...  15.875614   \n117987                                 []  1647522384000  ...   8.539811   \n117988                                 []  1647607262000  ...  16.175381   \n117989                                 []  1647263941000  ...  11.841263   \n\n              23        24         25         26         27        28  \\\n0       1.684259  0.337494  -1.841154  -2.819763  -3.362540  0.566980   \n1      -1.906678 -0.938039   0.172506  -1.731693   2.296625 -1.628562   \n2       1.323814  0.087359   1.188006  -2.537488   4.407669 -2.399221   \n3       9.785352  8.969147  -2.368792 -25.098829 -11.513661  1.673871   \n4      -8.557063 -0.358623  10.207128 -22.118301   6.637660 -3.199759   \n...          ...       ...        ...        ...        ...       ...   \n117985 -0.234866  1.961473   0.457789  -3.606581  -2.538189 -1.665566   \n117986 -4.698699  1.880658   9.216993  -7.924570  -1.044077 -8.604853   \n117987 -4.205772  2.478307   9.407774  -6.229049  -4.018029 -2.941662   \n117988 -8.453264  0.512585  11.065447  -2.040199  -0.690955 -3.653930   \n117989 -3.148050  1.130478   3.483392   1.371401  -1.039810 -3.232069   \n\n               29         30         31  \n0        0.270283  -1.904030   0.906213  \n1        1.963228   1.429320  -3.019880  \n2       -2.754585  -3.754223  -2.722256  \n3      -13.322234  -4.362976  -6.330258  \n4      -14.670279  -3.621372  -7.693866  \n...           ...        ...        ...  \n117985  -1.775454  -2.409455  -2.009746  \n117986  -4.796047 -12.932811  -5.407116  \n117987 -12.503990  -7.855281  -8.272663  \n117988  -4.793446 -14.500380 -11.265319  \n117989   1.136495  -6.311646  -4.345302  \n\n[117990 rows x 43 columns]",
      "text/html": "<div>\n<style scoped>\n    .dataframe tbody tr th:only-of-type {\n        vertical-align: middle;\n    }\n\n    .dataframe tbody tr th {\n        vertical-align: top;\n    }\n\n    .dataframe thead th {\n        text-align: right;\n    }\n</style>\n<table border=\"1\" class=\"dataframe\">\n  <thead>\n    <tr style=\"text-align: right;\">\n      <th></th>\n      <th>text</th>\n      <th>favorites_count</th>\n      <th>followers_count</th>\n      <th>statuses_count</th>\n      <th>friends_count</th>\n      <th>mentions</th>\n      <th>urls</th>\n      <th>verified</th>\n      <th>hashtags</th>\n      <th>timestamp</th>\n      <th>...</th>\n      <th>22</th>\n      <th>23</th>\n      <th>24</th>\n      <th>25</th>\n      <th>26</th>\n      <th>27</th>\n      <th>28</th>\n      <th>29</th>\n      <th>30</th>\n      <th>31</th>\n    </tr>\n  </thead>\n  <tbody>\n    <tr>\n      <th>0</th>\n      <td>descendue pourcentage vote</td>\n      <td>0</td>\n      <td>85</td>\n      <td>4442</td>\n      <td>327</td>\n      <td>[]</td>\n      <td>[]</td>\n      <td>0</td>\n      <td>['presidentielle2022', 'hidalgo']</td>\n      <td>1647607994000</td>\n      <td>...</td>\n      <td>0.236177</td>\n      <td>1.684259</td>\n      <td>0.337494</td>\n      <td>-1.841154</td>\n      <td>-2.819763</td>\n      <td>-3.362540</td>\n      <td>0.566980</td>\n      <td>0.270283</td>\n      <td>-1.904030</td>\n      <td>0.906213</td>\n    </tr>\n    <tr>\n      <th>1</th>\n      <td>photo demande arbre généalogique</td>\n      <td>0</td>\n      <td>427</td>\n      <td>33282</td>\n      <td>443</td>\n      <td>[]</td>\n      <td>[]</td>\n      <td>0</td>\n      <td>[]</td>\n      <td>1647601275000</td>\n      <td>...</td>\n      <td>1.224501</td>\n      <td>-1.906678</td>\n      <td>-0.938039</td>\n      <td>0.172506</td>\n      <td>-1.731693</td>\n      <td>2.296625</td>\n      <td>-1.628562</td>\n      <td>1.963228</td>\n      <td>1.429320</td>\n      <td>-3.019880</td>\n    </tr>\n    <tr>\n      <th>2</th>\n      <td>dossiers promis poste gars vraiment fiable</td>\n      <td>6</td>\n      <td>1127</td>\n      <td>13111</td>\n      <td>1596</td>\n      <td>[]</td>\n      <td>[]</td>\n      <td>0</td>\n      <td>['macron']</td>\n      <td>1646900684000</td>\n      <td>...</td>\n      <td>6.140955</td>\n      <td>1.323814</td>\n      <td>0.087359</td>\n      <td>1.188006</td>\n      <td>-2.537488</td>\n      <td>4.407669</td>\n      <td>-2.399221</td>\n      <td>-2.754585</td>\n      <td>-3.754223</td>\n      <td>-2.722256</td>\n    </tr>\n    <tr>\n      <th>3</th>\n      <td>lol cas faut second tour macron sortir définit...</td>\n      <td>2</td>\n      <td>1699</td>\n      <td>25760</td>\n      <td>2036</td>\n      <td>[]</td>\n      <td>['https://t.co/7ox54d8dlm']</td>\n      <td>0</td>\n      <td>[]</td>\n      <td>1647161294000</td>\n      <td>...</td>\n      <td>17.498280</td>\n      <td>9.785352</td>\n      <td>8.969147</td>\n      <td>-2.368792</td>\n      <td>-25.098829</td>\n      <td>-11.513661</td>\n      <td>1.673871</td>\n      <td>-13.322234</td>\n      <td>-4.362976</td>\n      <td>-6.330258</td>\n    </tr>\n    <tr>\n      <th>4</th>\n      <td>zemmour putain discours propagandiste littéral...</td>\n      <td>0</td>\n      <td>249</td>\n      <td>20718</td>\n      <td>369</td>\n      <td>[]</td>\n      <td>['https://t.co/tsw9cg6v9j', 'https://t.co/t0j9...</td>\n      <td>0</td>\n      <td>[]</td>\n      <td>1647724874000</td>\n      <td>...</td>\n      <td>13.178494</td>\n      <td>-8.557063</td>\n      <td>-0.358623</td>\n      <td>10.207128</td>\n      <td>-22.118301</td>\n      <td>6.637660</td>\n      <td>-3.199759</td>\n      <td>-14.670279</td>\n      <td>-3.621372</td>\n      <td>-7.693866</td>\n    </tr>\n    <tr>\n      <th>...</th>\n      <td>...</td>\n      <td>...</td>\n      <td>...</td>\n      <td>...</td>\n      <td>...</td>\n      <td>...</td>\n      <td>...</td>\n      <td>...</td>\n      <td>...</td>\n      <td>...</td>\n      <td>...</td>\n      <td>...</td>\n      <td>...</td>\n      <td>...</td>\n      <td>...</td>\n      <td>...</td>\n      <td>...</td>\n      <td>...</td>\n      <td>...</td>\n      <td>...</td>\n      <td>...</td>\n    </tr>\n    <tr>\n      <th>117985</th>\n      <td>balais inexcusable vote veut</td>\n      <td>0</td>\n      <td>4</td>\n      <td>194</td>\n      <td>64</td>\n      <td>[]</td>\n      <td>[]</td>\n      <td>0</td>\n      <td>[]</td>\n      <td>1647103416000</td>\n      <td>...</td>\n      <td>1.732712</td>\n      <td>-0.234866</td>\n      <td>1.961473</td>\n      <td>0.457789</td>\n      <td>-3.606581</td>\n      <td>-2.538189</td>\n      <td>-1.665566</td>\n      <td>-1.775454</td>\n      <td>-2.409455</td>\n      <td>-2.009746</td>\n    </tr>\n    <tr>\n      <th>117986</th>\n      <td>balayant rap borloo mâles blcs commis faute fo...</td>\n      <td>0</td>\n      <td>744</td>\n      <td>39489</td>\n      <td>894</td>\n      <td>[]</td>\n      <td>['https://t.co/im5cs5ur1a']</td>\n      <td>0</td>\n      <td>[]</td>\n      <td>1647490899000</td>\n      <td>...</td>\n      <td>15.875614</td>\n      <td>-4.698699</td>\n      <td>1.880658</td>\n      <td>9.216993</td>\n      <td>-7.924570</td>\n      <td>-1.044077</td>\n      <td>-8.604853</td>\n      <td>-4.796047</td>\n      <td>-12.932811</td>\n      <td>-5.407116</td>\n    </tr>\n    <tr>\n      <th>117987</th>\n      <td>triste réalité covid tue malades macron veille...</td>\n      <td>12</td>\n      <td>924</td>\n      <td>2270</td>\n      <td>159</td>\n      <td>[]</td>\n      <td>[]</td>\n      <td>0</td>\n      <td>[]</td>\n      <td>1647522384000</td>\n      <td>...</td>\n      <td>8.539811</td>\n      <td>-4.205772</td>\n      <td>2.478307</td>\n      <td>9.407774</td>\n      <td>-6.229049</td>\n      <td>-4.018029</td>\n      <td>-2.941662</td>\n      <td>-12.503990</td>\n      <td>-7.855281</td>\n      <td>-8.272663</td>\n    </tr>\n    <tr>\n      <th>117988</th>\n      <td>excellente idée pouvez réussir démarche crise ...</td>\n      <td>0</td>\n      <td>5</td>\n      <td>4</td>\n      <td>80</td>\n      <td>[]</td>\n      <td>['https://t.co/xontgm06pb']</td>\n      <td>0</td>\n      <td>[]</td>\n      <td>1647607262000</td>\n      <td>...</td>\n      <td>16.175381</td>\n      <td>-8.453264</td>\n      <td>0.512585</td>\n      <td>11.065447</td>\n      <td>-2.040199</td>\n      <td>-0.690955</td>\n      <td>-3.653930</td>\n      <td>-4.793446</td>\n      <td>-14.500380</td>\n      <td>-11.265319</td>\n    </tr>\n    <tr>\n      <th>117989</th>\n      <td>rt revivez moments forts rencontre président r...</td>\n      <td>0</td>\n      <td>555</td>\n      <td>5703</td>\n      <td>149</td>\n      <td>[]</td>\n      <td>[]</td>\n      <td>0</td>\n      <td>[]</td>\n      <td>1647263941000</td>\n      <td>...</td>\n      <td>11.841263</td>\n      <td>-3.148050</td>\n      <td>1.130478</td>\n      <td>3.483392</td>\n      <td>1.371401</td>\n      <td>-1.039810</td>\n      <td>-3.232069</td>\n      <td>1.136495</td>\n      <td>-6.311646</td>\n      <td>-4.345302</td>\n    </tr>\n  </tbody>\n</table>\n<p>117990 rows × 43 columns</p>\n</div>"
     },
     "metadata": {},
     "output_type": "display_data"
    }
   ],
   "source": [
    "display(df_new)"
   ]
  },
  {
   "cell_type": "code",
   "execution_count": 21,
   "metadata": {
    "collapsed": false
   },
   "outputs": [],
   "source": [
    "file_path = f\"data/evaluation_with_embeddings.csv\""
   ]
  },
  {
   "cell_type": "code",
   "execution_count": 22,
   "metadata": {},
   "outputs": [],
   "source": [
    "df_new.to_csv(file_path)"
   ]
  },
  {
   "cell_type": "code",
   "execution_count": 22,
   "metadata": {
    "collapsed": false
   },
   "outputs": [],
   "source": []
  }
 ],
 "metadata": {
  "kernelspec": {
   "display_name": "Python 3.10.6 ('venv': venv)",
   "language": "python",
   "name": "python3"
  },
  "language_info": {
   "codemirror_mode": {
    "name": "ipython",
    "version": 3
   },
   "file_extension": ".py",
   "mimetype": "text/x-python",
   "name": "python",
   "nbconvert_exporter": "python",
   "pygments_lexer": "ipython3",
   "version": "3.10.6"
  },
  "orig_nbformat": 4,
  "vscode": {
   "interpreter": {
    "hash": "2b76f9357de510751682414c7cddbaacea429d985ca72e90da955bd41bf6fe1e"
   }
  }
 },
 "nbformat": 4,
 "nbformat_minor": 2
}

{
 "cells": [
  {
   "cell_type": "code",
   "execution_count": 186,
   "metadata": {},
   "outputs": [],
   "source": [
    "import csv\n",
    "import numpy as np\n",
    "import pandas as pd\n",
    "\n",
    "import data\n",
    "# Word2vec\n",
    "from gensim.models import Word2Vec\n",
    "from gensim.utils import tokenize\n",
    "from unidecode import unidecode"
   ]
  },
  {
   "cell_type": "code",
   "execution_count": 187,
   "metadata": {},
   "outputs": [],
   "source": [
    "train_data = pd.read_csv(\"data/train.csv\")"
   ]
  },
  {
   "cell_type": "code",
   "execution_count": 188,
   "metadata": {},
   "outputs": [],
   "source": [
    "# embedding dimension\n",
    "n_dim = 64"
   ]
  },
  {
   "cell_type": "code",
   "execution_count": 189,
   "metadata": {},
   "outputs": [
    {
     "name": "stdout",
     "output_type": "stream",
     "text": [
      "[['rt', 'refarcir', 'macron', 'ans', 'nom', 'prepare'], ['populaire'], ['faut', 'degager', 'cingle'], ['enseignants', 'mettre', 'prescriptions', 'president', 'republique', 'faut', 'croire', 'president', 'donner', 'periode', 'compte', 'mesures', 'appliquees', 'grever'], ['mafieuse', 'oppressive', 'macron']]\n"
     ]
    }
   ],
   "source": [
    "sentences = [list(tokenize(s, deacc=True, lower=True)) for s in train_data['text']]\n",
    "print(sentences[:5])"
   ]
  },
  {
   "cell_type": "code",
   "execution_count": 190,
   "metadata": {},
   "outputs": [
    {
     "data": {
      "text/plain": "(88188946, 98253810)"
     },
     "execution_count": 190,
     "metadata": {},
     "output_type": "execute_result"
    }
   ],
   "source": [
    "model = Word2Vec(vector_size=n_dim, window=5, min_count=3, workers=7)\n",
    "model.build_vocab(sentences)\n",
    "model.train(sentences, total_examples=model.corpus_count, epochs=30)"
   ]
  },
  {
   "cell_type": "code",
   "execution_count": 191,
   "metadata": {},
   "outputs": [],
   "source": [
    "embeddings = np.zeros((train_data.shape[0], n_dim))"
   ]
  },
  {
   "cell_type": "code",
   "execution_count": 192,
   "outputs": [],
   "source": [
    "found, not_found = [], []\n",
    "usage = []"
   ],
   "metadata": {
    "collapsed": false
   }
  },
  {
   "cell_type": "code",
   "execution_count": 193,
   "metadata": {},
   "outputs": [],
   "source": [
    "for idx in range(train_data.shape[0]):\n",
    "    curr_usage = 0\n",
    "    for s in train_data.loc[idx, \"text\"].split():\n",
    "        try:\n",
    "            if len(s) >= 3:\n",
    "                embeddings[idx] += model.wv[unidecode(s).lower()]\n",
    "                found.append(s)\n",
    "                curr_usage += 1\n",
    "        except:\n",
    "            not_found.append(s)\n",
    "            pass\n",
    "            # print(idx, unidecode(s).lower())\n",
    "    usage.append((curr_usage, len(train_data.loc[idx, \"text\"].split())))"
   ]
  },
  {
   "cell_type": "code",
   "execution_count": 194,
   "outputs": [
    {
     "name": "stdout",
     "output_type": "stream",
     "text": [
      "['macron', 'ans', 'nom', 'prépare', 'populaire', 'faut', 'dégager', 'cinglé', 'enseignants', 'mettre', 'prescriptions', 'président', 'république', 'faut', 'croire', 'président', 'donner', 'période', 'compte', 'mesures', 'appliquées', 'grever', 'mafieuse', 'oppressive', 'macron', 'équipe', 'campagne', 'macron', 'prie', 'soutien', 'sarko', 'bizarre', 'bizarre', 'cousin', 'sensés', 'dems', 'votent', 'pauvre', 'envoies', 'macron', 'chameau', 'cheval', 'dessiné', 'commission', 'emmanuel', 'macron', 'annule', 'venue', 'soirée', 'électorale', 'bfmtv', 'chaîne', 'prend', 'décision', 'radicale', 'violer', 'pauvre', 'ukrainienne', 'africains', 'düsseldorf', 'petites', 'minutes', 'temps', 'temps', 'bfm', 'heures', 'offre', 'marcheurs', 'roi', 'connard', 'dégoûte', 'poutou', 'continuer', 'battre', 'gonfler', 'intentions', 'vote', 'quinquennat', 'macron', 'série', 'ininterrompue', 'plans', 'com', 'apparence', 'passe', 'melenchon', 'jamais', 'insulter', 'macron', 'publiquement', 'plateau', 'remarque', 'devrais', 'essayer', 'crier', 'insanités', 'lieu', 'extérieur', 'visites', 'donne'] ['refarcir', 'abusée', 'carpet', 'bombing', 'rihards', 'kols', 'démentes', 'réabonne', 'finosello', 'bellaiche', 'actuell', 'rudolph', 'bobobobo', 'voaaaaaa', 'mélcuche', 'tssss', 'emmmerde', 'tribalistes', 'bottons', 'levossuet', 'connaîtriez', 'beauferie', 'shengen', 'coulons', 'malinké', 'plaisantent', 'barhein', 'donbassinsider', 'lila', 'passionnellement', 'verca', 'graët', 'flattez', 'eroc', 'lebrun', 'marquaient', 'goals', 'aericle', 'rasait', 'rasait', 'sef', 'prisse', 'tvadp', 'grisbi', 'betterave', 'knowledge', 'quasimodo', 'honnnte', 'sakurai', 'fighter', 'pulmonaires', 'locomoteurs', 'autodemolition', 'rokaia', 'bwqhhqhaha', 'bwahahahhahhahjajahahahahahahahaha', 'stériliser', 'bovary', 'gldf', 'validiez', 'collectionneurs', 'colargol', 'surjoués', 'introuvables', 'départir', 'mackingsey', 'pufff', 'syndiquez', 'encartez', 'architecturaux', 'martien', 'grenobloise', 'quistrebert', 'saispas', 'cequ', 'furreur', 'oendemie', 'cinoch', 'anaconda', 'formole', 'hazlewood', 'germanophone', 'méridional', 'quouaaa', 'souh', 'rone', 'ttu', 'macau', 'décoloniser', 'beinsports', 'tambutet', 'sesboüé', 'nguyen', 'nooooonnn', 'utopia', 'mposera', 'dancher', 'émiettée', 'balva', 'satisfaisants']\n"
     ]
    }
   ],
   "source": [
    "print(found[:100], not_found[:100])"
   ],
   "metadata": {
    "collapsed": false
   }
  },
  {
   "cell_type": "code",
   "execution_count": 195,
   "outputs": [
    {
     "name": "stdout",
     "output_type": "stream",
     "text": [
      "3094170\n",
      "70814\n"
     ]
    }
   ],
   "source": [
    "print(len(found))\n",
    "print(len(not_found))"
   ],
   "metadata": {
    "collapsed": false
   }
  },
  {
   "cell_type": "code",
   "execution_count": 196,
   "outputs": [
    {
     "name": "stdout",
     "output_type": "stream",
     "text": [
      "[(4, 6), (1, 1), (3, 3), (14, 14), (3, 3), (13, 13), (6, 6), (11, 11), (5, 6), (14, 14), (3, 3), (7, 9), (2, 2), (17, 19), (6, 7), (10, 10), (4, 4), (2, 2), (8, 8), (8, 8), (4, 4), (4, 4), (4, 5), (16, 16), (18, 19), (13, 13), (18, 18), (6, 6), (10, 10), (19, 19), (4, 4), (2, 2), (9, 12), (12, 14), (8, 8), (11, 11), (13, 13), (13, 13), (8, 8), (6, 7), (7, 7), (18, 18), (4, 4), (7, 7), (14, 14), (14, 15), (7, 7), (12, 12), (8, 10), (3, 3), (5, 5), (19, 19), (11, 11), (6, 7), (1, 1), (16, 18), (3, 3), (9, 13), (4, 4), (12, 12), (12, 12), (6, 6), (6, 7), (8, 8), (1, 1), (1, 2), (2, 2), (3, 4), (12, 13), (13, 14), (4, 4), (5, 5), (4, 7), (10, 10), (5, 5), (8, 9), (5, 5), (17, 17), (8, 9), (11, 11), (8, 8), (3, 3), (4, 4), (3, 4), (18, 18), (5, 6), (9, 9), (6, 8), (4, 4), (13, 13), (6, 7), (6, 7), (7, 7), (14, 15), (4, 4), (16, 16), (13, 14), (4, 4), (2, 3), (6, 6)]\n"
     ]
    }
   ],
   "source": [
    "print(usage[:100])"
   ],
   "metadata": {
    "collapsed": false
   }
  },
  {
   "cell_type": "code",
   "execution_count": 197,
   "metadata": {},
   "outputs": [],
   "source": [
    "df_new = pd.concat([train_data, pd.DataFrame(embeddings)], axis=1)"
   ]
  },
  {
   "cell_type": "code",
   "execution_count": 198,
   "metadata": {},
   "outputs": [
    {
     "data": {
      "text/plain": "                                                     text  retweets_count  \\\n0                      rt refarcir macron ans nom prépare               3   \n1                                               populaire               0   \n2                                     faut dégager cinglé               3   \n3       enseignants mettre prescriptions président rép...               0   \n4                              mafieuse oppressive macron               0   \n...                                                   ...             ...   \n353964                     gonflette tour raciste frustré               0   \n353965  france caste crapuleuse encadrée gangsters irr...               0   \n353966                      eric zemmour français berbère               3   \n353967                           gauchistes dépression pq               0   \n353968      algérie emmanuel macron grande histoire amour               0   \n\n        favorites_count  followers_count  statuses_count  friends_count  \\\n0                     0             3682          453535           3628   \n1                     0               86            1016            284   \n2                     1             1944           28234           1995   \n3                     0                1            1072              0   \n4                     0            13957           25311          10841   \n...                 ...              ...             ...            ...   \n353964                0               34            1509             55   \n353965                0               89           11166            127   \n353966                0             1888             712           3086   \n353967                0              139             486            320   \n353968                0                0              82             24   \n\n       mentions                         urls  verified hashtags  ...  \\\n0            []                           []         0       []  ...   \n1            []                           []         0       []  ...   \n2            []                           []         0       []  ...   \n3            []  ['https://t.co/rytlted08g']         0       []  ...   \n4            []                           []         0       []  ...   \n...         ...                          ...       ...      ...  ...   \n353964       []  ['https://t.co/pma33zhslx']         0       []  ...   \n353965       []                           []         0       []  ...   \n353966       []                           []         0       []  ...   \n353967       []                           []         0       []  ...   \n353968       []                           []         0       []  ...   \n\n              54         55        56        57        58        59        60  \\\n0       1.477375  -2.619478  2.379451 -2.100691 -2.053618  5.765649  4.045572   \n1      -1.561968  -1.053356  0.227053  1.417470 -0.322939 -0.043318 -0.622173   \n2      -0.898627   1.418166  2.022078  3.905925  1.718834 -1.769465  1.552497   \n3      -2.387572 -18.162987 -7.080737  6.985964  1.799002  8.261959  8.254217   \n4      -0.193948   0.149649 -0.171341 -1.353654 -1.661343  0.647350  1.451610   \n...          ...        ...       ...       ...       ...       ...       ...   \n353964 -3.957497  -5.173093  6.045044  2.488039 -0.561643 -3.089756  3.169811   \n353965  3.630719   3.071452 -6.633868 -0.712121 -2.596358  3.378789  3.095215   \n353966 -3.145975  -5.781182 -0.282523 -0.471046  1.176291  0.077825  4.831985   \n353967 -1.216523   2.407117 -0.331728  1.456821  2.062268  0.621411 -0.881871   \n353968  1.896859  -1.466223  3.446153 -5.665115 -3.688613 -2.146798  6.555598   \n\n               61         62        63  \n0        0.943415   0.226367  1.516840  \n1        0.363898  -0.392036  0.406479  \n2        1.931623  -4.257294  2.926098  \n3       10.174779 -10.607723  3.600731  \n4        0.256563  -1.216950  0.562472  \n...           ...        ...       ...  \n353964  -1.183444  -3.719602  3.344714  \n353965   2.306328  -2.475461  0.893007  \n353966  -2.863747   1.072655 -0.303862  \n353967   0.934669  -0.486399 -0.165880  \n353968   1.741403  -3.139128 -4.849123  \n\n[353969 rows x 76 columns]",
      "text/html": "<div>\n<style scoped>\n    .dataframe tbody tr th:only-of-type {\n        vertical-align: middle;\n    }\n\n    .dataframe tbody tr th {\n        vertical-align: top;\n    }\n\n    .dataframe thead th {\n        text-align: right;\n    }\n</style>\n<table border=\"1\" class=\"dataframe\">\n  <thead>\n    <tr style=\"text-align: right;\">\n      <th></th>\n      <th>text</th>\n      <th>retweets_count</th>\n      <th>favorites_count</th>\n      <th>followers_count</th>\n      <th>statuses_count</th>\n      <th>friends_count</th>\n      <th>mentions</th>\n      <th>urls</th>\n      <th>verified</th>\n      <th>hashtags</th>\n      <th>...</th>\n      <th>54</th>\n      <th>55</th>\n      <th>56</th>\n      <th>57</th>\n      <th>58</th>\n      <th>59</th>\n      <th>60</th>\n      <th>61</th>\n      <th>62</th>\n      <th>63</th>\n    </tr>\n  </thead>\n  <tbody>\n    <tr>\n      <th>0</th>\n      <td>rt refarcir macron ans nom prépare</td>\n      <td>3</td>\n      <td>0</td>\n      <td>3682</td>\n      <td>453535</td>\n      <td>3628</td>\n      <td>[]</td>\n      <td>[]</td>\n      <td>0</td>\n      <td>[]</td>\n      <td>...</td>\n      <td>1.477375</td>\n      <td>-2.619478</td>\n      <td>2.379451</td>\n      <td>-2.100691</td>\n      <td>-2.053618</td>\n      <td>5.765649</td>\n      <td>4.045572</td>\n      <td>0.943415</td>\n      <td>0.226367</td>\n      <td>1.516840</td>\n    </tr>\n    <tr>\n      <th>1</th>\n      <td>populaire</td>\n      <td>0</td>\n      <td>0</td>\n      <td>86</td>\n      <td>1016</td>\n      <td>284</td>\n      <td>[]</td>\n      <td>[]</td>\n      <td>0</td>\n      <td>[]</td>\n      <td>...</td>\n      <td>-1.561968</td>\n      <td>-1.053356</td>\n      <td>0.227053</td>\n      <td>1.417470</td>\n      <td>-0.322939</td>\n      <td>-0.043318</td>\n      <td>-0.622173</td>\n      <td>0.363898</td>\n      <td>-0.392036</td>\n      <td>0.406479</td>\n    </tr>\n    <tr>\n      <th>2</th>\n      <td>faut dégager cinglé</td>\n      <td>3</td>\n      <td>1</td>\n      <td>1944</td>\n      <td>28234</td>\n      <td>1995</td>\n      <td>[]</td>\n      <td>[]</td>\n      <td>0</td>\n      <td>[]</td>\n      <td>...</td>\n      <td>-0.898627</td>\n      <td>1.418166</td>\n      <td>2.022078</td>\n      <td>3.905925</td>\n      <td>1.718834</td>\n      <td>-1.769465</td>\n      <td>1.552497</td>\n      <td>1.931623</td>\n      <td>-4.257294</td>\n      <td>2.926098</td>\n    </tr>\n    <tr>\n      <th>3</th>\n      <td>enseignants mettre prescriptions président rép...</td>\n      <td>0</td>\n      <td>0</td>\n      <td>1</td>\n      <td>1072</td>\n      <td>0</td>\n      <td>[]</td>\n      <td>['https://t.co/rytlted08g']</td>\n      <td>0</td>\n      <td>[]</td>\n      <td>...</td>\n      <td>-2.387572</td>\n      <td>-18.162987</td>\n      <td>-7.080737</td>\n      <td>6.985964</td>\n      <td>1.799002</td>\n      <td>8.261959</td>\n      <td>8.254217</td>\n      <td>10.174779</td>\n      <td>-10.607723</td>\n      <td>3.600731</td>\n    </tr>\n    <tr>\n      <th>4</th>\n      <td>mafieuse oppressive macron</td>\n      <td>0</td>\n      <td>0</td>\n      <td>13957</td>\n      <td>25311</td>\n      <td>10841</td>\n      <td>[]</td>\n      <td>[]</td>\n      <td>0</td>\n      <td>[]</td>\n      <td>...</td>\n      <td>-0.193948</td>\n      <td>0.149649</td>\n      <td>-0.171341</td>\n      <td>-1.353654</td>\n      <td>-1.661343</td>\n      <td>0.647350</td>\n      <td>1.451610</td>\n      <td>0.256563</td>\n      <td>-1.216950</td>\n      <td>0.562472</td>\n    </tr>\n    <tr>\n      <th>...</th>\n      <td>...</td>\n      <td>...</td>\n      <td>...</td>\n      <td>...</td>\n      <td>...</td>\n      <td>...</td>\n      <td>...</td>\n      <td>...</td>\n      <td>...</td>\n      <td>...</td>\n      <td>...</td>\n      <td>...</td>\n      <td>...</td>\n      <td>...</td>\n      <td>...</td>\n      <td>...</td>\n      <td>...</td>\n      <td>...</td>\n      <td>...</td>\n      <td>...</td>\n      <td>...</td>\n    </tr>\n    <tr>\n      <th>353964</th>\n      <td>gonflette tour raciste frustré</td>\n      <td>0</td>\n      <td>0</td>\n      <td>34</td>\n      <td>1509</td>\n      <td>55</td>\n      <td>[]</td>\n      <td>['https://t.co/pma33zhslx']</td>\n      <td>0</td>\n      <td>[]</td>\n      <td>...</td>\n      <td>-3.957497</td>\n      <td>-5.173093</td>\n      <td>6.045044</td>\n      <td>2.488039</td>\n      <td>-0.561643</td>\n      <td>-3.089756</td>\n      <td>3.169811</td>\n      <td>-1.183444</td>\n      <td>-3.719602</td>\n      <td>3.344714</td>\n    </tr>\n    <tr>\n      <th>353965</th>\n      <td>france caste crapuleuse encadrée gangsters irr...</td>\n      <td>0</td>\n      <td>0</td>\n      <td>89</td>\n      <td>11166</td>\n      <td>127</td>\n      <td>[]</td>\n      <td>[]</td>\n      <td>0</td>\n      <td>[]</td>\n      <td>...</td>\n      <td>3.630719</td>\n      <td>3.071452</td>\n      <td>-6.633868</td>\n      <td>-0.712121</td>\n      <td>-2.596358</td>\n      <td>3.378789</td>\n      <td>3.095215</td>\n      <td>2.306328</td>\n      <td>-2.475461</td>\n      <td>0.893007</td>\n    </tr>\n    <tr>\n      <th>353966</th>\n      <td>eric zemmour français berbère</td>\n      <td>3</td>\n      <td>0</td>\n      <td>1888</td>\n      <td>712</td>\n      <td>3086</td>\n      <td>[]</td>\n      <td>[]</td>\n      <td>0</td>\n      <td>[]</td>\n      <td>...</td>\n      <td>-3.145975</td>\n      <td>-5.781182</td>\n      <td>-0.282523</td>\n      <td>-0.471046</td>\n      <td>1.176291</td>\n      <td>0.077825</td>\n      <td>4.831985</td>\n      <td>-2.863747</td>\n      <td>1.072655</td>\n      <td>-0.303862</td>\n    </tr>\n    <tr>\n      <th>353967</th>\n      <td>gauchistes dépression pq</td>\n      <td>0</td>\n      <td>0</td>\n      <td>139</td>\n      <td>486</td>\n      <td>320</td>\n      <td>[]</td>\n      <td>[]</td>\n      <td>0</td>\n      <td>[]</td>\n      <td>...</td>\n      <td>-1.216523</td>\n      <td>2.407117</td>\n      <td>-0.331728</td>\n      <td>1.456821</td>\n      <td>2.062268</td>\n      <td>0.621411</td>\n      <td>-0.881871</td>\n      <td>0.934669</td>\n      <td>-0.486399</td>\n      <td>-0.165880</td>\n    </tr>\n    <tr>\n      <th>353968</th>\n      <td>algérie emmanuel macron grande histoire amour</td>\n      <td>0</td>\n      <td>0</td>\n      <td>0</td>\n      <td>82</td>\n      <td>24</td>\n      <td>[]</td>\n      <td>[]</td>\n      <td>0</td>\n      <td>[]</td>\n      <td>...</td>\n      <td>1.896859</td>\n      <td>-1.466223</td>\n      <td>3.446153</td>\n      <td>-5.665115</td>\n      <td>-3.688613</td>\n      <td>-2.146798</td>\n      <td>6.555598</td>\n      <td>1.741403</td>\n      <td>-3.139128</td>\n      <td>-4.849123</td>\n    </tr>\n  </tbody>\n</table>\n<p>353969 rows × 76 columns</p>\n</div>"
     },
     "metadata": {},
     "output_type": "display_data"
    }
   ],
   "source": [
    "display(df_new)"
   ]
  },
  {
   "cell_type": "code",
   "execution_count": 199,
   "metadata": {
    "collapsed": false
   },
   "outputs": [],
   "source": [
    "file_path = f\"data/train_with_embeddings.csv\""
   ]
  },
  {
   "cell_type": "code",
   "execution_count": 200,
   "metadata": {},
   "outputs": [],
   "source": [
    "df_new.to_csv(file_path)"
   ]
  },
  {
   "cell_type": "code",
   "execution_count": 201,
   "metadata": {},
   "outputs": [],
   "source": [
    "eval_data = pd.read_csv(\"data/evaluation.csv\")"
   ]
  },
  {
   "cell_type": "code",
   "execution_count": 202,
   "metadata": {},
   "outputs": [],
   "source": [
    "embeddings = np.zeros((eval_data.shape[0], n_dim))"
   ]
  },
  {
   "cell_type": "code",
   "execution_count": 203,
   "metadata": {},
   "outputs": [],
   "source": [
    "for idx in range(eval_data.shape[0]):\n",
    "    for s in eval_data.loc[idx, \"text\"].split():\n",
    "        try:\n",
    "            embeddings[idx] += model.wv[unidecode(s).lower()]\n",
    "        except:\n",
    "            pass\n",
    "            # print(idx, unidecode(s).lower())"
   ]
  },
  {
   "cell_type": "code",
   "execution_count": 204,
   "metadata": {},
   "outputs": [],
   "source": [
    "df_new = pd.concat([eval_data, pd.DataFrame(embeddings)], axis=1)"
   ]
  },
  {
   "cell_type": "code",
   "execution_count": 205,
   "metadata": {},
   "outputs": [
    {
     "data": {
      "text/plain": "                                                     text  favorites_count  \\\n0                              descendue pourcentage vote                0   \n1                        photo demande arbre généalogique                0   \n2              dossiers promis poste gars vraiment fiable                6   \n3       lol cas faut second tour macron sortir définit...                2   \n4       zemmour putain discours propagandiste littéral...                0   \n...                                                   ...              ...   \n117985                       balais inexcusable vote veut                0   \n117986  balayant rap borloo mâles blcs commis faute fo...                0   \n117987  triste réalité covid tue malades macron veille...               12   \n117988  excellente idée pouvez réussir démarche crise ...                0   \n117989  rt revivez moments forts rencontre président r...                0   \n\n        followers_count  statuses_count  friends_count mentions  \\\n0                    85            4442            327       []   \n1                   427           33282            443       []   \n2                  1127           13111           1596       []   \n3                  1699           25760           2036       []   \n4                   249           20718            369       []   \n...                 ...             ...            ...      ...   \n117985                4             194             64       []   \n117986              744           39489            894       []   \n117987              924            2270            159       []   \n117988                5               4             80       []   \n117989              555            5703            149       []   \n\n                                                     urls  verified  \\\n0                                                      []         0   \n1                                                      []         0   \n2                                                      []         0   \n3                             ['https://t.co/7ox54d8dlm']         0   \n4       ['https://t.co/tsw9cg6v9j', 'https://t.co/t0j9...         0   \n...                                                   ...       ...   \n117985                                                 []         0   \n117986                        ['https://t.co/im5cs5ur1a']         0   \n117987                                                 []         0   \n117988                        ['https://t.co/xontgm06pb']         0   \n117989                                                 []         0   \n\n                                 hashtags      timestamp  ...         54  \\\n0       ['presidentielle2022', 'hidalgo']  1647607994000  ...  -4.936539   \n1                                      []  1647601275000  ...  -2.244986   \n2                              ['macron']  1646900684000  ...   0.785001   \n3                                      []  1647161294000  ... -19.472089   \n4                                      []  1647724874000  ...   2.101488   \n...                                   ...            ...  ...        ...   \n117985                                 []  1647103416000  ...  -3.272253   \n117986                                 []  1647490899000  ...  -2.681604   \n117987                                 []  1647522384000  ...   0.425202   \n117988                                 []  1647607262000  ...   0.913784   \n117989                                 []  1647263941000  ...  10.526956   \n\n              55         56         57         58         59        60  \\\n0      -2.252889   1.546269   2.336316  -4.728228   1.464929  2.274205   \n1      -0.859784   3.453660  -2.098631  -1.114366  -1.090945 -1.754593   \n2      -6.398176   2.500649   1.689417   1.548272  -2.272700  1.728426   \n3      -9.797417  10.106725  10.896217 -23.997370   3.380084  3.852576   \n4      -3.720692  14.217625   3.902875  11.231026   4.524144  3.303629   \n...          ...        ...        ...        ...        ...       ...   \n117985 -0.594626   3.145165   1.599861  -1.518942   2.240286  0.610335   \n117986  1.479559  -3.693645   0.116239   4.204256  -2.152952  2.661536   \n117987 -2.737566   1.363717  -5.270310  -1.445753  10.096212  2.660169   \n117988  7.479163 -13.498572   3.931908  -0.286913  -2.445809 -8.773067   \n117989  0.895365 -11.964847   0.674083   2.240574   1.600875  1.972853   \n\n              61         62         63  \n0      -0.609707  -1.210787   3.147254  \n1      -1.415446   4.714002  -0.078210  \n2       2.205752  -4.645946   0.001023  \n3      -2.348574  -1.046452   4.525420  \n4       5.939966 -12.227510  13.097947  \n...          ...        ...        ...  \n117985  2.336141  -1.096964   6.024372  \n117986  0.069991  -8.975336   9.960458  \n117987 -5.796501  -6.049362  -1.261608  \n117988 -7.044116  -4.967737  -2.193959  \n117989 -4.728106  -2.130684  -1.008159  \n\n[117990 rows x 75 columns]",
      "text/html": "<div>\n<style scoped>\n    .dataframe tbody tr th:only-of-type {\n        vertical-align: middle;\n    }\n\n    .dataframe tbody tr th {\n        vertical-align: top;\n    }\n\n    .dataframe thead th {\n        text-align: right;\n    }\n</style>\n<table border=\"1\" class=\"dataframe\">\n  <thead>\n    <tr style=\"text-align: right;\">\n      <th></th>\n      <th>text</th>\n      <th>favorites_count</th>\n      <th>followers_count</th>\n      <th>statuses_count</th>\n      <th>friends_count</th>\n      <th>mentions</th>\n      <th>urls</th>\n      <th>verified</th>\n      <th>hashtags</th>\n      <th>timestamp</th>\n      <th>...</th>\n      <th>54</th>\n      <th>55</th>\n      <th>56</th>\n      <th>57</th>\n      <th>58</th>\n      <th>59</th>\n      <th>60</th>\n      <th>61</th>\n      <th>62</th>\n      <th>63</th>\n    </tr>\n  </thead>\n  <tbody>\n    <tr>\n      <th>0</th>\n      <td>descendue pourcentage vote</td>\n      <td>0</td>\n      <td>85</td>\n      <td>4442</td>\n      <td>327</td>\n      <td>[]</td>\n      <td>[]</td>\n      <td>0</td>\n      <td>['presidentielle2022', 'hidalgo']</td>\n      <td>1647607994000</td>\n      <td>...</td>\n      <td>-4.936539</td>\n      <td>-2.252889</td>\n      <td>1.546269</td>\n      <td>2.336316</td>\n      <td>-4.728228</td>\n      <td>1.464929</td>\n      <td>2.274205</td>\n      <td>-0.609707</td>\n      <td>-1.210787</td>\n      <td>3.147254</td>\n    </tr>\n    <tr>\n      <th>1</th>\n      <td>photo demande arbre généalogique</td>\n      <td>0</td>\n      <td>427</td>\n      <td>33282</td>\n      <td>443</td>\n      <td>[]</td>\n      <td>[]</td>\n      <td>0</td>\n      <td>[]</td>\n      <td>1647601275000</td>\n      <td>...</td>\n      <td>-2.244986</td>\n      <td>-0.859784</td>\n      <td>3.453660</td>\n      <td>-2.098631</td>\n      <td>-1.114366</td>\n      <td>-1.090945</td>\n      <td>-1.754593</td>\n      <td>-1.415446</td>\n      <td>4.714002</td>\n      <td>-0.078210</td>\n    </tr>\n    <tr>\n      <th>2</th>\n      <td>dossiers promis poste gars vraiment fiable</td>\n      <td>6</td>\n      <td>1127</td>\n      <td>13111</td>\n      <td>1596</td>\n      <td>[]</td>\n      <td>[]</td>\n      <td>0</td>\n      <td>['macron']</td>\n      <td>1646900684000</td>\n      <td>...</td>\n      <td>0.785001</td>\n      <td>-6.398176</td>\n      <td>2.500649</td>\n      <td>1.689417</td>\n      <td>1.548272</td>\n      <td>-2.272700</td>\n      <td>1.728426</td>\n      <td>2.205752</td>\n      <td>-4.645946</td>\n      <td>0.001023</td>\n    </tr>\n    <tr>\n      <th>3</th>\n      <td>lol cas faut second tour macron sortir définit...</td>\n      <td>2</td>\n      <td>1699</td>\n      <td>25760</td>\n      <td>2036</td>\n      <td>[]</td>\n      <td>['https://t.co/7ox54d8dlm']</td>\n      <td>0</td>\n      <td>[]</td>\n      <td>1647161294000</td>\n      <td>...</td>\n      <td>-19.472089</td>\n      <td>-9.797417</td>\n      <td>10.106725</td>\n      <td>10.896217</td>\n      <td>-23.997370</td>\n      <td>3.380084</td>\n      <td>3.852576</td>\n      <td>-2.348574</td>\n      <td>-1.046452</td>\n      <td>4.525420</td>\n    </tr>\n    <tr>\n      <th>4</th>\n      <td>zemmour putain discours propagandiste littéral...</td>\n      <td>0</td>\n      <td>249</td>\n      <td>20718</td>\n      <td>369</td>\n      <td>[]</td>\n      <td>['https://t.co/tsw9cg6v9j', 'https://t.co/t0j9...</td>\n      <td>0</td>\n      <td>[]</td>\n      <td>1647724874000</td>\n      <td>...</td>\n      <td>2.101488</td>\n      <td>-3.720692</td>\n      <td>14.217625</td>\n      <td>3.902875</td>\n      <td>11.231026</td>\n      <td>4.524144</td>\n      <td>3.303629</td>\n      <td>5.939966</td>\n      <td>-12.227510</td>\n      <td>13.097947</td>\n    </tr>\n    <tr>\n      <th>...</th>\n      <td>...</td>\n      <td>...</td>\n      <td>...</td>\n      <td>...</td>\n      <td>...</td>\n      <td>...</td>\n      <td>...</td>\n      <td>...</td>\n      <td>...</td>\n      <td>...</td>\n      <td>...</td>\n      <td>...</td>\n      <td>...</td>\n      <td>...</td>\n      <td>...</td>\n      <td>...</td>\n      <td>...</td>\n      <td>...</td>\n      <td>...</td>\n      <td>...</td>\n      <td>...</td>\n    </tr>\n    <tr>\n      <th>117985</th>\n      <td>balais inexcusable vote veut</td>\n      <td>0</td>\n      <td>4</td>\n      <td>194</td>\n      <td>64</td>\n      <td>[]</td>\n      <td>[]</td>\n      <td>0</td>\n      <td>[]</td>\n      <td>1647103416000</td>\n      <td>...</td>\n      <td>-3.272253</td>\n      <td>-0.594626</td>\n      <td>3.145165</td>\n      <td>1.599861</td>\n      <td>-1.518942</td>\n      <td>2.240286</td>\n      <td>0.610335</td>\n      <td>2.336141</td>\n      <td>-1.096964</td>\n      <td>6.024372</td>\n    </tr>\n    <tr>\n      <th>117986</th>\n      <td>balayant rap borloo mâles blcs commis faute fo...</td>\n      <td>0</td>\n      <td>744</td>\n      <td>39489</td>\n      <td>894</td>\n      <td>[]</td>\n      <td>['https://t.co/im5cs5ur1a']</td>\n      <td>0</td>\n      <td>[]</td>\n      <td>1647490899000</td>\n      <td>...</td>\n      <td>-2.681604</td>\n      <td>1.479559</td>\n      <td>-3.693645</td>\n      <td>0.116239</td>\n      <td>4.204256</td>\n      <td>-2.152952</td>\n      <td>2.661536</td>\n      <td>0.069991</td>\n      <td>-8.975336</td>\n      <td>9.960458</td>\n    </tr>\n    <tr>\n      <th>117987</th>\n      <td>triste réalité covid tue malades macron veille...</td>\n      <td>12</td>\n      <td>924</td>\n      <td>2270</td>\n      <td>159</td>\n      <td>[]</td>\n      <td>[]</td>\n      <td>0</td>\n      <td>[]</td>\n      <td>1647522384000</td>\n      <td>...</td>\n      <td>0.425202</td>\n      <td>-2.737566</td>\n      <td>1.363717</td>\n      <td>-5.270310</td>\n      <td>-1.445753</td>\n      <td>10.096212</td>\n      <td>2.660169</td>\n      <td>-5.796501</td>\n      <td>-6.049362</td>\n      <td>-1.261608</td>\n    </tr>\n    <tr>\n      <th>117988</th>\n      <td>excellente idée pouvez réussir démarche crise ...</td>\n      <td>0</td>\n      <td>5</td>\n      <td>4</td>\n      <td>80</td>\n      <td>[]</td>\n      <td>['https://t.co/xontgm06pb']</td>\n      <td>0</td>\n      <td>[]</td>\n      <td>1647607262000</td>\n      <td>...</td>\n      <td>0.913784</td>\n      <td>7.479163</td>\n      <td>-13.498572</td>\n      <td>3.931908</td>\n      <td>-0.286913</td>\n      <td>-2.445809</td>\n      <td>-8.773067</td>\n      <td>-7.044116</td>\n      <td>-4.967737</td>\n      <td>-2.193959</td>\n    </tr>\n    <tr>\n      <th>117989</th>\n      <td>rt revivez moments forts rencontre président r...</td>\n      <td>0</td>\n      <td>555</td>\n      <td>5703</td>\n      <td>149</td>\n      <td>[]</td>\n      <td>[]</td>\n      <td>0</td>\n      <td>[]</td>\n      <td>1647263941000</td>\n      <td>...</td>\n      <td>10.526956</td>\n      <td>0.895365</td>\n      <td>-11.964847</td>\n      <td>0.674083</td>\n      <td>2.240574</td>\n      <td>1.600875</td>\n      <td>1.972853</td>\n      <td>-4.728106</td>\n      <td>-2.130684</td>\n      <td>-1.008159</td>\n    </tr>\n  </tbody>\n</table>\n<p>117990 rows × 75 columns</p>\n</div>"
     },
     "metadata": {},
     "output_type": "display_data"
    }
   ],
   "source": [
    "display(df_new)"
   ]
  },
  {
   "cell_type": "code",
   "execution_count": 206,
   "metadata": {
    "collapsed": false
   },
   "outputs": [],
   "source": [
    "file_path = f\"data/evaluation_with_embeddings.csv\""
   ]
  },
  {
   "cell_type": "code",
   "execution_count": null,
   "metadata": {
    "pycharm": {
     "is_executing": true
    }
   },
   "outputs": [],
   "source": [
    "df_new.to_csv(file_path)"
   ]
  },
  {
   "cell_type": "code",
   "execution_count": null,
   "metadata": {
    "collapsed": false,
    "pycharm": {
     "is_executing": true
    }
   },
   "outputs": [],
   "source": []
  }
 ],
 "metadata": {
  "kernelspec": {
   "display_name": "Python 3.10.6 ('venv': venv)",
   "language": "python",
   "name": "python3"
  },
  "language_info": {
   "codemirror_mode": {
    "name": "ipython",
    "version": 3
   },
   "file_extension": ".py",
   "mimetype": "text/x-python",
   "name": "python",
   "nbconvert_exporter": "python",
   "pygments_lexer": "ipython3",
   "version": "3.10.6"
  },
  "orig_nbformat": 4,
  "vscode": {
   "interpreter": {
    "hash": "2b76f9357de510751682414c7cddbaacea429d985ca72e90da955bd41bf6fe1e"
   }
  }
 },
 "nbformat": 4,
 "nbformat_minor": 2
}

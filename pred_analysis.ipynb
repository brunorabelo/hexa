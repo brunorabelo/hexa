{
 "cells": [
  {
   "cell_type": "code",
   "execution_count": 13,
   "metadata": {},
   "outputs": [],
   "source": [
    "import csv\n",
    "import numpy as np\n",
    "import pandas as pd\n",
    "from matplotlib import pyplot as plt\n",
    "from datetime import datetime"
   ]
  },
  {
   "cell_type": "code",
   "execution_count": 14,
   "outputs": [],
   "source": [
    "preds = pd.read_csv(\"pred_example_58\")"
   ],
   "metadata": {
    "collapsed": false
   }
  },
  {
   "cell_type": "code",
   "execution_count": 15,
   "outputs": [],
   "source": [
    "preds[\"ratio\"] = preds['groundtruth'] / (0.5+preds['favs'])"
   ],
   "metadata": {
    "collapsed": false
   }
  },
  {
   "cell_type": "code",
   "execution_count": 16,
   "outputs": [],
   "source": [
    "preds[\"diffs\"] = preds[\"pred\"] - preds['groundtruth']"
   ],
   "metadata": {
    "collapsed": false
   }
  },
  {
   "cell_type": "code",
   "execution_count": 17,
   "outputs": [],
   "source": [
    "preds[\"diffs_ratio\"] = (0.5+preds[\"pred\"])/(0.5+preds['groundtruth'])"
   ],
   "metadata": {
    "collapsed": false
   }
  },
  {
   "cell_type": "code",
   "execution_count": 19,
   "outputs": [
    {
     "data": {
      "text/plain": "       Unnamed: 0.1  Unnamed: 0  favorites_count  followers_count  \\\n0                 0      307625        -0.055089        -0.077407   \n1                 1       52950        -0.055089        -0.077779   \n2                 2      289882        -0.055089        -0.067681   \n3                 3       17637        -0.055089        -0.075549   \n4                 4      339255        -0.053906        -0.028786   \n...             ...         ...              ...              ...   \n35392         35392      308634        -0.055089        -0.071539   \n35393         35393      276530        -0.053906        -0.077630   \n35394         35394      302150        -0.055089        -0.076848   \n35395         35395       55651        -0.055089        -0.077729   \n35396         35396      194022        -0.008948         0.402570   \n\n       statuses_count  friends_count  verified  url_count  text_len  \\\n0           -0.334165      -0.497254         0        1.0  0.383939   \n1           -0.408998      -0.502035         0        1.0  0.696261   \n2            2.979071       1.399853         0        0.0 -0.000458   \n3            0.847381      -0.566985         0        0.0 -0.048507   \n4           -0.027463       0.115989         0        1.0  0.359914   \n...               ...            ...       ...        ...       ...   \n35392        0.205442       0.380173         0        0.0 -1.057548   \n35393       -0.393446      -0.539890         0        1.0  0.816385   \n35394       -0.012975      -0.174096         0        1.0 -0.649127   \n35395       -0.401657      -0.502434         0        0.0 -0.985474   \n35396        0.433283       0.017169         1        1.0  2.353971   \n\n       hashtags_count  ...  polarity  subjectivity     abrev  groundtruth  \\\n0           -0.384757  ...  0.794312     -0.754931 -0.389772            0   \n1           -0.384757  ...  0.989324      0.480421 -0.389772            0   \n2           -0.384757  ... -1.459153      0.963819 -0.389772            0   \n3           -0.384757  ...  0.144274      0.534132  2.679304            0   \n4           -0.384757  ... -0.072405     -0.754931 -0.389772            1   \n...               ...  ...       ...           ...       ...          ...   \n35392       -0.384757  ... -0.072405     -0.754931 -0.389772            3   \n35393       -0.384757  ...  0.216501     -0.110400 -0.389772            3   \n35394       -0.384757  ... -0.397424     -0.325244  1.802425            0   \n35395       -0.384757  ... -0.072405     -0.754931 -0.389772            0   \n35396       -0.384757  ...  0.913486      0.748976 -0.389772           13   \n\n            pred                                              texts  favs  \\\n0       0.043896  méfie rappeler roussel manifesté française zor...     0   \n1       0.065171  bonne nouvelle cas hautes sondages principalem...     0   \n2       0.811591  rt mélenchon cesse critiqué hidalgo jadot sign...     0   \n3       0.050691  rt sûr sondages dsl demandé partis médias gauc...     0   \n4       1.215784  rumeurs législatives anticipées emmanuel macro...     1   \n...          ...                                                ...   ...   \n35392   1.058901                         espace publicitaire offert     0   \n35393   0.135567  lire comprendre histoire expression grand remp...     1   \n35394   0.928964        oui doute courir gauche demande tirette ect     0   \n35395   0.017936                      candidat recevoir vote massif     0   \n35396  16.014017  pause ambitieux brillant séduisant arrivé jeun...    39   \n\n          ratio     diffs  diffs_ratio  \n0      0.000000  0.043896     1.087793  \n1      0.000000  0.065171     1.130342  \n2      0.000000  0.811591     2.623182  \n3      0.000000  0.050691     1.101383  \n4      0.666667  0.215784     1.143856  \n...         ...       ...          ...  \n35392  6.000000 -1.941099     0.445400  \n35393  2.000000 -2.864433     0.181591  \n35394  0.000000  0.928964     2.857929  \n35395  0.000000  0.017936     1.035873  \n35396  0.329114  3.014017     1.223261  \n\n[35397 rows x 28 columns]",
      "text/html": "<div>\n<style scoped>\n    .dataframe tbody tr th:only-of-type {\n        vertical-align: middle;\n    }\n\n    .dataframe tbody tr th {\n        vertical-align: top;\n    }\n\n    .dataframe thead th {\n        text-align: right;\n    }\n</style>\n<table border=\"1\" class=\"dataframe\">\n  <thead>\n    <tr style=\"text-align: right;\">\n      <th></th>\n      <th>Unnamed: 0.1</th>\n      <th>Unnamed: 0</th>\n      <th>favorites_count</th>\n      <th>followers_count</th>\n      <th>statuses_count</th>\n      <th>friends_count</th>\n      <th>verified</th>\n      <th>url_count</th>\n      <th>text_len</th>\n      <th>hashtags_count</th>\n      <th>...</th>\n      <th>polarity</th>\n      <th>subjectivity</th>\n      <th>abrev</th>\n      <th>groundtruth</th>\n      <th>pred</th>\n      <th>texts</th>\n      <th>favs</th>\n      <th>ratio</th>\n      <th>diffs</th>\n      <th>diffs_ratio</th>\n    </tr>\n  </thead>\n  <tbody>\n    <tr>\n      <th>0</th>\n      <td>0</td>\n      <td>307625</td>\n      <td>-0.055089</td>\n      <td>-0.077407</td>\n      <td>-0.334165</td>\n      <td>-0.497254</td>\n      <td>0</td>\n      <td>1.0</td>\n      <td>0.383939</td>\n      <td>-0.384757</td>\n      <td>...</td>\n      <td>0.794312</td>\n      <td>-0.754931</td>\n      <td>-0.389772</td>\n      <td>0</td>\n      <td>0.043896</td>\n      <td>méfie rappeler roussel manifesté française zor...</td>\n      <td>0</td>\n      <td>0.000000</td>\n      <td>0.043896</td>\n      <td>1.087793</td>\n    </tr>\n    <tr>\n      <th>1</th>\n      <td>1</td>\n      <td>52950</td>\n      <td>-0.055089</td>\n      <td>-0.077779</td>\n      <td>-0.408998</td>\n      <td>-0.502035</td>\n      <td>0</td>\n      <td>1.0</td>\n      <td>0.696261</td>\n      <td>-0.384757</td>\n      <td>...</td>\n      <td>0.989324</td>\n      <td>0.480421</td>\n      <td>-0.389772</td>\n      <td>0</td>\n      <td>0.065171</td>\n      <td>bonne nouvelle cas hautes sondages principalem...</td>\n      <td>0</td>\n      <td>0.000000</td>\n      <td>0.065171</td>\n      <td>1.130342</td>\n    </tr>\n    <tr>\n      <th>2</th>\n      <td>2</td>\n      <td>289882</td>\n      <td>-0.055089</td>\n      <td>-0.067681</td>\n      <td>2.979071</td>\n      <td>1.399853</td>\n      <td>0</td>\n      <td>0.0</td>\n      <td>-0.000458</td>\n      <td>-0.384757</td>\n      <td>...</td>\n      <td>-1.459153</td>\n      <td>0.963819</td>\n      <td>-0.389772</td>\n      <td>0</td>\n      <td>0.811591</td>\n      <td>rt mélenchon cesse critiqué hidalgo jadot sign...</td>\n      <td>0</td>\n      <td>0.000000</td>\n      <td>0.811591</td>\n      <td>2.623182</td>\n    </tr>\n    <tr>\n      <th>3</th>\n      <td>3</td>\n      <td>17637</td>\n      <td>-0.055089</td>\n      <td>-0.075549</td>\n      <td>0.847381</td>\n      <td>-0.566985</td>\n      <td>0</td>\n      <td>0.0</td>\n      <td>-0.048507</td>\n      <td>-0.384757</td>\n      <td>...</td>\n      <td>0.144274</td>\n      <td>0.534132</td>\n      <td>2.679304</td>\n      <td>0</td>\n      <td>0.050691</td>\n      <td>rt sûr sondages dsl demandé partis médias gauc...</td>\n      <td>0</td>\n      <td>0.000000</td>\n      <td>0.050691</td>\n      <td>1.101383</td>\n    </tr>\n    <tr>\n      <th>4</th>\n      <td>4</td>\n      <td>339255</td>\n      <td>-0.053906</td>\n      <td>-0.028786</td>\n      <td>-0.027463</td>\n      <td>0.115989</td>\n      <td>0</td>\n      <td>1.0</td>\n      <td>0.359914</td>\n      <td>-0.384757</td>\n      <td>...</td>\n      <td>-0.072405</td>\n      <td>-0.754931</td>\n      <td>-0.389772</td>\n      <td>1</td>\n      <td>1.215784</td>\n      <td>rumeurs législatives anticipées emmanuel macro...</td>\n      <td>1</td>\n      <td>0.666667</td>\n      <td>0.215784</td>\n      <td>1.143856</td>\n    </tr>\n    <tr>\n      <th>...</th>\n      <td>...</td>\n      <td>...</td>\n      <td>...</td>\n      <td>...</td>\n      <td>...</td>\n      <td>...</td>\n      <td>...</td>\n      <td>...</td>\n      <td>...</td>\n      <td>...</td>\n      <td>...</td>\n      <td>...</td>\n      <td>...</td>\n      <td>...</td>\n      <td>...</td>\n      <td>...</td>\n      <td>...</td>\n      <td>...</td>\n      <td>...</td>\n      <td>...</td>\n      <td>...</td>\n    </tr>\n    <tr>\n      <th>35392</th>\n      <td>35392</td>\n      <td>308634</td>\n      <td>-0.055089</td>\n      <td>-0.071539</td>\n      <td>0.205442</td>\n      <td>0.380173</td>\n      <td>0</td>\n      <td>0.0</td>\n      <td>-1.057548</td>\n      <td>-0.384757</td>\n      <td>...</td>\n      <td>-0.072405</td>\n      <td>-0.754931</td>\n      <td>-0.389772</td>\n      <td>3</td>\n      <td>1.058901</td>\n      <td>espace publicitaire offert</td>\n      <td>0</td>\n      <td>6.000000</td>\n      <td>-1.941099</td>\n      <td>0.445400</td>\n    </tr>\n    <tr>\n      <th>35393</th>\n      <td>35393</td>\n      <td>276530</td>\n      <td>-0.053906</td>\n      <td>-0.077630</td>\n      <td>-0.393446</td>\n      <td>-0.539890</td>\n      <td>0</td>\n      <td>1.0</td>\n      <td>0.816385</td>\n      <td>-0.384757</td>\n      <td>...</td>\n      <td>0.216501</td>\n      <td>-0.110400</td>\n      <td>-0.389772</td>\n      <td>3</td>\n      <td>0.135567</td>\n      <td>lire comprendre histoire expression grand remp...</td>\n      <td>1</td>\n      <td>2.000000</td>\n      <td>-2.864433</td>\n      <td>0.181591</td>\n    </tr>\n    <tr>\n      <th>35394</th>\n      <td>35394</td>\n      <td>302150</td>\n      <td>-0.055089</td>\n      <td>-0.076848</td>\n      <td>-0.012975</td>\n      <td>-0.174096</td>\n      <td>0</td>\n      <td>1.0</td>\n      <td>-0.649127</td>\n      <td>-0.384757</td>\n      <td>...</td>\n      <td>-0.397424</td>\n      <td>-0.325244</td>\n      <td>1.802425</td>\n      <td>0</td>\n      <td>0.928964</td>\n      <td>oui doute courir gauche demande tirette ect</td>\n      <td>0</td>\n      <td>0.000000</td>\n      <td>0.928964</td>\n      <td>2.857929</td>\n    </tr>\n    <tr>\n      <th>35395</th>\n      <td>35395</td>\n      <td>55651</td>\n      <td>-0.055089</td>\n      <td>-0.077729</td>\n      <td>-0.401657</td>\n      <td>-0.502434</td>\n      <td>0</td>\n      <td>0.0</td>\n      <td>-0.985474</td>\n      <td>-0.384757</td>\n      <td>...</td>\n      <td>-0.072405</td>\n      <td>-0.754931</td>\n      <td>-0.389772</td>\n      <td>0</td>\n      <td>0.017936</td>\n      <td>candidat recevoir vote massif</td>\n      <td>0</td>\n      <td>0.000000</td>\n      <td>0.017936</td>\n      <td>1.035873</td>\n    </tr>\n    <tr>\n      <th>35396</th>\n      <td>35396</td>\n      <td>194022</td>\n      <td>-0.008948</td>\n      <td>0.402570</td>\n      <td>0.433283</td>\n      <td>0.017169</td>\n      <td>1</td>\n      <td>1.0</td>\n      <td>2.353971</td>\n      <td>-0.384757</td>\n      <td>...</td>\n      <td>0.913486</td>\n      <td>0.748976</td>\n      <td>-0.389772</td>\n      <td>13</td>\n      <td>16.014017</td>\n      <td>pause ambitieux brillant séduisant arrivé jeun...</td>\n      <td>39</td>\n      <td>0.329114</td>\n      <td>3.014017</td>\n      <td>1.223261</td>\n    </tr>\n  </tbody>\n</table>\n<p>35397 rows × 28 columns</p>\n</div>"
     },
     "execution_count": 19,
     "metadata": {},
     "output_type": "execute_result"
    }
   ],
   "source": [
    "preds"
   ],
   "metadata": {
    "collapsed": false
   }
  },
  {
   "cell_type": "code",
   "execution_count": null,
   "outputs": [],
   "source": [],
   "metadata": {
    "collapsed": false
   }
  }
 ],
 "metadata": {
  "kernelspec": {
   "display_name": "Python 3.10.6 ('venv': venv)",
   "language": "python",
   "name": "python3"
  },
  "language_info": {
   "codemirror_mode": {
    "name": "ipython",
    "version": 3
   },
   "file_extension": ".py",
   "mimetype": "text/x-python",
   "name": "python",
   "nbconvert_exporter": "python",
   "pygments_lexer": "ipython3",
   "version": "3.10.6"
  },
  "orig_nbformat": 4,
  "vscode": {
   "interpreter": {
    "hash": "2b76f9357de510751682414c7cddbaacea429d985ca72e90da955bd41bf6fe1e"
   }
  }
 },
 "nbformat": 4,
 "nbformat_minor": 2
}

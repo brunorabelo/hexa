{
 "cells": [
  {
   "cell_type": "code",
   "execution_count": 20,
   "metadata": {},
   "outputs": [],
   "source": [
    "import csv\n",
    "import numpy as np\n",
    "import pandas as pd\n",
    "\n",
    "# Word2vec\n",
    "from gensim.models import Word2Vec\n",
    "from gensim.utils import tokenize\n",
    "from unidecode import unidecode"
   ]
  },
  {
   "cell_type": "code",
   "execution_count": 21,
   "metadata": {},
   "outputs": [],
   "source": [
    "# no sentence in the dataset has more than 40 words; almost every sentence has less than 20\n",
    "max_words = 20\n",
    "n_dim = 256    # embedding dimension\n",
    "pca_dim = 8"
   ]
  },
  {
   "cell_type": "code",
   "execution_count": 22,
   "metadata": {},
   "outputs": [],
   "source": [
    "train_data = pd.read_csv(\"data/train.csv\")"
   ]
  },
  {
   "cell_type": "code",
   "execution_count": 23,
   "metadata": {},
   "outputs": [
    {
     "name": "stdout",
     "output_type": "stream",
     "text": [
      "[['rt', 'refarcir', 'macron', 'ans', 'nom', 'prepare'], ['populaire'], ['faut', 'degager', 'cingle'], ['enseignants', 'mettre', 'prescriptions', 'president', 'republique', 'faut', 'croire', 'president', 'donner', 'periode', 'compte', 'mesures', 'appliquees', 'grever'], ['mafieuse', 'oppressive', 'macron']]\n"
     ]
    }
   ],
   "source": [
    "sentences = [list(tokenize(s, deacc=True, lower=True)) for s in train_data['text']]\n",
    "print(sentences[:5])"
   ]
  },
  {
   "cell_type": "code",
   "execution_count": 24,
   "metadata": {},
   "outputs": [
    {
     "data": {
      "text/plain": [
       "(15073244, 16375635)"
      ]
     },
     "execution_count": 24,
     "metadata": {},
     "output_type": "execute_result"
    }
   ],
   "source": [
    "model = Word2Vec(vector_size=n_dim, window=20, min_count=1, workers=7)\n",
    "model.build_vocab(sentences)\n",
    "model.train(sentences, total_examples=model.corpus_count, epochs=5)"
   ]
  },
  {
   "cell_type": "code",
   "execution_count": null,
   "metadata": {},
   "outputs": [],
   "source": [
    "from sklearn.decomposition import PCA"
   ]
  },
  {
   "cell_type": "code",
   "execution_count": null,
   "metadata": {},
   "outputs": [],
   "source": [
    "# fiting pca\n",
    "all_embeddings = []\n",
    "for idx in range(train_data.shape[0]):\n",
    "    sentence_embeddings = np.zeros((max_words, n_dim))\n",
    "    for i, s in enumerate(train_data.loc[idx, \"text\"].split()):\n",
    "        try:\n",
    "            all_embeddings.append(model.wv[unidecode(s).lower()])\n",
    "        except:\n",
    "            pass"
   ]
  },
  {
   "cell_type": "code",
   "execution_count": null,
   "metadata": {},
   "outputs": [],
   "source": [
    "all_embeddings np.stack(all_embeddings, axis=0)\n",
    "print(all_embeddings.shape)"
   ]
  },
  {
   "cell_type": "code",
   "execution_count": null,
   "metadata": {},
   "outputs": [],
   "source": [
    "my_pca = PCA(n_components = pca_dim)\n",
    "my_pca.fit(all_embeddings)"
   ]
  },
  {
   "cell_type": "code",
   "execution_count": 25,
   "metadata": {},
   "outputs": [],
   "source": [
    "embeddings = np.zeros((train_data.shape[0], max_words, pca_dim))"
   ]
  },
  {
   "cell_type": "code",
   "execution_count": 26,
   "metadata": {},
   "outputs": [],
   "source": [
    "for idx in range(train_data.shape[0]):\n",
    "    sentence_embeddings = np.zeros((max_words, n_dim))\n",
    "    for i, s in enumerate(train_data.loc[idx, \"text\"].split()):\n",
    "        try:\n",
    "            sentence_embeddings[i] = model.wv[unidecode(s).lower()]\n",
    "        except:\n",
    "            pass\n",
    "    embeddings[idx] = sentence_embeddings"
   ]
  },
  {
   "cell_type": "code",
   "execution_count": 27,
   "metadata": {},
   "outputs": [
    {
     "name": "stdout",
     "output_type": "stream",
     "text": [
      "(353969, 20, 16)\n"
     ]
    }
   ],
   "source": [
    "print(embeddings.shape)"
   ]
  },
  {
   "cell_type": "code",
   "execution_count": 28,
   "metadata": {},
   "outputs": [],
   "source": [
    "np.save(\"data/train_emb_matrix.npy\", embeddings)"
   ]
  },
  {
   "cell_type": "code",
   "execution_count": 20,
   "metadata": {},
   "outputs": [],
   "source": [
    "eval_data = pd.read_csv(\"data/evaluation.csv\")"
   ]
  },
  {
   "cell_type": "code",
   "execution_count": 21,
   "metadata": {},
   "outputs": [],
   "source": [
    "embeddings = np.zeros((train_data.shape[0], max_words, n_dim))"
   ]
  },
  {
   "cell_type": "code",
   "execution_count": 22,
   "metadata": {},
   "outputs": [],
   "source": [
    "for idx in range(eval_data.shape[0]):\n",
    "    sentence_embeddings = np.zeros((max_words, n_dim))\n",
    "    for i, s in enumerate(eval_data.loc[idx, \"text\"].split()):\n",
    "        try:\n",
    "            sentence_embeddings[i] = model.wv[unidecode(s).lower()]\n",
    "        except:\n",
    "            pass\n",
    "    embeddings[idx] = sentence_embeddings"
   ]
  },
  {
   "cell_type": "code",
   "execution_count": null,
   "metadata": {},
   "outputs": [],
   "source": [
    "np.save(\"data/eval_emb_matrix.npy\", embeddings)"
   ]
  }
 ],
 "metadata": {
  "kernelspec": {
   "display_name": "Python 3.9.13 ('base')",
   "language": "python",
   "name": "python3"
  },
  "language_info": {
   "codemirror_mode": {
    "name": "ipython",
    "version": 3
   },
   "file_extension": ".py",
   "mimetype": "text/x-python",
   "name": "python",
   "nbconvert_exporter": "python",
   "pygments_lexer": "ipython3",
   "version": "3.9.13"
  },
  "orig_nbformat": 4,
  "vscode": {
   "interpreter": {
    "hash": "869fcbf3262855e1eaf5654d341d7f712e3ffc1dffd54e403b0f2d04ee7ae421"
   }
  }
 },
 "nbformat": 4,
 "nbformat_minor": 2
}

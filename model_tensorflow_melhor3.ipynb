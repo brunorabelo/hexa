{
 "cells": [
  {
   "cell_type": "code",
   "execution_count": 1,
   "metadata": {},
   "outputs": [
    {
     "name": "stderr",
     "output_type": "stream",
     "text": [
      "2022-12-06 20:23:20.634027: I tensorflow/core/platform/cpu_feature_guard.cc:193] This TensorFlow binary is optimized with oneAPI Deep Neural Network Library (oneDNN) to use the following CPU instructions in performance-critical operations:  AVX2 AVX_VNNI FMA\n",
      "To enable them in other operations, rebuild TensorFlow with the appropriate compiler flags.\n",
      "2022-12-06 20:23:20.777729: I tensorflow/core/util/util.cc:169] oneDNN custom operations are on. You may see slightly different numerical results due to floating-point round-off errors from different computation orders. To turn them off, set the environment variable `TF_ENABLE_ONEDNN_OPTS=0`.\n",
      "2022-12-06 20:23:20.815652: E tensorflow/stream_executor/cuda/cuda_blas.cc:2981] Unable to register cuBLAS factory: Attempting to register factory for plugin cuBLAS when one has already been registered\n",
      "2022-12-06 20:23:21.492562: W tensorflow/stream_executor/platform/default/dso_loader.cc:64] Could not load dynamic library 'libnvinfer.so.7'; dlerror: libnvinfer.so.7: cannot open shared object file: No such file or directory\n",
      "2022-12-06 20:23:21.492628: W tensorflow/stream_executor/platform/default/dso_loader.cc:64] Could not load dynamic library 'libnvinfer_plugin.so.7'; dlerror: libnvinfer_plugin.so.7: cannot open shared object file: No such file or directory\n",
      "2022-12-06 20:23:21.492634: W tensorflow/compiler/tf2tensorrt/utils/py_utils.cc:38] TF-TRT Warning: Cannot dlopen some TensorRT libraries. If you would like to use Nvidia GPU with TensorRT, please make sure the missing libraries mentioned above are installed properly.\n",
      "2022-12-06 20:23:22.070329: E tensorflow/stream_executor/cuda/cuda_driver.cc:265] failed call to cuInit: CUDA_ERROR_SYSTEM_DRIVER_MISMATCH: system has unsupported display driver / cuda driver combination\n",
      "2022-12-06 20:23:22.070358: I tensorflow/stream_executor/cuda/cuda_diagnostics.cc:169] retrieving CUDA diagnostic information for host: danilo-Nitro-AN515-58\n",
      "2022-12-06 20:23:22.070363: I tensorflow/stream_executor/cuda/cuda_diagnostics.cc:176] hostname: danilo-Nitro-AN515-58\n",
      "2022-12-06 20:23:22.070525: I tensorflow/stream_executor/cuda/cuda_diagnostics.cc:200] libcuda reported version is: 510.108.3\n",
      "2022-12-06 20:23:22.070541: I tensorflow/stream_executor/cuda/cuda_diagnostics.cc:204] kernel reported version is: 525.60.11\n",
      "2022-12-06 20:23:22.070545: E tensorflow/stream_executor/cuda/cuda_diagnostics.cc:313] kernel version 525.60.11 does not match DSO version 510.108.3 -- cannot find working devices in this configuration\n"
     ]
    }
   ],
   "source": [
    "import csv\n",
    "import numpy as np\n",
    "import pandas as pd\n",
    "from matplotlib import pyplot as plt\n",
    "from datetime import datetime\n",
    "from sklearn.model_selection import train_test_split\n",
    "import data"
   ]
  },
  {
   "cell_type": "code",
   "execution_count": 2,
   "outputs": [],
   "source": [
    "# usando emb de 32 dim, word count 3, treinado 20 epocas, window 5"
   ],
   "metadata": {
    "collapsed": false
   }
  },
  {
   "cell_type": "code",
   "execution_count": 3,
   "metadata": {},
   "outputs": [],
   "source": [
    "train_data = pd.read_csv(\"data/train_with_embeddings.csv\")"
   ]
  },
  {
   "cell_type": "code",
   "execution_count": 4,
   "metadata": {},
   "outputs": [
    {
     "data": {
      "text/plain": "Index(['Unnamed: 0', 'text', 'retweets_count', 'favorites_count',\n       'followers_count', 'statuses_count', 'friends_count', 'mentions',\n       'urls', 'verified', 'hashtags', 'timestamp', 'TweetID', '0', '1', '2',\n       '3', '4', '5', '6', '7', '8', '9', '10', '11', '12', '13', '14', '15',\n       '16', '17', '18', '19', '20', '21', '22', '23', '24', '25', '26', '27',\n       '28', '29', '30', '31'],\n      dtype='object')"
     },
     "execution_count": 4,
     "metadata": {},
     "output_type": "execute_result"
    }
   ],
   "source": [
    "train_data.columns"
   ]
  },
  {
   "cell_type": "code",
   "execution_count": 5,
   "metadata": {},
   "outputs": [],
   "source": [
    "train_data = train_data.drop([\"Unnamed: 0\"], axis=1)"
   ]
  },
  {
   "cell_type": "code",
   "execution_count": 6,
   "metadata": {},
   "outputs": [],
   "source": [
    "# new features\n",
    "train_data[\"url_count\"] = train_data[\"urls\"].apply(lambda s: s[1:-1].count(\"\\'\")/2)\n",
    "train_data[\"text_len\"] = train_data[\"text\"].apply(lambda s: len(s))\n",
    "train_data[\"hashtags_count\"] = train_data[\"hashtags\"].apply(lambda s: s[1:-1].count(\"\\'\")/2)\n",
    "train_data[\"day\"] = train_data[\"timestamp\"].apply(lambda t: datetime.utcfromtimestamp(t/1000).day)\n",
    "train_data[\"hour\"] = train_data[\"timestamp\"].apply(lambda t: datetime.utcfromtimestamp(t/1000).hour)\n",
    "train_data[\"year\"] = train_data[\"timestamp\"].apply(lambda t: datetime.utcfromtimestamp(t/1000).year)\n",
    "train_data[\"month\"] = train_data[\"timestamp\"].apply(lambda t: datetime.utcfromtimestamp(t/1000).month)\n",
    "\n",
    "# text features\n",
    "train_data[\"avg_word_len\"] = train_data[\"text\"].apply(lambda s: np.mean([len(w) for w in s.split()]))\n",
    "train_data[\"rep_words_freq\"] = train_data[\"text\"].apply(lambda s: np.mean(len(list(set(s.split())))/len(s.split())))\n",
    "train_data[\"rep_chars_freq\"] = train_data[\"text\"].apply(lambda s: np.mean(len(list(set(s)))/len(list(s))))\n",
    "train_data[\"max_char_freq\"] = train_data[\"text\"].apply(lambda s: max( [s.count(c) for c in list(set(s))] )   /len(list(s)))\n",
    "train_data[\"avg_word_count\"] = train_data[\"text\"].apply(lambda s: len(s.split()))\n",
    "\n",
    "train_data[\"log\"] = np.log(0.1 + train_data[\"favorites_count\"])\n",
    "train_data[\"sqrt\"] = np.sqrt(train_data[\"favorites_count\"])\n",
    "\n",
    "# indicators of keywords\n",
    "train_data[\"Macron\"] =  train_data[\"text\"].apply(lambda s: (\"macron\" in s.lower().split()))\n",
    "train_data[\"Zemmour\"] =  train_data[\"text\"].apply(lambda s: (\"zemmour\" in s.lower().split()))\n",
    "train_data[\"Vote\"] =  train_data[\"text\"].apply(lambda s: (\"vote\" in s.lower().split()) or (\"votez\" in s.lower().split()) or (\"vot\" in s.lower().split()))\n",
    "# train_data[\"Melenchon\"] =  train_data[\"text\"].apply(lambda s: (\"melenchon\" in s.replace(\"é\",\"e\").lower().split()))\n",
    "\n",
    "# train_data[\"rt\"] =  train_data[\"text\"].apply(lambda s: (\"rt\" in s.lower().split()))\n",
    "train_data[\"rt\"] =  train_data[\"text\"].apply(lambda s: (s.lower().split()[0] == \"rt\"))    # changed!!"
   ]
  },
  {
   "cell_type": "code",
   "execution_count": 7,
   "metadata": {},
   "outputs": [
    {
     "data": {
      "text/plain": "                                                     text  retweets_count  \\\n0                      rt refarcir macron ans nom prépare               3   \n1                                               populaire               0   \n2                                     faut dégager cinglé               3   \n3       enseignants mettre prescriptions président rép...               0   \n4                              mafieuse oppressive macron               0   \n...                                                   ...             ...   \n353964                     gonflette tour raciste frustré               0   \n353965  france caste crapuleuse encadrée gangsters irr...               0   \n353966                      eric zemmour français berbère               3   \n353967                           gauchistes dépression pq               0   \n353968      algérie emmanuel macron grande histoire amour               0   \n\n        favorites_count  followers_count  statuses_count  friends_count  \\\n0                     0             3682          453535           3628   \n1                     0               86            1016            284   \n2                     1             1944           28234           1995   \n3                     0                1            1072              0   \n4                     0            13957           25311          10841   \n...                 ...              ...             ...            ...   \n353964                0               34            1509             55   \n353965                0               89           11166            127   \n353966                0             1888             712           3086   \n353967                0              139             486            320   \n353968                0                0              82             24   \n\n       mentions                         urls  verified hashtags  ...  sqrt  \\\n0            []                           []         0       []  ...   0.0   \n1            []                           []         0       []  ...   0.0   \n2            []                           []         0       []  ...   1.0   \n3            []  ['https://t.co/rytlted08g']         0       []  ...   0.0   \n4            []                           []         0       []  ...   0.0   \n...         ...                          ...       ...      ...  ...   ...   \n353964       []  ['https://t.co/pma33zhslx']         0       []  ...   0.0   \n353965       []                           []         0       []  ...   0.0   \n353966       []                           []         0       []  ...   0.0   \n353967       []                           []         0       []  ...   0.0   \n353968       []                           []         0       []  ...   0.0   \n\n        Macron  Zemmour   Vote     rt  \\\n0         True    False  False   True   \n1        False    False  False  False   \n2        False    False  False  False   \n3        False    False  False  False   \n4         True    False  False  False   \n...        ...      ...    ...    ...   \n353964   False    False  False  False   \n353965   False    False  False  False   \n353966   False     True  False  False   \n353967   False    False  False  False   \n353968    True    False  False  False   \n\n                                                 text_arr  \\\n0               [rt, refarcir, macron, ans, nom, prépare]   \n1                                             [populaire]   \n2                                 [faut, dégager, cinglé]   \n3       [enseignants, mettre, prescriptions, président...   \n4                          [mafieuse, oppressive, macron]   \n...                                                   ...   \n353964                [gonflette, tour, raciste, frustré]   \n353965  [france, caste, crapuleuse, encadrée, gangster...   \n353966                 [eric, zemmour, français, berbère]   \n353967                       [gauchistes, dépression, pq]   \n353968  [algérie, emmanuel, macron, grande, histoire, ...   \n\n                                   text_without_stopwords  polarity  \\\n0                      rt refarcir macron ans nom prépare      0.00   \n1                                               populaire      0.50   \n2                                     faut dégager cinglé     -0.01   \n3       enseignants mettre prescriptions président rép...      0.06   \n4                              mafieuse oppressive macron      0.00   \n...                                                   ...       ...   \n353964                     gonflette tour raciste frustré      0.00   \n353965  france caste crapuleuse encadrée gangsters irr...      0.10   \n353966                      eric zemmour français berbère      0.20   \n353967                           gauchistes dépression pq      0.00   \n353968      algérie emmanuel macron grande histoire amour      0.30   \n\n        subjectivity     abrev  \n0              0.000  0.000000  \n1              0.500  0.000000  \n2             -0.010  0.000000  \n3              0.125  0.000000  \n4              0.000  0.000000  \n...              ...       ...  \n353964         0.000  0.000000  \n353965         0.200  0.000000  \n353966         0.000  0.000000  \n353967         0.000  0.333333  \n353968         0.200  0.000000  \n\n[353969 rows x 67 columns]",
      "text/html": "<div>\n<style scoped>\n    .dataframe tbody tr th:only-of-type {\n        vertical-align: middle;\n    }\n\n    .dataframe tbody tr th {\n        vertical-align: top;\n    }\n\n    .dataframe thead th {\n        text-align: right;\n    }\n</style>\n<table border=\"1\" class=\"dataframe\">\n  <thead>\n    <tr style=\"text-align: right;\">\n      <th></th>\n      <th>text</th>\n      <th>retweets_count</th>\n      <th>favorites_count</th>\n      <th>followers_count</th>\n      <th>statuses_count</th>\n      <th>friends_count</th>\n      <th>mentions</th>\n      <th>urls</th>\n      <th>verified</th>\n      <th>hashtags</th>\n      <th>...</th>\n      <th>sqrt</th>\n      <th>Macron</th>\n      <th>Zemmour</th>\n      <th>Vote</th>\n      <th>rt</th>\n      <th>text_arr</th>\n      <th>text_without_stopwords</th>\n      <th>polarity</th>\n      <th>subjectivity</th>\n      <th>abrev</th>\n    </tr>\n  </thead>\n  <tbody>\n    <tr>\n      <th>0</th>\n      <td>rt refarcir macron ans nom prépare</td>\n      <td>3</td>\n      <td>0</td>\n      <td>3682</td>\n      <td>453535</td>\n      <td>3628</td>\n      <td>[]</td>\n      <td>[]</td>\n      <td>0</td>\n      <td>[]</td>\n      <td>...</td>\n      <td>0.0</td>\n      <td>True</td>\n      <td>False</td>\n      <td>False</td>\n      <td>True</td>\n      <td>[rt, refarcir, macron, ans, nom, prépare]</td>\n      <td>rt refarcir macron ans nom prépare</td>\n      <td>0.00</td>\n      <td>0.000</td>\n      <td>0.000000</td>\n    </tr>\n    <tr>\n      <th>1</th>\n      <td>populaire</td>\n      <td>0</td>\n      <td>0</td>\n      <td>86</td>\n      <td>1016</td>\n      <td>284</td>\n      <td>[]</td>\n      <td>[]</td>\n      <td>0</td>\n      <td>[]</td>\n      <td>...</td>\n      <td>0.0</td>\n      <td>False</td>\n      <td>False</td>\n      <td>False</td>\n      <td>False</td>\n      <td>[populaire]</td>\n      <td>populaire</td>\n      <td>0.50</td>\n      <td>0.500</td>\n      <td>0.000000</td>\n    </tr>\n    <tr>\n      <th>2</th>\n      <td>faut dégager cinglé</td>\n      <td>3</td>\n      <td>1</td>\n      <td>1944</td>\n      <td>28234</td>\n      <td>1995</td>\n      <td>[]</td>\n      <td>[]</td>\n      <td>0</td>\n      <td>[]</td>\n      <td>...</td>\n      <td>1.0</td>\n      <td>False</td>\n      <td>False</td>\n      <td>False</td>\n      <td>False</td>\n      <td>[faut, dégager, cinglé]</td>\n      <td>faut dégager cinglé</td>\n      <td>-0.01</td>\n      <td>-0.010</td>\n      <td>0.000000</td>\n    </tr>\n    <tr>\n      <th>3</th>\n      <td>enseignants mettre prescriptions président rép...</td>\n      <td>0</td>\n      <td>0</td>\n      <td>1</td>\n      <td>1072</td>\n      <td>0</td>\n      <td>[]</td>\n      <td>['https://t.co/rytlted08g']</td>\n      <td>0</td>\n      <td>[]</td>\n      <td>...</td>\n      <td>0.0</td>\n      <td>False</td>\n      <td>False</td>\n      <td>False</td>\n      <td>False</td>\n      <td>[enseignants, mettre, prescriptions, président...</td>\n      <td>enseignants mettre prescriptions président rép...</td>\n      <td>0.06</td>\n      <td>0.125</td>\n      <td>0.000000</td>\n    </tr>\n    <tr>\n      <th>4</th>\n      <td>mafieuse oppressive macron</td>\n      <td>0</td>\n      <td>0</td>\n      <td>13957</td>\n      <td>25311</td>\n      <td>10841</td>\n      <td>[]</td>\n      <td>[]</td>\n      <td>0</td>\n      <td>[]</td>\n      <td>...</td>\n      <td>0.0</td>\n      <td>True</td>\n      <td>False</td>\n      <td>False</td>\n      <td>False</td>\n      <td>[mafieuse, oppressive, macron]</td>\n      <td>mafieuse oppressive macron</td>\n      <td>0.00</td>\n      <td>0.000</td>\n      <td>0.000000</td>\n    </tr>\n    <tr>\n      <th>...</th>\n      <td>...</td>\n      <td>...</td>\n      <td>...</td>\n      <td>...</td>\n      <td>...</td>\n      <td>...</td>\n      <td>...</td>\n      <td>...</td>\n      <td>...</td>\n      <td>...</td>\n      <td>...</td>\n      <td>...</td>\n      <td>...</td>\n      <td>...</td>\n      <td>...</td>\n      <td>...</td>\n      <td>...</td>\n      <td>...</td>\n      <td>...</td>\n      <td>...</td>\n      <td>...</td>\n    </tr>\n    <tr>\n      <th>353964</th>\n      <td>gonflette tour raciste frustré</td>\n      <td>0</td>\n      <td>0</td>\n      <td>34</td>\n      <td>1509</td>\n      <td>55</td>\n      <td>[]</td>\n      <td>['https://t.co/pma33zhslx']</td>\n      <td>0</td>\n      <td>[]</td>\n      <td>...</td>\n      <td>0.0</td>\n      <td>False</td>\n      <td>False</td>\n      <td>False</td>\n      <td>False</td>\n      <td>[gonflette, tour, raciste, frustré]</td>\n      <td>gonflette tour raciste frustré</td>\n      <td>0.00</td>\n      <td>0.000</td>\n      <td>0.000000</td>\n    </tr>\n    <tr>\n      <th>353965</th>\n      <td>france caste crapuleuse encadrée gangsters irr...</td>\n      <td>0</td>\n      <td>0</td>\n      <td>89</td>\n      <td>11166</td>\n      <td>127</td>\n      <td>[]</td>\n      <td>[]</td>\n      <td>0</td>\n      <td>[]</td>\n      <td>...</td>\n      <td>0.0</td>\n      <td>False</td>\n      <td>False</td>\n      <td>False</td>\n      <td>False</td>\n      <td>[france, caste, crapuleuse, encadrée, gangster...</td>\n      <td>france caste crapuleuse encadrée gangsters irr...</td>\n      <td>0.10</td>\n      <td>0.200</td>\n      <td>0.000000</td>\n    </tr>\n    <tr>\n      <th>353966</th>\n      <td>eric zemmour français berbère</td>\n      <td>3</td>\n      <td>0</td>\n      <td>1888</td>\n      <td>712</td>\n      <td>3086</td>\n      <td>[]</td>\n      <td>[]</td>\n      <td>0</td>\n      <td>[]</td>\n      <td>...</td>\n      <td>0.0</td>\n      <td>False</td>\n      <td>True</td>\n      <td>False</td>\n      <td>False</td>\n      <td>[eric, zemmour, français, berbère]</td>\n      <td>eric zemmour français berbère</td>\n      <td>0.20</td>\n      <td>0.000</td>\n      <td>0.000000</td>\n    </tr>\n    <tr>\n      <th>353967</th>\n      <td>gauchistes dépression pq</td>\n      <td>0</td>\n      <td>0</td>\n      <td>139</td>\n      <td>486</td>\n      <td>320</td>\n      <td>[]</td>\n      <td>[]</td>\n      <td>0</td>\n      <td>[]</td>\n      <td>...</td>\n      <td>0.0</td>\n      <td>False</td>\n      <td>False</td>\n      <td>False</td>\n      <td>False</td>\n      <td>[gauchistes, dépression, pq]</td>\n      <td>gauchistes dépression pq</td>\n      <td>0.00</td>\n      <td>0.000</td>\n      <td>0.333333</td>\n    </tr>\n    <tr>\n      <th>353968</th>\n      <td>algérie emmanuel macron grande histoire amour</td>\n      <td>0</td>\n      <td>0</td>\n      <td>0</td>\n      <td>82</td>\n      <td>24</td>\n      <td>[]</td>\n      <td>[]</td>\n      <td>0</td>\n      <td>[]</td>\n      <td>...</td>\n      <td>0.0</td>\n      <td>True</td>\n      <td>False</td>\n      <td>False</td>\n      <td>False</td>\n      <td>[algérie, emmanuel, macron, grande, histoire, ...</td>\n      <td>algérie emmanuel macron grande histoire amour</td>\n      <td>0.30</td>\n      <td>0.200</td>\n      <td>0.000000</td>\n    </tr>\n  </tbody>\n</table>\n<p>353969 rows × 67 columns</p>\n</div>"
     },
     "metadata": {},
     "output_type": "display_data"
    }
   ],
   "source": [
    "train_data = data.feature_words_arr(train_data)\n",
    "train_data = data.feature_delete_stop_words(train_data, 'text_without_stopwords')\n",
    "train_data = data.feature_sent_analysis(train_data, 'text_without_stopwords')\n",
    "train_data = data.feature_abbrev(train_data)\n",
    "display(train_data)\n",
    "# # outlier removal\n",
    "# train_data = train_data[train_data[\"retweets_count\"] <= 40000]"
   ]
  },
  {
   "cell_type": "code",
   "execution_count": 8,
   "metadata": {},
   "outputs": [],
   "source": [
    "# from nltk.sentiment import SentimentIntensityAnalyzer\n",
    "# sia = SentimentIntensityAnalyzer()\n",
    "# print(\"sentiment analysis...\")\n",
    "# train_data[\"compound\"] =  train_data[\"text\"].apply(lambda s: sia.polarity_scores(s)['compound'])"
   ]
  },
  {
   "cell_type": "code",
   "execution_count": 9,
   "metadata": {},
   "outputs": [],
   "source": [
    "# select useful columns\n",
    "train_data_filtered = train_data.drop([\"text\", \"urls\", \"mentions\", \"hashtags\", \"timestamp\", \"TweetID\",\n",
    "                                        \"text_arr\", \"text_without_stopwords\"], axis=1)"
   ]
  },
  {
   "cell_type": "code",
   "execution_count": 10,
   "metadata": {
    "collapsed": false
   },
   "outputs": [],
   "source": [
    "# train_data_filtered = train_data.loc[:, [\"retweets_count\",\"favorites_count\",\"followers_count\",\"statuses_count\",\"friends_count\",\n",
    "#                                  \"hashtags_count\",\"hour\",\"verified\",\"url_count\",\"text_len\",\"rt\",\"Macron\",\"Zemmour\",\"Melenchon\"]]\n",
    "\n",
    "\n",
    "X_train, X_eval, y_train, y_eval = train_test_split(train_data_filtered.drop(\"retweets_count\", axis=1),\n",
    "                                                    train_data_filtered[\"retweets_count\"],\n",
    "                                                    random_state=42, test_size=0.1)\n",
    "\n",
    "# Standardize the data\n",
    "normal_columns = train_data_filtered.drop([\"hour\", \"verified\", \"url_count\", \"rt\", \"retweets_count\"], axis=1).columns\n",
    "# normal_columns = train_data_filtered.drop([\"hour\", \"verified\", \"url_count\", \"rt\", \"retweets_count\"], axis=1).columns\n",
    "mu, sigma = X_train[normal_columns].mean(axis=0), X_train[normal_columns].std(axis=0)\n",
    "X_train.loc[:, normal_columns] = (X_train[normal_columns] - mu) / sigma\n",
    "X_eval.loc[:, normal_columns] = (X_eval[normal_columns] - mu) / sigma"
   ]
  },
  {
   "cell_type": "code",
   "execution_count": 11,
   "metadata": {},
   "outputs": [],
   "source": [
    "import tensorflow as tf"
   ]
  },
  {
   "cell_type": "code",
   "execution_count": 43,
   "metadata": {},
   "outputs": [
    {
     "data": {
      "text/plain": "\"model = tf.keras.models.Sequential([\\n    tf.keras.layers.Dense(40, activation='relu'),\\n    # tf.keras.layers.Dropout(0.1),\\n    tf.keras.layers.Dense(40, activation='relu'),\\n    tf.keras.layers.Dense(1),\\n])\""
     },
     "execution_count": 43,
     "metadata": {},
     "output_type": "execute_result"
    }
   ],
   "source": [
    "# model = tf.keras.models.Sequential([\n",
    "#   tf.keras.layers.Dense(20, activation='relu'),\n",
    "#   tf.keras.layers.Dense(20, activation='relu'),\n",
    "#   tf.keras.layers.Dense(20, activation='relu'),\n",
    "#   tf.keras.layers.Dense(1),\n",
    "# ])\n",
    "\n",
    "\"\"\"model = tf.keras.models.Sequential([\n",
    "  tf.keras.layers.Dense(32, activation='relu'),\n",
    "  tf.keras.layers.Dropout(0.2),\n",
    "  tf.keras.layers.Dense(32, activation='relu'),\n",
    "  tf.keras.layers.Dropout(0.2),\n",
    "  tf.keras.layers.Dense(32, activation='relu'),\n",
    "  tf.keras.layers.Dropout(0.2),\n",
    "  tf.keras.layers.Dense(1),\n",
    "])\"\"\"\n",
    "\n",
    "model = tf.keras.models.Sequential([\n",
    "    tf.keras.layers.Dense(25, activation='relu'),\n",
    "    tf.keras.layers.Dense(25, activation='relu'),\n",
    "    tf.keras.layers.Dense(25, activation='relu'),\n",
    "    tf.keras.layers.Dense(1),\n",
    "])\n",
    "\n",
    "\"\"\"model = tf.keras.models.Sequential([\n",
    "    tf.keras.layers.Dense(40, activation='relu'),\n",
    "    # tf.keras.layers.Dropout(0.1),\n",
    "    tf.keras.layers.Dense(40, activation='relu'),\n",
    "    tf.keras.layers.Dense(1),\n",
    "])\"\"\"\n",
    "\n",
    "# model = tf.keras.models.Sequential([\n",
    "#   tf.keras.layers.Dense(128, activation='relu'),\n",
    "#   tf.keras.layers.Dropout(0.2),\n",
    "#   tf.keras.layers.Dense(128, activation='relu'),\n",
    "#   tf.keras.layers.Dropout(0.2),\n",
    "#   tf.keras.layers.Dense(128, activation='relu'),\n",
    "#   tf.keras.layers.Dropout(0.2),\n",
    "#   tf.keras.layers.Dense(1),\n",
    "# ])"
   ]
  },
  {
   "cell_type": "code",
   "execution_count": 39,
   "metadata": {},
   "outputs": [],
   "source": [
    "# model.compile(optimizer=\"adam\", loss='mae')"
   ]
  },
  {
   "cell_type": "code",
   "execution_count": 44,
   "metadata": {},
   "outputs": [],
   "source": [
    "import tensorflow_addons as tfa\n",
    "optimizer = tfa.optimizers.AdamW(learning_rate=1e-3, weight_decay=1e-6)\n",
    "model.compile(optimizer=optimizer, loss='mae')"
   ]
  },
  {
   "cell_type": "code",
   "execution_count": 68,
   "metadata": {},
   "outputs": [
    {
     "name": "stdout",
     "output_type": "stream",
     "text": [
      "Epoch 1/20\n",
      "312/312 [==============================] - 1s 2ms/step - loss: 5.4847 - val_loss: 5.5762\n",
      "Epoch 2/20\n",
      "312/312 [==============================] - 0s 1ms/step - loss: 5.4703 - val_loss: 5.6186\n",
      "Epoch 3/20\n",
      "312/312 [==============================] - 1s 2ms/step - loss: 5.4545 - val_loss: 5.5620\n",
      "Epoch 4/20\n",
      "312/312 [==============================] - 1s 2ms/step - loss: 5.4288 - val_loss: 5.6206\n",
      "Epoch 5/20\n",
      "312/312 [==============================] - 1s 2ms/step - loss: 5.4176 - val_loss: 5.6157\n",
      "Epoch 6/20\n",
      "312/312 [==============================] - 1s 2ms/step - loss: 5.4238 - val_loss: 5.5922\n",
      "Epoch 7/20\n",
      "312/312 [==============================] - 1s 2ms/step - loss: 5.4030 - val_loss: 5.6367\n",
      "Epoch 8/20\n",
      "312/312 [==============================] - 1s 2ms/step - loss: 5.3892 - val_loss: 5.6245\n",
      "Epoch 9/20\n",
      "312/312 [==============================] - 1s 2ms/step - loss: 5.4135 - val_loss: 5.6525\n",
      "Epoch 10/20\n",
      "312/312 [==============================] - 1s 2ms/step - loss: 5.3783 - val_loss: 5.5769\n",
      "Epoch 11/20\n",
      "312/312 [==============================] - 1s 2ms/step - loss: 5.3682 - val_loss: 5.5908\n",
      "Epoch 12/20\n",
      "312/312 [==============================] - 1s 2ms/step - loss: 5.3672 - val_loss: 5.5686\n",
      "Epoch 13/20\n",
      "312/312 [==============================] - 1s 2ms/step - loss: 5.3589 - val_loss: 5.6304\n",
      "Epoch 14/20\n",
      "312/312 [==============================] - 1s 2ms/step - loss: 5.3438 - val_loss: 5.6001\n",
      "Epoch 15/20\n",
      "312/312 [==============================] - 1s 2ms/step - loss: 5.3326 - val_loss: 5.6268\n",
      "Epoch 16/20\n",
      "312/312 [==============================] - 1s 3ms/step - loss: 5.3227 - val_loss: 5.6439\n",
      "Epoch 17/20\n",
      "312/312 [==============================] - 1s 2ms/step - loss: 5.3069 - val_loss: 5.6941\n",
      "Epoch 18/20\n",
      "312/312 [==============================] - 1s 2ms/step - loss: 5.2864 - val_loss: 5.5845\n",
      "Epoch 19/20\n",
      "312/312 [==============================] - 1s 2ms/step - loss: 5.3064 - val_loss: 5.6094\n",
      "Epoch 20/20\n",
      "312/312 [==============================] - 0s 1ms/step - loss: 5.2952 - val_loss: 5.6091\n"
     ]
    }
   ],
   "source": [
    "history = model.fit(X_train.values.astype(np.float32), y_train.values.astype(np.float32), epochs=48, batch_size=1024,\n",
    "         validation_data=(X_eval.values.astype(np.float32), y_eval.values.astype(np.float32)), shuffle=True)"
   ]
  },
  {
   "cell_type": "code",
   "execution_count": 69,
   "metadata": {},
   "outputs": [
    {
     "data": {
      "text/plain": "<Figure size 640x480 with 1 Axes>",
      "image/png": "[encoded data removed]"
     },
     "metadata": {},
     "output_type": "display_data"
    }
   ],
   "source": [
    "plt.plot(history.epoch, history.history[\"loss\"], 'b', label='Training loss')\n",
    "plt.plot(history.epoch, history.history[\"val_loss\"], 'g', label='Validation loss')\n",
    "plt.title('Training loss')\n",
    "plt.xlabel('Epochs')\n",
    "plt.ylabel('Loss')\n",
    "plt.legend()\n",
    "plt.show()"
   ]
  },
  {
   "cell_type": "code",
   "execution_count": 47,
   "metadata": {},
   "outputs": [
    {
     "name": "stdout",
     "output_type": "stream",
     "text": [
      "1107/1107 - 1s - loss: 5.6037 - 679ms/epoch - 614us/step\n"
     ]
    },
    {
     "data": {
      "text/plain": "5.603736877441406"
     },
     "execution_count": 47,
     "metadata": {},
     "output_type": "execute_result"
    }
   ],
   "source": [
    "model.evaluate(X_eval.values.astype(np.float32),  y_eval.values.astype(np.float32), verbose=2)"
   ]
  },
  {
   "cell_type": "code",
   "execution_count": 48,
   "metadata": {},
   "outputs": [
    {
     "name": "stdout",
     "output_type": "stream",
     "text": [
      "1107/1107 [==============================] - 0s 389us/step\n",
      "[[-2.6853001e-03]\n",
      " [-1.0917699e-03]\n",
      " [ 6.2853563e-01]\n",
      " ...\n",
      " [-2.8142845e-03]\n",
      " [-3.0687368e-03]\n",
      " [ 1.6729181e+01]]\n"
     ]
    }
   ],
   "source": [
    "pred = model.predict(X_eval.values.astype(np.float32))\n",
    "print(pred)"
   ]
  },
  {
   "cell_type": "code",
   "execution_count": 49,
   "metadata": {},
   "outputs": [],
   "source": [
    "eval_data = X_eval.copy()\n",
    "eval_data [\"groundtruth\"] = y_eval\n",
    "eval_data[\"pred\"] = pred"
   ]
  },
  {
   "cell_type": "code",
   "execution_count": 50,
   "metadata": {},
   "outputs": [
    {
     "data": {
      "text/plain": "        favorites_count  followers_count  statuses_count  friends_count  \\\n307625        -0.055089        -0.077407       -0.334165      -0.497254   \n52950         -0.055089        -0.077779       -0.408998      -0.502035   \n289882        -0.055089        -0.067681        2.979071       1.399853   \n17637         -0.055089        -0.075549        0.847381      -0.566985   \n339255        -0.053906        -0.028786       -0.027463       0.115989   \n...                 ...              ...             ...            ...   \n308634        -0.055089        -0.071539        0.205442       0.380173   \n276530        -0.053906        -0.077630       -0.393446      -0.539890   \n302150        -0.055089        -0.076848       -0.012975      -0.174096   \n55651         -0.055089        -0.077729       -0.401657      -0.502434   \n194022        -0.008948         0.402570        0.433283       0.017169   \n\n        verified         0         1         2         3         4  ...  \\\n307625         0  1.659951  1.260441 -1.153281  0.314119 -1.681024  ...   \n52950          0  1.607378  0.328137 -1.410871 -1.100783 -1.638529  ...   \n289882         0  1.007636 -1.711462 -1.069517 -0.976684  1.441044  ...   \n17637          0  0.549285  1.078439  0.109340 -0.835755  0.671844  ...   \n339255         0  0.740793  1.850542  0.874007  0.992360 -0.676857  ...   \n...          ...       ...       ...       ...       ...       ...  ...   \n308634         0  0.212282  0.000731 -0.220809 -0.582526  0.462151  ...   \n276530         0 -1.104100  0.471199 -0.114141 -1.280227 -1.860396  ...   \n302150         0 -0.294150 -0.265219  0.010878  0.323343  0.885406  ...   \n55651          0  0.402766  0.210234 -0.945661  0.152839 -0.230660  ...   \n194022         1  1.795254  0.104305  0.130150  0.017384 -1.658936  ...   \n\n            sqrt    Macron   Zemmour      Vote     rt  polarity  subjectivity  \\\n307625 -0.246756 -0.601175 -0.379343 -0.257806  False  0.794312     -0.754931   \n52950  -0.246756 -0.601175 -0.379343 -0.257806  False  0.989324      0.480421   \n289882 -0.246756 -0.601175 -0.379343 -0.257806   True -1.459153      0.963819   \n17637  -0.246756 -0.601175 -0.379343 -0.257806   True  0.144274      0.534132   \n339255 -0.095813  1.663403 -0.379343 -0.257806  False -0.072405     -0.754931   \n...          ...       ...       ...       ...    ...       ...           ...   \n308634 -0.246756 -0.601175 -0.379343 -0.257806  False -0.072405     -0.754931   \n276530 -0.095813 -0.601175 -0.379343 -0.257806  False  0.216501     -0.110400   \n302150 -0.246756 -0.601175 -0.379343 -0.257806  False -0.397424     -0.325244   \n55651  -0.246756 -0.601175 -0.379343  3.878877  False -0.072405     -0.754931   \n194022  0.695882 -0.601175 -0.379343 -0.257806  False  0.913486      0.748976   \n\n           abrev  groundtruth       pred  \n307625 -0.389772            0  -0.002685  \n52950  -0.389772            0  -0.001092  \n289882 -0.389772            0   0.628536  \n17637   2.679304            0   0.056327  \n339255 -0.389772            1   1.311064  \n...          ...          ...        ...  \n308634 -0.389772            3   0.090964  \n276530 -0.389772            3   1.048473  \n302150  1.802425            0  -0.002814  \n55651  -0.389772            0  -0.003069  \n194022 -0.389772           13  16.729181  \n\n[35397 rows x 60 columns]",
      "text/html": "<div>\n<style scoped>\n    .dataframe tbody tr th:only-of-type {\n        vertical-align: middle;\n    }\n\n    .dataframe tbody tr th {\n        vertical-align: top;\n    }\n\n    .dataframe thead th {\n        text-align: right;\n    }\n</style>\n<table border=\"1\" class=\"dataframe\">\n  <thead>\n    <tr style=\"text-align: right;\">\n      <th></th>\n      <th>favorites_count</th>\n      <th>followers_count</th>\n      <th>statuses_count</th>\n      <th>friends_count</th>\n      <th>verified</th>\n      <th>0</th>\n      <th>1</th>\n      <th>2</th>\n      <th>3</th>\n      <th>4</th>\n      <th>...</th>\n      <th>sqrt</th>\n      <th>Macron</th>\n      <th>Zemmour</th>\n      <th>Vote</th>\n      <th>rt</th>\n      <th>polarity</th>\n      <th>subjectivity</th>\n      <th>abrev</th>\n      <th>groundtruth</th>\n      <th>pred</th>\n    </tr>\n  </thead>\n  <tbody>\n    <tr>\n      <th>307625</th>\n      <td>-0.055089</td>\n      <td>-0.077407</td>\n      <td>-0.334165</td>\n      <td>-0.497254</td>\n      <td>0</td>\n      <td>1.659951</td>\n      <td>1.260441</td>\n      <td>-1.153281</td>\n      <td>0.314119</td>\n      <td>-1.681024</td>\n      <td>...</td>\n      <td>-0.246756</td>\n      <td>-0.601175</td>\n      <td>-0.379343</td>\n      <td>-0.257806</td>\n      <td>False</td>\n      <td>0.794312</td>\n      <td>-0.754931</td>\n      <td>-0.389772</td>\n      <td>0</td>\n      <td>-0.002685</td>\n    </tr>\n    <tr>\n      <th>52950</th>\n      <td>-0.055089</td>\n      <td>-0.077779</td>\n      <td>-0.408998</td>\n      <td>-0.502035</td>\n      <td>0</td>\n      <td>1.607378</td>\n      <td>0.328137</td>\n      <td>-1.410871</td>\n      <td>-1.100783</td>\n      <td>-1.638529</td>\n      <td>...</td>\n      <td>-0.246756</td>\n      <td>-0.601175</td>\n      <td>-0.379343</td>\n      <td>-0.257806</td>\n      <td>False</td>\n      <td>0.989324</td>\n      <td>0.480421</td>\n      <td>-0.389772</td>\n      <td>0</td>\n      <td>-0.001092</td>\n    </tr>\n    <tr>\n      <th>289882</th>\n      <td>-0.055089</td>\n      <td>-0.067681</td>\n      <td>2.979071</td>\n      <td>1.399853</td>\n      <td>0</td>\n      <td>1.007636</td>\n      <td>-1.711462</td>\n      <td>-1.069517</td>\n      <td>-0.976684</td>\n      <td>1.441044</td>\n      <td>...</td>\n      <td>-0.246756</td>\n      <td>-0.601175</td>\n      <td>-0.379343</td>\n      <td>-0.257806</td>\n      <td>True</td>\n      <td>-1.459153</td>\n      <td>0.963819</td>\n      <td>-0.389772</td>\n      <td>0</td>\n      <td>0.628536</td>\n    </tr>\n    <tr>\n      <th>17637</th>\n      <td>-0.055089</td>\n      <td>-0.075549</td>\n      <td>0.847381</td>\n      <td>-0.566985</td>\n      <td>0</td>\n      <td>0.549285</td>\n      <td>1.078439</td>\n      <td>0.109340</td>\n      <td>-0.835755</td>\n      <td>0.671844</td>\n      <td>...</td>\n      <td>-0.246756</td>\n      <td>-0.601175</td>\n      <td>-0.379343</td>\n      <td>-0.257806</td>\n      <td>True</td>\n      <td>0.144274</td>\n      <td>0.534132</td>\n      <td>2.679304</td>\n      <td>0</td>\n      <td>0.056327</td>\n    </tr>\n    <tr>\n      <th>339255</th>\n      <td>-0.053906</td>\n      <td>-0.028786</td>\n      <td>-0.027463</td>\n      <td>0.115989</td>\n      <td>0</td>\n      <td>0.740793</td>\n      <td>1.850542</td>\n      <td>0.874007</td>\n      <td>0.992360</td>\n      <td>-0.676857</td>\n      <td>...</td>\n      <td>-0.095813</td>\n      <td>1.663403</td>\n      <td>-0.379343</td>\n      <td>-0.257806</td>\n      <td>False</td>\n      <td>-0.072405</td>\n      <td>-0.754931</td>\n      <td>-0.389772</td>\n      <td>1</td>\n      <td>1.311064</td>\n    </tr>\n    <tr>\n      <th>...</th>\n      <td>...</td>\n      <td>...</td>\n      <td>...</td>\n      <td>...</td>\n      <td>...</td>\n      <td>...</td>\n      <td>...</td>\n      <td>...</td>\n      <td>...</td>\n      <td>...</td>\n      <td>...</td>\n      <td>...</td>\n      <td>...</td>\n      <td>...</td>\n      <td>...</td>\n      <td>...</td>\n      <td>...</td>\n      <td>...</td>\n      <td>...</td>\n      <td>...</td>\n      <td>...</td>\n    </tr>\n    <tr>\n      <th>308634</th>\n      <td>-0.055089</td>\n      <td>-0.071539</td>\n      <td>0.205442</td>\n      <td>0.380173</td>\n      <td>0</td>\n      <td>0.212282</td>\n      <td>0.000731</td>\n      <td>-0.220809</td>\n      <td>-0.582526</td>\n      <td>0.462151</td>\n      <td>...</td>\n      <td>-0.246756</td>\n      <td>-0.601175</td>\n      <td>-0.379343</td>\n      <td>-0.257806</td>\n      <td>False</td>\n      <td>-0.072405</td>\n      <td>-0.754931</td>\n      <td>-0.389772</td>\n      <td>3</td>\n      <td>0.090964</td>\n    </tr>\n    <tr>\n      <th>276530</th>\n      <td>-0.053906</td>\n      <td>-0.077630</td>\n      <td>-0.393446</td>\n      <td>-0.539890</td>\n      <td>0</td>\n      <td>-1.104100</td>\n      <td>0.471199</td>\n      <td>-0.114141</td>\n      <td>-1.280227</td>\n      <td>-1.860396</td>\n      <td>...</td>\n      <td>-0.095813</td>\n      <td>-0.601175</td>\n      <td>-0.379343</td>\n      <td>-0.257806</td>\n      <td>False</td>\n      <td>0.216501</td>\n      <td>-0.110400</td>\n      <td>-0.389772</td>\n      <td>3</td>\n      <td>1.048473</td>\n    </tr>\n    <tr>\n      <th>302150</th>\n      <td>-0.055089</td>\n      <td>-0.076848</td>\n      <td>-0.012975</td>\n      <td>-0.174096</td>\n      <td>0</td>\n      <td>-0.294150</td>\n      <td>-0.265219</td>\n      <td>0.010878</td>\n      <td>0.323343</td>\n      <td>0.885406</td>\n      <td>...</td>\n      <td>-0.246756</td>\n      <td>-0.601175</td>\n      <td>-0.379343</td>\n      <td>-0.257806</td>\n      <td>False</td>\n      <td>-0.397424</td>\n      <td>-0.325244</td>\n      <td>1.802425</td>\n      <td>0</td>\n      <td>-0.002814</td>\n    </tr>\n    <tr>\n      <th>55651</th>\n      <td>-0.055089</td>\n      <td>-0.077729</td>\n      <td>-0.401657</td>\n      <td>-0.502434</td>\n      <td>0</td>\n      <td>0.402766</td>\n      <td>0.210234</td>\n      <td>-0.945661</td>\n      <td>0.152839</td>\n      <td>-0.230660</td>\n      <td>...</td>\n      <td>-0.246756</td>\n      <td>-0.601175</td>\n      <td>-0.379343</td>\n      <td>3.878877</td>\n      <td>False</td>\n      <td>-0.072405</td>\n      <td>-0.754931</td>\n      <td>-0.389772</td>\n      <td>0</td>\n      <td>-0.003069</td>\n    </tr>\n    <tr>\n      <th>194022</th>\n      <td>-0.008948</td>\n      <td>0.402570</td>\n      <td>0.433283</td>\n      <td>0.017169</td>\n      <td>1</td>\n      <td>1.795254</td>\n      <td>0.104305</td>\n      <td>0.130150</td>\n      <td>0.017384</td>\n      <td>-1.658936</td>\n      <td>...</td>\n      <td>0.695882</td>\n      <td>-0.601175</td>\n      <td>-0.379343</td>\n      <td>-0.257806</td>\n      <td>False</td>\n      <td>0.913486</td>\n      <td>0.748976</td>\n      <td>-0.389772</td>\n      <td>13</td>\n      <td>16.729181</td>\n    </tr>\n  </tbody>\n</table>\n<p>35397 rows × 60 columns</p>\n</div>"
     },
     "execution_count": 50,
     "metadata": {},
     "output_type": "execute_result"
    }
   ],
   "source": [
    "eval_data"
   ]
  },
  {
   "cell_type": "code",
   "execution_count": 51,
   "metadata": {},
   "outputs": [],
   "source": [
    "# eval_data.to_csv(\"pred_example_58\")"
   ]
  },
  {
   "cell_type": "code",
   "execution_count": 52,
   "metadata": {},
   "outputs": [],
   "source": [
    "# plt.scatter(X_train[\"favorites_count\"], model.predict(X_train))\n",
    "# plt.scatter(X_train[\"favorites_count\"], y_train.values.astype(np.float32))"
   ]
  },
  {
   "cell_type": "code",
   "execution_count": 58,
   "metadata": {},
   "outputs": [],
   "source": [
    "# evaluation\n",
    "\n",
    "eval_data = pd.read_csv(\"data/evaluation_with_embeddings.csv\")\n",
    "eval_data = eval_data.drop([\"Unnamed: 0\"], axis=1)\n",
    "tweets = eval_data[\"TweetID\"]"
   ]
  },
  {
   "cell_type": "code",
   "execution_count": 59,
   "metadata": {},
   "outputs": [
    {
     "data": {
      "text/plain": "        favorites_count  followers_count  statuses_count  friends_count  \\\n0             -0.055089        -0.077561       -0.384487      -0.451430   \n1             -0.055089        -0.076250       -0.130940      -0.405207   \n2             -0.047990        -0.073569       -0.308274       0.054226   \n3             -0.052722        -0.071378       -0.197070       0.229552   \n4             -0.055089        -0.076932       -0.241396      -0.434694   \n...                 ...              ...             ...            ...   \n117985        -0.055089        -0.077871       -0.421834      -0.556227   \n117986        -0.055089        -0.075036       -0.076371      -0.225498   \n117987        -0.040891        -0.074347       -0.403582      -0.518372   \n117988        -0.055089        -0.077867       -0.423504      -0.549851   \n117989        -0.055089        -0.075760       -0.373401      -0.522357   \n\n        verified         0         1         2         3         4  ...  \\\n0              0  0.000738 -0.827161 -0.165913 -0.086488  0.335220  ...   \n1              0 -0.140195 -0.817307  0.445312 -0.190840  0.682034  ...   \n2              0  0.331631 -1.551471  0.577129  0.500906  0.824197  ...   \n3              0  0.757116 -2.875776  2.891350  3.095130  0.305862  ...   \n4              0 -0.004402 -3.323222  1.639834  1.293254  1.202535  ...   \n...          ...       ...       ...       ...       ...       ...  ...   \n117985         0 -0.067105 -0.899418  0.230043 -0.062717  0.436172  ...   \n117986         0 -0.353704 -1.108917  0.237334  0.625011  0.212448  ...   \n117987         0 -0.044470 -1.529406  0.130219  1.074033  0.150446  ...   \n117988         0 -1.222857 -1.809126  1.924704  1.314657 -0.172334  ...   \n117989         0 -0.997746 -0.626918  0.061379  0.937429 -0.957875  ...   \n\n        avg_word_count       log      sqrt    Macron   Zemmour      Vote  \\\n0            -1.214200 -0.564477 -0.246756 -0.601175 -0.379343  3.878877   \n1            -1.019999 -0.564477 -0.246756 -0.601175 -0.379343 -0.257806   \n2            -0.631597  1.216190  0.122977 -0.601175 -0.379343 -0.257806   \n3             1.310413  0.754289 -0.033291  1.663403 -0.379343  3.878877   \n4             1.504614 -0.564477 -0.246756 -0.601175  2.636129 -0.257806   \n...                ...       ...       ...       ...       ...       ...   \n117985       -1.019999 -0.564477 -0.246756 -0.601175 -0.379343  3.878877   \n117986        1.698815 -0.564477 -0.246756 -0.601175 -0.379343 -0.257806   \n117987        0.145207  1.512869  0.276125  1.663403 -0.379343 -0.257806   \n117988        1.504614 -0.564477 -0.246756 -0.601175 -0.379343 -0.257806   \n117989       -0.243195 -0.564477 -0.246756 -0.601175 -0.379343 -0.257806   \n\n           rt  polarity  subjectivity     abrev  \n0       False -0.072405     -0.754931 -0.389772  \n1       False -0.072405     -0.754931 -0.389772  \n2       False -0.072405      1.393507 -0.389772  \n3       False -0.939123      0.319288  0.569314  \n4       False -0.289085      0.405225 -0.389772  \n...       ...       ...           ...       ...  \n117985  False -0.072405     -0.754931 -0.389772  \n117986  False -0.072405     -0.754931 -0.389772  \n117987  False -1.480821      1.393507 -0.389772  \n117988  False  2.094389      3.112258  0.512898  \n117989   True  1.704366      0.534132 -0.389772  \n\n[117990 rows x 58 columns]",
      "text/html": "<div>\n<style scoped>\n    .dataframe tbody tr th:only-of-type {\n        vertical-align: middle;\n    }\n\n    .dataframe tbody tr th {\n        vertical-align: top;\n    }\n\n    .dataframe thead th {\n        text-align: right;\n    }\n</style>\n<table border=\"1\" class=\"dataframe\">\n  <thead>\n    <tr style=\"text-align: right;\">\n      <th></th>\n      <th>favorites_count</th>\n      <th>followers_count</th>\n      <th>statuses_count</th>\n      <th>friends_count</th>\n      <th>verified</th>\n      <th>0</th>\n      <th>1</th>\n      <th>2</th>\n      <th>3</th>\n      <th>4</th>\n      <th>...</th>\n      <th>avg_word_count</th>\n      <th>log</th>\n      <th>sqrt</th>\n      <th>Macron</th>\n      <th>Zemmour</th>\n      <th>Vote</th>\n      <th>rt</th>\n      <th>polarity</th>\n      <th>subjectivity</th>\n      <th>abrev</th>\n    </tr>\n  </thead>\n  <tbody>\n    <tr>\n      <th>0</th>\n      <td>-0.055089</td>\n      <td>-0.077561</td>\n      <td>-0.384487</td>\n      <td>-0.451430</td>\n      <td>0</td>\n      <td>0.000738</td>\n      <td>-0.827161</td>\n      <td>-0.165913</td>\n      <td>-0.086488</td>\n      <td>0.335220</td>\n      <td>...</td>\n      <td>-1.214200</td>\n      <td>-0.564477</td>\n      <td>-0.246756</td>\n      <td>-0.601175</td>\n      <td>-0.379343</td>\n      <td>3.878877</td>\n      <td>False</td>\n      <td>-0.072405</td>\n      <td>-0.754931</td>\n      <td>-0.389772</td>\n    </tr>\n    <tr>\n      <th>1</th>\n      <td>-0.055089</td>\n      <td>-0.076250</td>\n      <td>-0.130940</td>\n      <td>-0.405207</td>\n      <td>0</td>\n      <td>-0.140195</td>\n      <td>-0.817307</td>\n      <td>0.445312</td>\n      <td>-0.190840</td>\n      <td>0.682034</td>\n      <td>...</td>\n      <td>-1.019999</td>\n      <td>-0.564477</td>\n      <td>-0.246756</td>\n      <td>-0.601175</td>\n      <td>-0.379343</td>\n      <td>-0.257806</td>\n      <td>False</td>\n      <td>-0.072405</td>\n      <td>-0.754931</td>\n      <td>-0.389772</td>\n    </tr>\n    <tr>\n      <th>2</th>\n      <td>-0.047990</td>\n      <td>-0.073569</td>\n      <td>-0.308274</td>\n      <td>0.054226</td>\n      <td>0</td>\n      <td>0.331631</td>\n      <td>-1.551471</td>\n      <td>0.577129</td>\n      <td>0.500906</td>\n      <td>0.824197</td>\n      <td>...</td>\n      <td>-0.631597</td>\n      <td>1.216190</td>\n      <td>0.122977</td>\n      <td>-0.601175</td>\n      <td>-0.379343</td>\n      <td>-0.257806</td>\n      <td>False</td>\n      <td>-0.072405</td>\n      <td>1.393507</td>\n      <td>-0.389772</td>\n    </tr>\n    <tr>\n      <th>3</th>\n      <td>-0.052722</td>\n      <td>-0.071378</td>\n      <td>-0.197070</td>\n      <td>0.229552</td>\n      <td>0</td>\n      <td>0.757116</td>\n      <td>-2.875776</td>\n      <td>2.891350</td>\n      <td>3.095130</td>\n      <td>0.305862</td>\n      <td>...</td>\n      <td>1.310413</td>\n      <td>0.754289</td>\n      <td>-0.033291</td>\n      <td>1.663403</td>\n      <td>-0.379343</td>\n      <td>3.878877</td>\n      <td>False</td>\n      <td>-0.939123</td>\n      <td>0.319288</td>\n      <td>0.569314</td>\n    </tr>\n    <tr>\n      <th>4</th>\n      <td>-0.055089</td>\n      <td>-0.076932</td>\n      <td>-0.241396</td>\n      <td>-0.434694</td>\n      <td>0</td>\n      <td>-0.004402</td>\n      <td>-3.323222</td>\n      <td>1.639834</td>\n      <td>1.293254</td>\n      <td>1.202535</td>\n      <td>...</td>\n      <td>1.504614</td>\n      <td>-0.564477</td>\n      <td>-0.246756</td>\n      <td>-0.601175</td>\n      <td>2.636129</td>\n      <td>-0.257806</td>\n      <td>False</td>\n      <td>-0.289085</td>\n      <td>0.405225</td>\n      <td>-0.389772</td>\n    </tr>\n    <tr>\n      <th>...</th>\n      <td>...</td>\n      <td>...</td>\n      <td>...</td>\n      <td>...</td>\n      <td>...</td>\n      <td>...</td>\n      <td>...</td>\n      <td>...</td>\n      <td>...</td>\n      <td>...</td>\n      <td>...</td>\n      <td>...</td>\n      <td>...</td>\n      <td>...</td>\n      <td>...</td>\n      <td>...</td>\n      <td>...</td>\n      <td>...</td>\n      <td>...</td>\n      <td>...</td>\n      <td>...</td>\n    </tr>\n    <tr>\n      <th>117985</th>\n      <td>-0.055089</td>\n      <td>-0.077871</td>\n      <td>-0.421834</td>\n      <td>-0.556227</td>\n      <td>0</td>\n      <td>-0.067105</td>\n      <td>-0.899418</td>\n      <td>0.230043</td>\n      <td>-0.062717</td>\n      <td>0.436172</td>\n      <td>...</td>\n      <td>-1.019999</td>\n      <td>-0.564477</td>\n      <td>-0.246756</td>\n      <td>-0.601175</td>\n      <td>-0.379343</td>\n      <td>3.878877</td>\n      <td>False</td>\n      <td>-0.072405</td>\n      <td>-0.754931</td>\n      <td>-0.389772</td>\n    </tr>\n    <tr>\n      <th>117986</th>\n      <td>-0.055089</td>\n      <td>-0.075036</td>\n      <td>-0.076371</td>\n      <td>-0.225498</td>\n      <td>0</td>\n      <td>-0.353704</td>\n      <td>-1.108917</td>\n      <td>0.237334</td>\n      <td>0.625011</td>\n      <td>0.212448</td>\n      <td>...</td>\n      <td>1.698815</td>\n      <td>-0.564477</td>\n      <td>-0.246756</td>\n      <td>-0.601175</td>\n      <td>-0.379343</td>\n      <td>-0.257806</td>\n      <td>False</td>\n      <td>-0.072405</td>\n      <td>-0.754931</td>\n      <td>-0.389772</td>\n    </tr>\n    <tr>\n      <th>117987</th>\n      <td>-0.040891</td>\n      <td>-0.074347</td>\n      <td>-0.403582</td>\n      <td>-0.518372</td>\n      <td>0</td>\n      <td>-0.044470</td>\n      <td>-1.529406</td>\n      <td>0.130219</td>\n      <td>1.074033</td>\n      <td>0.150446</td>\n      <td>...</td>\n      <td>0.145207</td>\n      <td>1.512869</td>\n      <td>0.276125</td>\n      <td>1.663403</td>\n      <td>-0.379343</td>\n      <td>-0.257806</td>\n      <td>False</td>\n      <td>-1.480821</td>\n      <td>1.393507</td>\n      <td>-0.389772</td>\n    </tr>\n    <tr>\n      <th>117988</th>\n      <td>-0.055089</td>\n      <td>-0.077867</td>\n      <td>-0.423504</td>\n      <td>-0.549851</td>\n      <td>0</td>\n      <td>-1.222857</td>\n      <td>-1.809126</td>\n      <td>1.924704</td>\n      <td>1.314657</td>\n      <td>-0.172334</td>\n      <td>...</td>\n      <td>1.504614</td>\n      <td>-0.564477</td>\n      <td>-0.246756</td>\n      <td>-0.601175</td>\n      <td>-0.379343</td>\n      <td>-0.257806</td>\n      <td>False</td>\n      <td>2.094389</td>\n      <td>3.112258</td>\n      <td>0.512898</td>\n    </tr>\n    <tr>\n      <th>117989</th>\n      <td>-0.055089</td>\n      <td>-0.075760</td>\n      <td>-0.373401</td>\n      <td>-0.522357</td>\n      <td>0</td>\n      <td>-0.997746</td>\n      <td>-0.626918</td>\n      <td>0.061379</td>\n      <td>0.937429</td>\n      <td>-0.957875</td>\n      <td>...</td>\n      <td>-0.243195</td>\n      <td>-0.564477</td>\n      <td>-0.246756</td>\n      <td>-0.601175</td>\n      <td>-0.379343</td>\n      <td>-0.257806</td>\n      <td>True</td>\n      <td>1.704366</td>\n      <td>0.534132</td>\n      <td>-0.389772</td>\n    </tr>\n  </tbody>\n</table>\n<p>117990 rows × 58 columns</p>\n</div>"
     },
     "metadata": {},
     "output_type": "display_data"
    }
   ],
   "source": [
    "eval_data[\"url_count\"] = eval_data[\"urls\"].apply(lambda s: s[1:-1].count(\"\\'\")/2)\n",
    "eval_data[\"text_len\"] = eval_data[\"text\"].apply(lambda s: len(s))\n",
    "eval_data[\"hashtags_count\"] = eval_data[\"hashtags\"].apply(lambda s: s[1:-1].count(\"\\'\")/2)\n",
    "eval_data[\"day\"] = eval_data[\"timestamp\"].apply(lambda t: datetime.utcfromtimestamp(t/1000).day)\n",
    "eval_data[\"hour\"] = eval_data[\"timestamp\"].apply(lambda t: datetime.utcfromtimestamp(t/1000).hour)\n",
    "eval_data[\"year\"] = eval_data[\"timestamp\"].apply(lambda t: datetime.utcfromtimestamp(t/1000).year)\n",
    "eval_data[\"month\"] = eval_data[\"timestamp\"].apply(lambda t: datetime.utcfromtimestamp(t/1000).month)\n",
    "\n",
    "# eval_data[\"Macron\"] =  eval_data[\"text\"].apply(lambda s: (\"macron\" in s.lower().split()))\n",
    "# eval_data[\"Zemmour\"] =  eval_data[\"text\"].apply(lambda s: (\"zemmour\" in s.lower().split()))\n",
    "# eval_data[\"Melenchon\"] =  eval_data[\"text\"].apply(lambda s: (\"melenchon\" in s.lower().split()))\n",
    "eval_data[\"avg_word_len\"] = eval_data[\"text\"].apply(lambda s: np.mean([len(w) for w in s.split()]))\n",
    "eval_data[\"rep_words_freq\"] = eval_data[\"text\"].apply(lambda s: np.mean(len(list(set(s.split())))/len(s.split())))\n",
    "eval_data[\"rep_chars_freq\"] = eval_data[\"text\"].apply(lambda s: np.mean(len(list(set(s)))/len(list(s))))\n",
    "eval_data[\"max_char_freq\"] = eval_data[\"text\"].apply(lambda s: max( [s.count(c) for c in list(set(s))] )/len(list(s)))\n",
    "eval_data[\"avg_word_count\"] = eval_data[\"text\"].apply(lambda s: len(s.split()))\n",
    "\n",
    "eval_data[\"log\"] = np.log(0.1 + eval_data[\"favorites_count\"])\n",
    "eval_data[\"sqrt\"] = np.sqrt(eval_data[\"favorites_count\"])\n",
    "\n",
    "# indicators of keywords\n",
    "train_data[\"Macron\"] =  train_data[\"text\"].apply(lambda s: (\"macron\" in s.lower().split()))\n",
    "train_data[\"Zemmour\"] =  train_data[\"text\"].apply(lambda s: (\"zemmour\" in s.lower().split()))\n",
    "train_data[\"Vote\"] =  train_data[\"text\"].apply(lambda s: (\"vote\" in s.lower().split()) or (\"votez\" in s.lower().split()) or (\"vot\" in s.lower().split()))\n",
    "\n",
    "# indicators of keywords\n",
    "eval_data[\"Macron\"] =  eval_data[\"text\"].apply(lambda s: (\"macron\" in s.lower().split()))\n",
    "eval_data[\"Zemmour\"] =  eval_data[\"text\"].apply(lambda s: (\"zemmour\" in s.lower().split()))\n",
    "eval_data[\"Vote\"] =  eval_data[\"text\"].apply(lambda s: (\"vote\" in s.lower().split()) or (\"votez\" in s.lower().split()) or (\"vot\" in s.lower().split()))\n",
    "# train_data[\"Melenchon\"] =  train_data[\"text\"].apply(lambda s: (\"melenchon\" in s.replace(\"é\",\"e\").lower().split()))\n",
    "\n",
    "# train_data[\"rt\"] =  train_data[\"text\"].apply(lambda s: (\"rt\" in s.lower().split()))\n",
    "eval_data[\"rt\"] =  eval_data[\"text\"].apply(lambda s: (s.lower().split()[0] == \"rt\"))    # changed!!\n",
    "\n",
    "# print(\"sentiment analysis...\")\n",
    "# eval_data[\"compound\"] =  eval_data[\"text\"].apply(lambda s: sia.polarity_scores(s)['compound'])\n",
    "\n",
    "eval_data = data.feature_words_arr(eval_data)\n",
    "eval_data = data.feature_delete_stop_words(eval_data, 'text_without_stopwords')\n",
    "eval_data = data.feature_sent_analysis(eval_data, 'text_without_stopwords')\n",
    "eval_data = data.feature_abbrev(eval_data)\n",
    "\n",
    "eval_data = eval_data.drop([\"text\", \"urls\", \"mentions\", \"hashtags\", \"timestamp\", \"TweetID\",\n",
    "                                        \"text_arr\", \"text_without_stopwords\"], axis=1)\n",
    "\n",
    "# normalize\n",
    "eval_data.loc[:, normal_columns] = (eval_data.loc[:, normal_columns] - mu) / sigma\n",
    "\n",
    "display(eval_data)"
   ]
  },
  {
   "cell_type": "code",
   "execution_count": 60,
   "metadata": {},
   "outputs": [
    {
     "data": {
      "text/plain": "        favorites_count  followers_count  statuses_count  friends_count  \\\n286184        -0.055089        -0.077844       -0.421579      -0.525943   \n83577         -0.055089        -0.067811       -0.070867       0.325185   \n165861        -0.055089        -0.077714       -0.417499      -0.523552   \n314938        -0.045624        -0.071025       -0.322850      -0.292042   \n301981        -0.052722        -0.076427       -0.310814      -0.221115   \n...                 ...              ...             ...            ...   \n119879        -0.055089        -0.074569       -0.374245      -0.252993   \n259178        -0.055089        -0.067190       -0.409402      -0.420349   \n131932        -0.055089        -0.062559       -0.417992       0.397706   \n146867        -0.055089        -0.076515       -0.175583      -0.372135   \n121958        -0.053906        -0.069167        0.454136       0.273384   \n\n        verified         0         1         2         3         4  ...  \\\n286184         0 -0.483942 -0.545502 -0.670232 -0.585232  0.811290  ...   \n83577          0  0.125684  0.266945 -1.008677  1.457794 -0.064329  ...   \n165861         0 -1.389942 -0.621829 -0.677483 -0.283926 -0.031527  ...   \n314938         0  2.695700 -2.615844  2.083146 -2.640631  1.321818  ...   \n301981         0 -0.193663 -0.496109  0.843026 -0.721525 -0.353385  ...   \n...          ...       ...       ...       ...       ...       ...  ...   \n119879         0  0.879953 -0.683609  1.136954 -1.084442  1.196275  ...   \n259178         0 -0.644403  0.276622 -0.162172  0.186636 -0.227735  ...   \n131932         0  0.456242  0.153781  0.097585  0.466508 -0.887893  ...   \n146867         0  0.173674 -0.724927 -0.126602  0.451470 -0.001237  ...   \n121958         0 -0.172080  0.755957 -0.650186 -0.286170 -0.503366  ...   \n\n        avg_word_count       log      sqrt    Macron   Zemmour      Vote  \\\n286184       -0.243195 -0.564477 -0.246756 -0.601175 -0.379343 -0.257806   \n83577         0.533609 -0.564477 -0.246756 -0.601175 -0.379343  3.878877   \n165861       -0.631597 -0.564477 -0.246756 -0.601175 -0.379343 -0.257806   \n314938        0.727810  1.339024  0.180175 -0.601175 -0.379343 -0.257806   \n301981        1.310413  0.754289 -0.033291 -0.601175 -0.379343 -0.257806   \n...                ...       ...       ...       ...       ...       ...   \n119879       -0.437396 -0.564477 -0.246756 -0.601175 -0.379343 -0.257806   \n259178       -0.243195 -0.564477 -0.246756  1.663403 -0.379343 -0.257806   \n131932        0.533609 -0.564477 -0.246756 -0.601175 -0.379343 -0.257806   \n146867        2.281418 -0.564477 -0.246756 -0.601175  2.636129  3.878877   \n121958        2.475619  0.474196 -0.095813 -0.601175 -0.379343 -0.257806   \n\n           rt  polarity  subjectivity     abrev  \n286184  False -0.072405     -0.754931 -0.389772  \n83577   False  0.924320     -0.038785 -0.389772  \n165861  False -0.072405     -0.754931 -0.389772  \n314938  False -1.394150      1.715773 -0.389772  \n301981  False  0.490961      0.383741 -0.389772  \n...       ...       ...           ...       ...  \n119879  False -0.072405     -0.754931 -0.389772  \n259178  False -1.372482      1.393507 -0.389772  \n131932  False -0.072405     -0.754931  0.889010  \n146867  False  2.744427      1.823195  0.340960  \n121958  False  0.072048      0.176059 -0.389772  \n\n[318572 rows x 58 columns]",
      "text/html": "<div>\n<style scoped>\n    .dataframe tbody tr th:only-of-type {\n        vertical-align: middle;\n    }\n\n    .dataframe tbody tr th {\n        vertical-align: top;\n    }\n\n    .dataframe thead th {\n        text-align: right;\n    }\n</style>\n<table border=\"1\" class=\"dataframe\">\n  <thead>\n    <tr style=\"text-align: right;\">\n      <th></th>\n      <th>favorites_count</th>\n      <th>followers_count</th>\n      <th>statuses_count</th>\n      <th>friends_count</th>\n      <th>verified</th>\n      <th>0</th>\n      <th>1</th>\n      <th>2</th>\n      <th>3</th>\n      <th>4</th>\n      <th>...</th>\n      <th>avg_word_count</th>\n      <th>log</th>\n      <th>sqrt</th>\n      <th>Macron</th>\n      <th>Zemmour</th>\n      <th>Vote</th>\n      <th>rt</th>\n      <th>polarity</th>\n      <th>subjectivity</th>\n      <th>abrev</th>\n    </tr>\n  </thead>\n  <tbody>\n    <tr>\n      <th>286184</th>\n      <td>-0.055089</td>\n      <td>-0.077844</td>\n      <td>-0.421579</td>\n      <td>-0.525943</td>\n      <td>0</td>\n      <td>-0.483942</td>\n      <td>-0.545502</td>\n      <td>-0.670232</td>\n      <td>-0.585232</td>\n      <td>0.811290</td>\n      <td>...</td>\n      <td>-0.243195</td>\n      <td>-0.564477</td>\n      <td>-0.246756</td>\n      <td>-0.601175</td>\n      <td>-0.379343</td>\n      <td>-0.257806</td>\n      <td>False</td>\n      <td>-0.072405</td>\n      <td>-0.754931</td>\n      <td>-0.389772</td>\n    </tr>\n    <tr>\n      <th>83577</th>\n      <td>-0.055089</td>\n      <td>-0.067811</td>\n      <td>-0.070867</td>\n      <td>0.325185</td>\n      <td>0</td>\n      <td>0.125684</td>\n      <td>0.266945</td>\n      <td>-1.008677</td>\n      <td>1.457794</td>\n      <td>-0.064329</td>\n      <td>...</td>\n      <td>0.533609</td>\n      <td>-0.564477</td>\n      <td>-0.246756</td>\n      <td>-0.601175</td>\n      <td>-0.379343</td>\n      <td>3.878877</td>\n      <td>False</td>\n      <td>0.924320</td>\n      <td>-0.038785</td>\n      <td>-0.389772</td>\n    </tr>\n    <tr>\n      <th>165861</th>\n      <td>-0.055089</td>\n      <td>-0.077714</td>\n      <td>-0.417499</td>\n      <td>-0.523552</td>\n      <td>0</td>\n      <td>-1.389942</td>\n      <td>-0.621829</td>\n      <td>-0.677483</td>\n      <td>-0.283926</td>\n      <td>-0.031527</td>\n      <td>...</td>\n      <td>-0.631597</td>\n      <td>-0.564477</td>\n      <td>-0.246756</td>\n      <td>-0.601175</td>\n      <td>-0.379343</td>\n      <td>-0.257806</td>\n      <td>False</td>\n      <td>-0.072405</td>\n      <td>-0.754931</td>\n      <td>-0.389772</td>\n    </tr>\n    <tr>\n      <th>314938</th>\n      <td>-0.045624</td>\n      <td>-0.071025</td>\n      <td>-0.322850</td>\n      <td>-0.292042</td>\n      <td>0</td>\n      <td>2.695700</td>\n      <td>-2.615844</td>\n      <td>2.083146</td>\n      <td>-2.640631</td>\n      <td>1.321818</td>\n      <td>...</td>\n      <td>0.727810</td>\n      <td>1.339024</td>\n      <td>0.180175</td>\n      <td>-0.601175</td>\n      <td>-0.379343</td>\n      <td>-0.257806</td>\n      <td>False</td>\n      <td>-1.394150</td>\n      <td>1.715773</td>\n      <td>-0.389772</td>\n    </tr>\n    <tr>\n      <th>301981</th>\n      <td>-0.052722</td>\n      <td>-0.076427</td>\n      <td>-0.310814</td>\n      <td>-0.221115</td>\n      <td>0</td>\n      <td>-0.193663</td>\n      <td>-0.496109</td>\n      <td>0.843026</td>\n      <td>-0.721525</td>\n      <td>-0.353385</td>\n      <td>...</td>\n      <td>1.310413</td>\n      <td>0.754289</td>\n      <td>-0.033291</td>\n      <td>-0.601175</td>\n      <td>-0.379343</td>\n      <td>-0.257806</td>\n      <td>False</td>\n      <td>0.490961</td>\n      <td>0.383741</td>\n      <td>-0.389772</td>\n    </tr>\n    <tr>\n      <th>...</th>\n      <td>...</td>\n      <td>...</td>\n      <td>...</td>\n      <td>...</td>\n      <td>...</td>\n      <td>...</td>\n      <td>...</td>\n      <td>...</td>\n      <td>...</td>\n      <td>...</td>\n      <td>...</td>\n      <td>...</td>\n      <td>...</td>\n      <td>...</td>\n      <td>...</td>\n      <td>...</td>\n      <td>...</td>\n      <td>...</td>\n      <td>...</td>\n      <td>...</td>\n      <td>...</td>\n    </tr>\n    <tr>\n      <th>119879</th>\n      <td>-0.055089</td>\n      <td>-0.074569</td>\n      <td>-0.374245</td>\n      <td>-0.252993</td>\n      <td>0</td>\n      <td>0.879953</td>\n      <td>-0.683609</td>\n      <td>1.136954</td>\n      <td>-1.084442</td>\n      <td>1.196275</td>\n      <td>...</td>\n      <td>-0.437396</td>\n      <td>-0.564477</td>\n      <td>-0.246756</td>\n      <td>-0.601175</td>\n      <td>-0.379343</td>\n      <td>-0.257806</td>\n      <td>False</td>\n      <td>-0.072405</td>\n      <td>-0.754931</td>\n      <td>-0.389772</td>\n    </tr>\n    <tr>\n      <th>259178</th>\n      <td>-0.055089</td>\n      <td>-0.067190</td>\n      <td>-0.409402</td>\n      <td>-0.420349</td>\n      <td>0</td>\n      <td>-0.644403</td>\n      <td>0.276622</td>\n      <td>-0.162172</td>\n      <td>0.186636</td>\n      <td>-0.227735</td>\n      <td>...</td>\n      <td>-0.243195</td>\n      <td>-0.564477</td>\n      <td>-0.246756</td>\n      <td>1.663403</td>\n      <td>-0.379343</td>\n      <td>-0.257806</td>\n      <td>False</td>\n      <td>-1.372482</td>\n      <td>1.393507</td>\n      <td>-0.389772</td>\n    </tr>\n    <tr>\n      <th>131932</th>\n      <td>-0.055089</td>\n      <td>-0.062559</td>\n      <td>-0.417992</td>\n      <td>0.397706</td>\n      <td>0</td>\n      <td>0.456242</td>\n      <td>0.153781</td>\n      <td>0.097585</td>\n      <td>0.466508</td>\n      <td>-0.887893</td>\n      <td>...</td>\n      <td>0.533609</td>\n      <td>-0.564477</td>\n      <td>-0.246756</td>\n      <td>-0.601175</td>\n      <td>-0.379343</td>\n      <td>-0.257806</td>\n      <td>False</td>\n      <td>-0.072405</td>\n      <td>-0.754931</td>\n      <td>0.889010</td>\n    </tr>\n    <tr>\n      <th>146867</th>\n      <td>-0.055089</td>\n      <td>-0.076515</td>\n      <td>-0.175583</td>\n      <td>-0.372135</td>\n      <td>0</td>\n      <td>0.173674</td>\n      <td>-0.724927</td>\n      <td>-0.126602</td>\n      <td>0.451470</td>\n      <td>-0.001237</td>\n      <td>...</td>\n      <td>2.281418</td>\n      <td>-0.564477</td>\n      <td>-0.246756</td>\n      <td>-0.601175</td>\n      <td>2.636129</td>\n      <td>3.878877</td>\n      <td>False</td>\n      <td>2.744427</td>\n      <td>1.823195</td>\n      <td>0.340960</td>\n    </tr>\n    <tr>\n      <th>121958</th>\n      <td>-0.053906</td>\n      <td>-0.069167</td>\n      <td>0.454136</td>\n      <td>0.273384</td>\n      <td>0</td>\n      <td>-0.172080</td>\n      <td>0.755957</td>\n      <td>-0.650186</td>\n      <td>-0.286170</td>\n      <td>-0.503366</td>\n      <td>...</td>\n      <td>2.475619</td>\n      <td>0.474196</td>\n      <td>-0.095813</td>\n      <td>-0.601175</td>\n      <td>-0.379343</td>\n      <td>-0.257806</td>\n      <td>False</td>\n      <td>0.072048</td>\n      <td>0.176059</td>\n      <td>-0.389772</td>\n    </tr>\n  </tbody>\n</table>\n<p>318572 rows × 58 columns</p>\n</div>"
     },
     "metadata": {},
     "output_type": "display_data"
    }
   ],
   "source": [
    "display(X_train)"
   ]
  },
  {
   "cell_type": "code",
   "execution_count": 64,
   "outputs": [
    {
     "data": {
      "text/plain": "Index(['favorites_count', 'followers_count', 'statuses_count', 'friends_count',\n       'verified', '0', '1', '2', '3', '4', '5', '6', '7', '8', '9', '10',\n       '11', '12', '13', '14', '15', '16', '17', '18', '19', '20', '21', '22',\n       '23', '24', '25', '26', '27', '28', '29', '30', '31', 'url_count',\n       'text_len', 'hashtags_count', 'day', 'hour', 'year', 'month',\n       'avg_word_len', 'rep_words_freq', 'rep_chars_freq', 'max_char_freq',\n       'avg_word_count', 'log', 'sqrt', 'Macron', 'Zemmour', 'Vote', 'rt',\n       'polarity', 'subjectivity', 'abrev'],\n      dtype='object')"
     },
     "execution_count": 64,
     "metadata": {},
     "output_type": "execute_result"
    }
   ],
   "source": [
    "X_train.columns"
   ],
   "metadata": {
    "collapsed": false
   }
  },
  {
   "cell_type": "code",
   "execution_count": 65,
   "outputs": [
    {
     "data": {
      "text/plain": "Index(['favorites_count', 'followers_count', 'statuses_count', 'friends_count',\n       'verified', '0', '1', '2', '3', '4', '5', '6', '7', '8', '9', '10',\n       '11', '12', '13', '14', '15', '16', '17', '18', '19', '20', '21', '22',\n       '23', '24', '25', '26', '27', '28', '29', '30', '31', 'url_count',\n       'text_len', 'hashtags_count', 'day', 'hour', 'year', 'month',\n       'avg_word_len', 'rep_words_freq', 'rep_chars_freq', 'max_char_freq',\n       'avg_word_count', 'log', 'sqrt', 'Macron', 'Zemmour', 'Vote', 'rt',\n       'polarity', 'subjectivity', 'abrev'],\n      dtype='object')"
     },
     "execution_count": 65,
     "metadata": {},
     "output_type": "execute_result"
    }
   ],
   "source": [
    "eval_data.columns"
   ],
   "metadata": {
    "collapsed": false
   }
  },
  {
   "cell_type": "code",
   "execution_count": 66,
   "metadata": {},
   "outputs": [
    {
     "name": "stdout",
     "output_type": "stream",
     "text": [
      "3688/3688 [==============================] - 2s 466us/step\n",
      "[[ 1.1642659e-03]\n",
      " [ 3.7730578e-04]\n",
      " [ 3.3550127e+00]\n",
      " ...\n",
      " [ 3.9239931e+00]\n",
      " [-1.4178669e-03]\n",
      " [-2.5429642e-03]]\n"
     ]
    }
   ],
   "source": [
    "pred = model.predict(eval_data.values.astype(np.float32))\n",
    "\n",
    "print(pred)\n",
    "\n",
    "# output normalization\n",
    "for i,p in enumerate(pred):\n",
    "    if p<0: pred[i] = 0"
   ]
  },
  {
   "cell_type": "code",
   "execution_count": 67,
   "metadata": {},
   "outputs": [],
   "source": [
    "with open(\"data/predictions.csv\", 'w') as f:\n",
    "    writer = csv.writer(f)\n",
    "    writer.writerow([\"TweetID\", \"retweets_count\"])\n",
    "    for index, prediction in enumerate(pred):\n",
    "        writer.writerow([str(tweets[index]) , str(int(prediction))])"
   ]
  },
  {
   "cell_type": "code",
   "execution_count": null,
   "metadata": {},
   "outputs": [],
   "source": []
  }
 ],
 "metadata": {
  "kernelspec": {
   "display_name": "Python 3.10.6 ('venv': venv)",
   "language": "python",
   "name": "python3"
  },
  "language_info": {
   "codemirror_mode": {
    "name": "ipython",
    "version": 3
   },
   "file_extension": ".py",
   "mimetype": "text/x-python",
   "name": "python",
   "nbconvert_exporter": "python",
   "pygments_lexer": "ipython3",
   "version": "3.10.6"
  },
  "orig_nbformat": 4,
  "vscode": {
   "interpreter": {
    "hash": "2b76f9357de510751682414c7cddbaacea429d985ca72e90da955bd41bf6fe1e"
   }
  }
 },
 "nbformat": 4,
 "nbformat_minor": 2
}

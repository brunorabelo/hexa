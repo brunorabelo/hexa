{
 "cells": [
  {
   "cell_type": "code",
   "execution_count": 1,
   "metadata": {},
   "outputs": [
    {
     "name": "stderr",
     "output_type": "stream",
     "text": [
      "2022-12-04 23:56:01.806389: I tensorflow/stream_executor/cuda/cuda_gpu_executor.cc:939] successful NUMA node read from SysFS had negative value (-1), but there must be at least one NUMA node, so returning NUMA node zero\n",
      "2022-12-04 23:56:01.910430: I tensorflow/stream_executor/cuda/cuda_gpu_executor.cc:939] successful NUMA node read from SysFS had negative value (-1), but there must be at least one NUMA node, so returning NUMA node zero\n",
      "2022-12-04 23:56:01.911179: I tensorflow/stream_executor/cuda/cuda_gpu_executor.cc:939] successful NUMA node read from SysFS had negative value (-1), but there must be at least one NUMA node, so returning NUMA node zero\n"
     ]
    }
   ],
   "source": [
    "import csv\n",
    "import numpy as np\n",
    "import pandas as pd\n",
    "\n",
    "import data\n",
    "# Word2vec\n",
    "from gensim.models import Word2Vec\n",
    "from gensim.utils import tokenize\n",
    "from unidecode import unidecode"
   ]
  },
  {
   "cell_type": "code",
   "execution_count": 2,
   "metadata": {},
   "outputs": [],
   "source": [
    "train_data = pd.read_csv(\"data/train.csv\")"
   ]
  },
  {
   "cell_type": "code",
   "execution_count": 3,
   "metadata": {},
   "outputs": [],
   "source": [
    "# embedding dimension\n",
    "n_dim = 32"
   ]
  },
  {
   "cell_type": "code",
   "execution_count": 4,
   "metadata": {},
   "outputs": [
    {
     "name": "stdout",
     "output_type": "stream",
     "text": [
      "[['rt', 'refarcir', 'macron', 'ans', 'nom', 'prepare'], ['populaire'], ['faut', 'degager', 'cingle'], ['enseignants', 'mettre', 'prescriptions', 'president', 'republique', 'faut', 'croire', 'president', 'donner', 'periode', 'compte', 'mesures', 'appliquees', 'grever'], ['mafieuse', 'oppressive', 'macron']]\n"
     ]
    }
   ],
   "source": [
    "sentences = [list(tokenize(s, deacc=True, lower=True)) for s in train_data['text']]\n",
    "print(sentences[:5])"
   ]
  },
  {
   "cell_type": "code",
   "execution_count": 5,
   "metadata": {},
   "outputs": [
    {
     "data": {
      "text/plain": "(15075704, 16375635)"
     },
     "execution_count": 5,
     "metadata": {},
     "output_type": "execute_result"
    }
   ],
   "source": [
    "model = Word2Vec(vector_size=n_dim, window=20, min_count=1, workers=7)\n",
    "model.build_vocab(sentences)\n",
    "model.train(sentences, total_examples=model.corpus_count, epochs=5)"
   ]
  },
  {
   "cell_type": "code",
   "execution_count": 6,
   "metadata": {},
   "outputs": [],
   "source": [
    "embeddings = np.zeros((train_data.shape[0], n_dim))"
   ]
  },
  {
   "cell_type": "code",
   "execution_count": 7,
   "metadata": {},
   "outputs": [],
   "source": [
    "for idx in range(train_data.shape[0]):\n",
    "    for s in train_data.loc[idx, \"text\"].split():\n",
    "        try:\n",
    "            embeddings[idx] += model.wv[unidecode(s).lower()]\n",
    "        except:\n",
    "            pass\n",
    "            # print(idx, unidecode(s).lower())"
   ]
  },
  {
   "cell_type": "code",
   "execution_count": 8,
   "metadata": {},
   "outputs": [],
   "source": [
    "df_new = pd.concat([train_data, pd.DataFrame(embeddings)], axis=1)"
   ]
  },
  {
   "cell_type": "code",
   "execution_count": 9,
   "metadata": {},
   "outputs": [
    {
     "data": {
      "text/plain": "                                                     text  retweets_count  \\\n0                      rt refarcir macron ans nom prépare               3   \n1                                               populaire               0   \n2                                     faut dégager cinglé               3   \n3       enseignants mettre prescriptions président rép...               0   \n4                              mafieuse oppressive macron               0   \n...                                                   ...             ...   \n353964                     gonflette tour raciste frustré               0   \n353965  france caste crapuleuse encadrée gangsters irr...               0   \n353966                      eric zemmour français berbère               3   \n353967                           gauchistes dépression pq               0   \n353968      algérie emmanuel macron grande histoire amour               0   \n\n        favorites_count  followers_count  statuses_count  friends_count  \\\n0                     0             3682          453535           3628   \n1                     0               86            1016            284   \n2                     1             1944           28234           1995   \n3                     0                1            1072              0   \n4                     0            13957           25311          10841   \n...                 ...              ...             ...            ...   \n353964                0               34            1509             55   \n353965                0               89           11166            127   \n353966                0             1888             712           3086   \n353967                0              139             486            320   \n353968                0                0              82             24   \n\n       mentions                         urls  verified hashtags  ...  \\\n0            []                           []         0       []  ...   \n1            []                           []         0       []  ...   \n2            []                           []         0       []  ...   \n3            []  ['https://t.co/rytlted08g']         0       []  ...   \n4            []                           []         0       []  ...   \n...         ...                          ...       ...      ...  ...   \n353964       []  ['https://t.co/pma33zhslx']         0       []  ...   \n353965       []                           []         0       []  ...   \n353966       []                           []         0       []  ...   \n353967       []                           []         0       []  ...   \n353968       []                           []         0       []  ...   \n\n               22         23         24         25        26        27  \\\n0       10.507610  -5.182530   5.039705   0.243909 -0.722506 -3.429304   \n1        1.871287  -2.451910  -0.967159   1.582584 -4.310072  1.636796   \n2        2.911065   0.198195  -0.171330   6.812440 -8.514426  2.015868   \n3       25.838896 -11.164051  -9.657174  12.524952 -9.429497  0.700722   \n4        1.914337  -0.734419   2.467783  -1.053201 -0.705008  1.463999   \n...           ...        ...        ...        ...       ...       ...   \n353964   3.624929  -0.057951   1.339173   0.947747 -7.052218  7.172041   \n353965   5.892468  -5.939347   4.697102   6.414588 -2.712446 -3.570886   \n353966   9.015864   5.443816  14.853198  -4.084426 -5.767371 -1.956669   \n353967   0.600480  -4.860621   0.271188   3.219448 -3.280331  5.276660   \n353968  16.089999  -4.022493   6.348545   1.158987 -3.855971 -8.415954   \n\n               28         29         30         31  \n0       -2.017067  -7.079484  -3.715013  -3.219591  \n1       -0.166424  -1.586774   1.489932   5.812188  \n2       -0.907253  -5.232990  -4.939513  -4.880474  \n3      -14.425915 -15.583109 -16.634422 -15.014481  \n4        0.017384  -3.423769  -1.934715  -3.634649  \n...           ...        ...        ...        ...  \n353964   1.601568  -5.575241   0.567228   0.198913  \n353965   2.080191  -8.007005  -2.350684  -0.636648  \n353966   4.849006 -11.822286   3.734580   1.842272  \n353967   4.050145   0.108980  -2.307451  -0.983604  \n353968   7.094663 -20.253473  10.473166   3.171930  \n\n[353969 rows x 44 columns]",
      "text/html": "<div>\n<style scoped>\n    .dataframe tbody tr th:only-of-type {\n        vertical-align: middle;\n    }\n\n    .dataframe tbody tr th {\n        vertical-align: top;\n    }\n\n    .dataframe thead th {\n        text-align: right;\n    }\n</style>\n<table border=\"1\" class=\"dataframe\">\n  <thead>\n    <tr style=\"text-align: right;\">\n      <th></th>\n      <th>text</th>\n      <th>retweets_count</th>\n      <th>favorites_count</th>\n      <th>followers_count</th>\n      <th>statuses_count</th>\n      <th>friends_count</th>\n      <th>mentions</th>\n      <th>urls</th>\n      <th>verified</th>\n      <th>hashtags</th>\n      <th>...</th>\n      <th>22</th>\n      <th>23</th>\n      <th>24</th>\n      <th>25</th>\n      <th>26</th>\n      <th>27</th>\n      <th>28</th>\n      <th>29</th>\n      <th>30</th>\n      <th>31</th>\n    </tr>\n  </thead>\n  <tbody>\n    <tr>\n      <th>0</th>\n      <td>rt refarcir macron ans nom prépare</td>\n      <td>3</td>\n      <td>0</td>\n      <td>3682</td>\n      <td>453535</td>\n      <td>3628</td>\n      <td>[]</td>\n      <td>[]</td>\n      <td>0</td>\n      <td>[]</td>\n      <td>...</td>\n      <td>10.507610</td>\n      <td>-5.182530</td>\n      <td>5.039705</td>\n      <td>0.243909</td>\n      <td>-0.722506</td>\n      <td>-3.429304</td>\n      <td>-2.017067</td>\n      <td>-7.079484</td>\n      <td>-3.715013</td>\n      <td>-3.219591</td>\n    </tr>\n    <tr>\n      <th>1</th>\n      <td>populaire</td>\n      <td>0</td>\n      <td>0</td>\n      <td>86</td>\n      <td>1016</td>\n      <td>284</td>\n      <td>[]</td>\n      <td>[]</td>\n      <td>0</td>\n      <td>[]</td>\n      <td>...</td>\n      <td>1.871287</td>\n      <td>-2.451910</td>\n      <td>-0.967159</td>\n      <td>1.582584</td>\n      <td>-4.310072</td>\n      <td>1.636796</td>\n      <td>-0.166424</td>\n      <td>-1.586774</td>\n      <td>1.489932</td>\n      <td>5.812188</td>\n    </tr>\n    <tr>\n      <th>2</th>\n      <td>faut dégager cinglé</td>\n      <td>3</td>\n      <td>1</td>\n      <td>1944</td>\n      <td>28234</td>\n      <td>1995</td>\n      <td>[]</td>\n      <td>[]</td>\n      <td>0</td>\n      <td>[]</td>\n      <td>...</td>\n      <td>2.911065</td>\n      <td>0.198195</td>\n      <td>-0.171330</td>\n      <td>6.812440</td>\n      <td>-8.514426</td>\n      <td>2.015868</td>\n      <td>-0.907253</td>\n      <td>-5.232990</td>\n      <td>-4.939513</td>\n      <td>-4.880474</td>\n    </tr>\n    <tr>\n      <th>3</th>\n      <td>enseignants mettre prescriptions président rép...</td>\n      <td>0</td>\n      <td>0</td>\n      <td>1</td>\n      <td>1072</td>\n      <td>0</td>\n      <td>[]</td>\n      <td>['https://t.co/rytlted08g']</td>\n      <td>0</td>\n      <td>[]</td>\n      <td>...</td>\n      <td>25.838896</td>\n      <td>-11.164051</td>\n      <td>-9.657174</td>\n      <td>12.524952</td>\n      <td>-9.429497</td>\n      <td>0.700722</td>\n      <td>-14.425915</td>\n      <td>-15.583109</td>\n      <td>-16.634422</td>\n      <td>-15.014481</td>\n    </tr>\n    <tr>\n      <th>4</th>\n      <td>mafieuse oppressive macron</td>\n      <td>0</td>\n      <td>0</td>\n      <td>13957</td>\n      <td>25311</td>\n      <td>10841</td>\n      <td>[]</td>\n      <td>[]</td>\n      <td>0</td>\n      <td>[]</td>\n      <td>...</td>\n      <td>1.914337</td>\n      <td>-0.734419</td>\n      <td>2.467783</td>\n      <td>-1.053201</td>\n      <td>-0.705008</td>\n      <td>1.463999</td>\n      <td>0.017384</td>\n      <td>-3.423769</td>\n      <td>-1.934715</td>\n      <td>-3.634649</td>\n    </tr>\n    <tr>\n      <th>...</th>\n      <td>...</td>\n      <td>...</td>\n      <td>...</td>\n      <td>...</td>\n      <td>...</td>\n      <td>...</td>\n      <td>...</td>\n      <td>...</td>\n      <td>...</td>\n      <td>...</td>\n      <td>...</td>\n      <td>...</td>\n      <td>...</td>\n      <td>...</td>\n      <td>...</td>\n      <td>...</td>\n      <td>...</td>\n      <td>...</td>\n      <td>...</td>\n      <td>...</td>\n      <td>...</td>\n    </tr>\n    <tr>\n      <th>353964</th>\n      <td>gonflette tour raciste frustré</td>\n      <td>0</td>\n      <td>0</td>\n      <td>34</td>\n      <td>1509</td>\n      <td>55</td>\n      <td>[]</td>\n      <td>['https://t.co/pma33zhslx']</td>\n      <td>0</td>\n      <td>[]</td>\n      <td>...</td>\n      <td>3.624929</td>\n      <td>-0.057951</td>\n      <td>1.339173</td>\n      <td>0.947747</td>\n      <td>-7.052218</td>\n      <td>7.172041</td>\n      <td>1.601568</td>\n      <td>-5.575241</td>\n      <td>0.567228</td>\n      <td>0.198913</td>\n    </tr>\n    <tr>\n      <th>353965</th>\n      <td>france caste crapuleuse encadrée gangsters irr...</td>\n      <td>0</td>\n      <td>0</td>\n      <td>89</td>\n      <td>11166</td>\n      <td>127</td>\n      <td>[]</td>\n      <td>[]</td>\n      <td>0</td>\n      <td>[]</td>\n      <td>...</td>\n      <td>5.892468</td>\n      <td>-5.939347</td>\n      <td>4.697102</td>\n      <td>6.414588</td>\n      <td>-2.712446</td>\n      <td>-3.570886</td>\n      <td>2.080191</td>\n      <td>-8.007005</td>\n      <td>-2.350684</td>\n      <td>-0.636648</td>\n    </tr>\n    <tr>\n      <th>353966</th>\n      <td>eric zemmour français berbère</td>\n      <td>3</td>\n      <td>0</td>\n      <td>1888</td>\n      <td>712</td>\n      <td>3086</td>\n      <td>[]</td>\n      <td>[]</td>\n      <td>0</td>\n      <td>[]</td>\n      <td>...</td>\n      <td>9.015864</td>\n      <td>5.443816</td>\n      <td>14.853198</td>\n      <td>-4.084426</td>\n      <td>-5.767371</td>\n      <td>-1.956669</td>\n      <td>4.849006</td>\n      <td>-11.822286</td>\n      <td>3.734580</td>\n      <td>1.842272</td>\n    </tr>\n    <tr>\n      <th>353967</th>\n      <td>gauchistes dépression pq</td>\n      <td>0</td>\n      <td>0</td>\n      <td>139</td>\n      <td>486</td>\n      <td>320</td>\n      <td>[]</td>\n      <td>[]</td>\n      <td>0</td>\n      <td>[]</td>\n      <td>...</td>\n      <td>0.600480</td>\n      <td>-4.860621</td>\n      <td>0.271188</td>\n      <td>3.219448</td>\n      <td>-3.280331</td>\n      <td>5.276660</td>\n      <td>4.050145</td>\n      <td>0.108980</td>\n      <td>-2.307451</td>\n      <td>-0.983604</td>\n    </tr>\n    <tr>\n      <th>353968</th>\n      <td>algérie emmanuel macron grande histoire amour</td>\n      <td>0</td>\n      <td>0</td>\n      <td>0</td>\n      <td>82</td>\n      <td>24</td>\n      <td>[]</td>\n      <td>[]</td>\n      <td>0</td>\n      <td>[]</td>\n      <td>...</td>\n      <td>16.089999</td>\n      <td>-4.022493</td>\n      <td>6.348545</td>\n      <td>1.158987</td>\n      <td>-3.855971</td>\n      <td>-8.415954</td>\n      <td>7.094663</td>\n      <td>-20.253473</td>\n      <td>10.473166</td>\n      <td>3.171930</td>\n    </tr>\n  </tbody>\n</table>\n<p>353969 rows × 44 columns</p>\n</div>"
     },
     "metadata": {},
     "output_type": "display_data"
    }
   ],
   "source": [
    "display(df_new)"
   ]
  },
  {
   "cell_type": "code",
   "execution_count": 10,
   "outputs": [],
   "source": [
    "file_path = f\"data/embeddings/train_dim_{n_dim}.csv\""
   ],
   "metadata": {
    "collapsed": false
   }
  },
  {
   "cell_type": "code",
   "execution_count": 11,
   "metadata": {},
   "outputs": [],
   "source": [
    "df_new.to_csv(file_path)"
   ]
  },
  {
   "cell_type": "code",
   "execution_count": 12,
   "metadata": {},
   "outputs": [],
   "source": [
    "eval_data = pd.read_csv(\"data/evaluation.csv\")"
   ]
  },
  {
   "cell_type": "code",
   "execution_count": 13,
   "metadata": {},
   "outputs": [],
   "source": [
    "embeddings = np.zeros((eval_data.shape[0], n_dim))"
   ]
  },
  {
   "cell_type": "code",
   "execution_count": 14,
   "metadata": {},
   "outputs": [],
   "source": [
    "for idx in range(eval_data.shape[0]):\n",
    "    for s in eval_data.loc[idx, \"text\"].split():\n",
    "        try:\n",
    "            embeddings[idx] += model.wv[unidecode(s).lower()]\n",
    "        except:\n",
    "            pass\n",
    "            # print(idx, unidecode(s).lower())"
   ]
  },
  {
   "cell_type": "code",
   "execution_count": 15,
   "metadata": {},
   "outputs": [],
   "source": [
    "df_new = pd.concat([eval_data, pd.DataFrame(embeddings)], axis=1)"
   ]
  },
  {
   "cell_type": "code",
   "execution_count": 16,
   "metadata": {},
   "outputs": [
    {
     "data": {
      "text/plain": "                                                     text  favorites_count  \\\n0                              descendue pourcentage vote                0   \n1                        photo demande arbre généalogique                0   \n2              dossiers promis poste gars vraiment fiable                6   \n3       lol cas faut second tour macron sortir définit...                2   \n4       zemmour putain discours propagandiste littéral...                0   \n...                                                   ...              ...   \n117985                       balais inexcusable vote veut                0   \n117986  balayant rap borloo mâles blcs commis faute fo...                0   \n117987  triste réalité covid tue malades macron veille...               12   \n117988  excellente idée pouvez réussir démarche crise ...                0   \n117989  rt revivez moments forts rencontre président r...                0   \n\n        followers_count  statuses_count  friends_count mentions  \\\n0                    85            4442            327       []   \n1                   427           33282            443       []   \n2                  1127           13111           1596       []   \n3                  1699           25760           2036       []   \n4                   249           20718            369       []   \n...                 ...             ...            ...      ...   \n117985                4             194             64       []   \n117986              744           39489            894       []   \n117987              924            2270            159       []   \n117988                5               4             80       []   \n117989              555            5703            149       []   \n\n                                                     urls  verified  \\\n0                                                      []         0   \n1                                                      []         0   \n2                                                      []         0   \n3                             ['https://t.co/7ox54d8dlm']         0   \n4       ['https://t.co/tsw9cg6v9j', 'https://t.co/t0j9...         0   \n...                                                   ...       ...   \n117985                                                 []         0   \n117986                        ['https://t.co/im5cs5ur1a']         0   \n117987                                                 []         0   \n117988                        ['https://t.co/xontgm06pb']         0   \n117989                                                 []         0   \n\n                                 hashtags      timestamp  ...         22  \\\n0       ['presidentielle2022', 'hidalgo']  1647607994000  ...   2.085435   \n1                                      []  1647601275000  ...   3.836601   \n2                              ['macron']  1646900684000  ...   5.641206   \n3                                      []  1647161294000  ...  31.396628   \n4                                      []  1647724874000  ...  15.976246   \n...                                   ...            ...  ...        ...   \n117985                                 []  1647103416000  ...   3.387970   \n117986                                 []  1647490899000  ...  22.645443   \n117987                                 []  1647522384000  ...  15.034510   \n117988                                 []  1647607262000  ...  27.141048   \n117989                                 []  1647263941000  ...  17.861688   \n\n               23        24         25         26         27         28  \\\n0       -0.172552 -0.816812  -1.650321  -5.758308   0.735596  -1.244580   \n1       -6.041139  0.187394  -3.979446  -3.067158   0.456576  -1.206806   \n2       -1.900767 -2.439815   1.579042  -2.661772   4.519307  -2.097608   \n3        6.713350  9.027090  10.195317 -43.448731  10.855514 -14.312541   \n4      -10.148871  6.624080  15.974797 -24.987494  21.552225   1.351635   \n...           ...       ...        ...        ...        ...        ...   \n117985  -2.574382  0.998942   1.068765  -6.973216  -0.311030  -1.958204   \n117986 -10.426708 -0.820521   9.071038  -4.720715  -2.863846  -5.158474   \n117987  -9.570096  9.302993  10.834377   1.473109   1.424288   1.065702   \n117988 -11.971247  7.714849  11.062534  -7.046428  -5.593230  -9.423055   \n117989 -10.936783 -5.310254  -7.951159   3.183061  -8.927566  -4.700290   \n\n               29         30         31  \n0       -1.031486  -2.125419  -0.858241  \n1        1.008825   0.886927  -2.082169  \n2       -5.136146  -7.989482  -4.772130  \n3      -19.284498  -7.243942 -12.737749  \n4      -18.951526  -5.387153 -11.251478  \n...           ...        ...        ...  \n117985  -7.230376  -1.591602  -2.556813  \n117986 -14.672155 -11.093511  -5.195723  \n117987 -15.878493  -9.314908 -17.956211  \n117988  -6.949477 -16.016979  -9.210331  \n117989  -3.924488  -0.460002   7.156637  \n\n[117990 rows x 43 columns]",
      "text/html": "<div>\n<style scoped>\n    .dataframe tbody tr th:only-of-type {\n        vertical-align: middle;\n    }\n\n    .dataframe tbody tr th {\n        vertical-align: top;\n    }\n\n    .dataframe thead th {\n        text-align: right;\n    }\n</style>\n<table border=\"1\" class=\"dataframe\">\n  <thead>\n    <tr style=\"text-align: right;\">\n      <th></th>\n      <th>text</th>\n      <th>favorites_count</th>\n      <th>followers_count</th>\n      <th>statuses_count</th>\n      <th>friends_count</th>\n      <th>mentions</th>\n      <th>urls</th>\n      <th>verified</th>\n      <th>hashtags</th>\n      <th>timestamp</th>\n      <th>...</th>\n      <th>22</th>\n      <th>23</th>\n      <th>24</th>\n      <th>25</th>\n      <th>26</th>\n      <th>27</th>\n      <th>28</th>\n      <th>29</th>\n      <th>30</th>\n      <th>31</th>\n    </tr>\n  </thead>\n  <tbody>\n    <tr>\n      <th>0</th>\n      <td>descendue pourcentage vote</td>\n      <td>0</td>\n      <td>85</td>\n      <td>4442</td>\n      <td>327</td>\n      <td>[]</td>\n      <td>[]</td>\n      <td>0</td>\n      <td>['presidentielle2022', 'hidalgo']</td>\n      <td>1647607994000</td>\n      <td>...</td>\n      <td>2.085435</td>\n      <td>-0.172552</td>\n      <td>-0.816812</td>\n      <td>-1.650321</td>\n      <td>-5.758308</td>\n      <td>0.735596</td>\n      <td>-1.244580</td>\n      <td>-1.031486</td>\n      <td>-2.125419</td>\n      <td>-0.858241</td>\n    </tr>\n    <tr>\n      <th>1</th>\n      <td>photo demande arbre généalogique</td>\n      <td>0</td>\n      <td>427</td>\n      <td>33282</td>\n      <td>443</td>\n      <td>[]</td>\n      <td>[]</td>\n      <td>0</td>\n      <td>[]</td>\n      <td>1647601275000</td>\n      <td>...</td>\n      <td>3.836601</td>\n      <td>-6.041139</td>\n      <td>0.187394</td>\n      <td>-3.979446</td>\n      <td>-3.067158</td>\n      <td>0.456576</td>\n      <td>-1.206806</td>\n      <td>1.008825</td>\n      <td>0.886927</td>\n      <td>-2.082169</td>\n    </tr>\n    <tr>\n      <th>2</th>\n      <td>dossiers promis poste gars vraiment fiable</td>\n      <td>6</td>\n      <td>1127</td>\n      <td>13111</td>\n      <td>1596</td>\n      <td>[]</td>\n      <td>[]</td>\n      <td>0</td>\n      <td>['macron']</td>\n      <td>1646900684000</td>\n      <td>...</td>\n      <td>5.641206</td>\n      <td>-1.900767</td>\n      <td>-2.439815</td>\n      <td>1.579042</td>\n      <td>-2.661772</td>\n      <td>4.519307</td>\n      <td>-2.097608</td>\n      <td>-5.136146</td>\n      <td>-7.989482</td>\n      <td>-4.772130</td>\n    </tr>\n    <tr>\n      <th>3</th>\n      <td>lol cas faut second tour macron sortir définit...</td>\n      <td>2</td>\n      <td>1699</td>\n      <td>25760</td>\n      <td>2036</td>\n      <td>[]</td>\n      <td>['https://t.co/7ox54d8dlm']</td>\n      <td>0</td>\n      <td>[]</td>\n      <td>1647161294000</td>\n      <td>...</td>\n      <td>31.396628</td>\n      <td>6.713350</td>\n      <td>9.027090</td>\n      <td>10.195317</td>\n      <td>-43.448731</td>\n      <td>10.855514</td>\n      <td>-14.312541</td>\n      <td>-19.284498</td>\n      <td>-7.243942</td>\n      <td>-12.737749</td>\n    </tr>\n    <tr>\n      <th>4</th>\n      <td>zemmour putain discours propagandiste littéral...</td>\n      <td>0</td>\n      <td>249</td>\n      <td>20718</td>\n      <td>369</td>\n      <td>[]</td>\n      <td>['https://t.co/tsw9cg6v9j', 'https://t.co/t0j9...</td>\n      <td>0</td>\n      <td>[]</td>\n      <td>1647724874000</td>\n      <td>...</td>\n      <td>15.976246</td>\n      <td>-10.148871</td>\n      <td>6.624080</td>\n      <td>15.974797</td>\n      <td>-24.987494</td>\n      <td>21.552225</td>\n      <td>1.351635</td>\n      <td>-18.951526</td>\n      <td>-5.387153</td>\n      <td>-11.251478</td>\n    </tr>\n    <tr>\n      <th>...</th>\n      <td>...</td>\n      <td>...</td>\n      <td>...</td>\n      <td>...</td>\n      <td>...</td>\n      <td>...</td>\n      <td>...</td>\n      <td>...</td>\n      <td>...</td>\n      <td>...</td>\n      <td>...</td>\n      <td>...</td>\n      <td>...</td>\n      <td>...</td>\n      <td>...</td>\n      <td>...</td>\n      <td>...</td>\n      <td>...</td>\n      <td>...</td>\n      <td>...</td>\n      <td>...</td>\n    </tr>\n    <tr>\n      <th>117985</th>\n      <td>balais inexcusable vote veut</td>\n      <td>0</td>\n      <td>4</td>\n      <td>194</td>\n      <td>64</td>\n      <td>[]</td>\n      <td>[]</td>\n      <td>0</td>\n      <td>[]</td>\n      <td>1647103416000</td>\n      <td>...</td>\n      <td>3.387970</td>\n      <td>-2.574382</td>\n      <td>0.998942</td>\n      <td>1.068765</td>\n      <td>-6.973216</td>\n      <td>-0.311030</td>\n      <td>-1.958204</td>\n      <td>-7.230376</td>\n      <td>-1.591602</td>\n      <td>-2.556813</td>\n    </tr>\n    <tr>\n      <th>117986</th>\n      <td>balayant rap borloo mâles blcs commis faute fo...</td>\n      <td>0</td>\n      <td>744</td>\n      <td>39489</td>\n      <td>894</td>\n      <td>[]</td>\n      <td>['https://t.co/im5cs5ur1a']</td>\n      <td>0</td>\n      <td>[]</td>\n      <td>1647490899000</td>\n      <td>...</td>\n      <td>22.645443</td>\n      <td>-10.426708</td>\n      <td>-0.820521</td>\n      <td>9.071038</td>\n      <td>-4.720715</td>\n      <td>-2.863846</td>\n      <td>-5.158474</td>\n      <td>-14.672155</td>\n      <td>-11.093511</td>\n      <td>-5.195723</td>\n    </tr>\n    <tr>\n      <th>117987</th>\n      <td>triste réalité covid tue malades macron veille...</td>\n      <td>12</td>\n      <td>924</td>\n      <td>2270</td>\n      <td>159</td>\n      <td>[]</td>\n      <td>[]</td>\n      <td>0</td>\n      <td>[]</td>\n      <td>1647522384000</td>\n      <td>...</td>\n      <td>15.034510</td>\n      <td>-9.570096</td>\n      <td>9.302993</td>\n      <td>10.834377</td>\n      <td>1.473109</td>\n      <td>1.424288</td>\n      <td>1.065702</td>\n      <td>-15.878493</td>\n      <td>-9.314908</td>\n      <td>-17.956211</td>\n    </tr>\n    <tr>\n      <th>117988</th>\n      <td>excellente idée pouvez réussir démarche crise ...</td>\n      <td>0</td>\n      <td>5</td>\n      <td>4</td>\n      <td>80</td>\n      <td>[]</td>\n      <td>['https://t.co/xontgm06pb']</td>\n      <td>0</td>\n      <td>[]</td>\n      <td>1647607262000</td>\n      <td>...</td>\n      <td>27.141048</td>\n      <td>-11.971247</td>\n      <td>7.714849</td>\n      <td>11.062534</td>\n      <td>-7.046428</td>\n      <td>-5.593230</td>\n      <td>-9.423055</td>\n      <td>-6.949477</td>\n      <td>-16.016979</td>\n      <td>-9.210331</td>\n    </tr>\n    <tr>\n      <th>117989</th>\n      <td>rt revivez moments forts rencontre président r...</td>\n      <td>0</td>\n      <td>555</td>\n      <td>5703</td>\n      <td>149</td>\n      <td>[]</td>\n      <td>[]</td>\n      <td>0</td>\n      <td>[]</td>\n      <td>1647263941000</td>\n      <td>...</td>\n      <td>17.861688</td>\n      <td>-10.936783</td>\n      <td>-5.310254</td>\n      <td>-7.951159</td>\n      <td>3.183061</td>\n      <td>-8.927566</td>\n      <td>-4.700290</td>\n      <td>-3.924488</td>\n      <td>-0.460002</td>\n      <td>7.156637</td>\n    </tr>\n  </tbody>\n</table>\n<p>117990 rows × 43 columns</p>\n</div>"
     },
     "metadata": {},
     "output_type": "display_data"
    }
   ],
   "source": [
    "display(df_new)"
   ]
  },
  {
   "cell_type": "code",
   "execution_count": 17,
   "outputs": [],
   "source": [
    "file_path = f\"data/embeddings/evaluation_dim_{n_dim}.csv\""
   ],
   "metadata": {
    "collapsed": false
   }
  },
  {
   "cell_type": "code",
   "execution_count": 18,
   "metadata": {},
   "outputs": [],
   "source": [
    "df_new.to_csv(file_path)"
   ]
  },
  {
   "cell_type": "code",
   "execution_count": 18,
   "outputs": [],
   "source": [],
   "metadata": {
    "collapsed": false
   }
  }
 ],
 "metadata": {
  "kernelspec": {
   "display_name": "Python 3.9.13 ('base')",
   "language": "python",
   "name": "python3"
  },
  "language_info": {
   "codemirror_mode": {
    "name": "ipython",
    "version": 3
   },
   "file_extension": ".py",
   "mimetype": "text/x-python",
   "name": "python",
   "nbconvert_exporter": "python",
   "pygments_lexer": "ipython3",
   "version": "3.9.13"
  },
  "orig_nbformat": 4,
  "vscode": {
   "interpreter": {
    "hash": "869fcbf3262855e1eaf5654d341d7f712e3ffc1dffd54e403b0f2d04ee7ae421"
   }
  }
 },
 "nbformat": 4,
 "nbformat_minor": 2
}

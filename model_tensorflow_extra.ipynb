{
 "cells": [
  {
   "cell_type": "code",
   "execution_count": 1,
   "metadata": {},
   "outputs": [
    {
     "name": "stderr",
     "output_type": "stream",
     "text": [
      "2022-12-05 02:15:37.253809: I tensorflow/stream_executor/cuda/cuda_gpu_executor.cc:939] successful NUMA node read from SysFS had negative value (-1), but there must be at least one NUMA node, so returning NUMA node zero\n",
      "2022-12-05 02:15:37.437035: I tensorflow/stream_executor/cuda/cuda_gpu_executor.cc:939] successful NUMA node read from SysFS had negative value (-1), but there must be at least one NUMA node, so returning NUMA node zero\n",
      "2022-12-05 02:15:37.437938: I tensorflow/stream_executor/cuda/cuda_gpu_executor.cc:939] successful NUMA node read from SysFS had negative value (-1), but there must be at least one NUMA node, so returning NUMA node zero\n"
     ]
    }
   ],
   "source": [
    "import csv\n",
    "import numpy as np\n",
    "import pandas as pd\n",
    "from matplotlib import pyplot as plt\n",
    "from datetime import datetime\n",
    "from sklearn.model_selection import train_test_split\n",
    "import data"
   ]
  },
  {
   "cell_type": "code",
   "execution_count": 2,
   "metadata": {},
   "outputs": [],
   "source": [
    "train_data = pd.read_csv(\"data/embeddings/train_dim_32.csv\")"
   ]
  },
  {
   "cell_type": "code",
   "execution_count": 3,
   "metadata": {},
   "outputs": [],
   "source": [
    "# new features\n",
    "train_data[\"url_count\"] = train_data[\"urls\"].apply(lambda s: s[1:-1].count(\"\\'\")/2)\n",
    "train_data[\"text_len\"] = train_data[\"text\"].apply(lambda s: len(s))\n",
    "train_data[\"hashtags_count\"] = train_data[\"hashtags\"].apply(lambda s: s[1:-1].count(\"\\'\")/2)\n",
    "train_data[\"day\"] = train_data[\"timestamp\"].apply(lambda t: datetime.utcfromtimestamp(t/1000).day)\n",
    "train_data[\"hour\"] = train_data[\"timestamp\"].apply(lambda t: datetime.utcfromtimestamp(t/1000).hour)\n",
    "\n",
    "# text features\n",
    "train_data[\"avg_word_len\"] = train_data[\"text\"].apply(lambda s: np.mean([len(w) for w in s.split()]))\n",
    "train_data[\"rep_words_freq\"] = train_data[\"text\"].apply(lambda s: np.mean(len(list(set(s.split())))/len(s.split())))\n",
    "train_data[\"rep_chars_freq\"] = train_data[\"text\"].apply(lambda s: np.mean(len(list(set(s)))/len(list(s))))\n",
    "train_data[\"max_char_freq\"] = train_data[\"text\"].apply(lambda s: max( [s.count(c) for c in list(set(s))] )   /len(list(s)))\n",
    "train_data[\"avg_word_count\"] = train_data[\"text\"].apply(lambda s: len(s.split()))\n",
    "\n",
    "# indicators of keywords\n",
    "train_data[\"Macron\"] =  train_data[\"text\"].apply(lambda s: (\"macron\" in s.lower().split()))\n",
    "train_data[\"Zemmour\"] =  train_data[\"text\"].apply(lambda s: (\"zemmour\" in s.lower().split()))\n",
    "train_data[\"Melenchon\"] =  train_data[\"text\"].apply(lambda s: (\"melenchon\" in s.replace(\"é\",\"e\").lower().split()))\n",
    "train_data[\"rt\"] =  train_data[\"text\"].apply(lambda s: (\"rt\" in s.lower().split()))"
   ]
  },
  {
   "cell_type": "code",
   "execution_count": 4,
   "metadata": {},
   "outputs": [],
   "source": [
    "train_data = data.feature_words_arr(train_data)\n",
    "train_data = data.feature_delete_stop_words(train_data, 'text_without_stopwords')\n",
    "train_data = data.feature_sent_analysis(train_data, 'text_without_stopwords')\n",
    "# # outlier removal\n",
    "# train_data = train_data[train_data[\"retweets_count\"] <= 40000]"
   ]
  },
  {
   "cell_type": "code",
   "execution_count": 5,
   "metadata": {},
   "outputs": [],
   "source": [
    "# from nltk.sentiment import SentimentIntensityAnalyzer\n",
    "# sia = SentimentIntensityAnalyzer()\n",
    "# print(\"sentiment analysis...\")\n",
    "# train_data[\"compound\"] =  train_data[\"text\"].apply(lambda s: sia.polarity_scores(s)['compound'])"
   ]
  },
  {
   "cell_type": "code",
   "execution_count": 6,
   "metadata": {},
   "outputs": [
    {
     "data": {
      "text/plain": "        Unnamed: 0                                               text  \\\n0                0                 rt refarcir macron ans nom prépare   \n1                1                                          populaire   \n2                2                                faut dégager cinglé   \n3                3  enseignants mettre prescriptions président rép...   \n4                4                         mafieuse oppressive macron   \n...            ...                                                ...   \n353964      353964                     gonflette tour raciste frustré   \n353965      353965  france caste crapuleuse encadrée gangsters irr...   \n353966      353966                      eric zemmour français berbère   \n353967      353967                           gauchistes dépression pq   \n353968      353968      algérie emmanuel macron grande histoire amour   \n\n        retweets_count  favorites_count  followers_count  statuses_count  \\\n0                    3                0             3682          453535   \n1                    0                0               86            1016   \n2                    3                1             1944           28234   \n3                    0                0                1            1072   \n4                    0                0            13957           25311   \n...                ...              ...              ...             ...   \n353964               0                0               34            1509   \n353965               0                0               89           11166   \n353966               3                0             1888             712   \n353967               0                0              139             486   \n353968               0                0                0              82   \n\n        friends_count mentions                         urls  verified  ...  \\\n0                3628       []                           []         0  ...   \n1                 284       []                           []         0  ...   \n2                1995       []                           []         0  ...   \n3                   0       []  ['https://t.co/rytlted08g']         0  ...   \n4               10841       []                           []         0  ...   \n...               ...      ...                          ...       ...  ...   \n353964             55       []  ['https://t.co/pma33zhslx']         0  ...   \n353965            127       []                           []         0  ...   \n353966           3086       []                           []         0  ...   \n353967            320       []                           []         0  ...   \n353968             24       []                           []         0  ...   \n\n       rep_words_freq  rep_chars_freq  max_char_freq  avg_word_count  Macron  \\\n0            1.000000        0.411765       0.205882               6    True   \n1            1.000000        0.888889       0.222222               1   False   \n2            1.000000        0.736842       0.157895               3   False   \n3            0.928571        0.170732       0.138211              14   False   \n4            1.000000        0.538462       0.153846               3    True   \n...               ...             ...            ...             ...     ...   \n353964       1.000000        0.500000       0.166667               4   False   \n353965       1.000000        0.260870       0.159420               7   False   \n353966       1.000000        0.551724       0.172414               4   False   \n353967       1.000000        0.708333       0.166667               3   False   \n353968       1.000000        0.377778       0.111111               6    True   \n\n        Zemmour  Melenchon     rt  polarity  subjectivity  \n0         False      False   True      0.00         0.000  \n1         False      False  False      0.50         0.500  \n2         False      False  False     -0.01        -0.010  \n3         False      False  False      0.06         0.125  \n4         False      False  False      0.00         0.000  \n...         ...        ...    ...       ...           ...  \n353964    False      False  False      0.00         0.000  \n353965    False      False  False      0.10         0.200  \n353966     True      False  False      0.20         0.000  \n353967    False      False  False      0.00         0.000  \n353968    False      False  False      0.30         0.200  \n\n[353969 rows x 61 columns]",
      "text/html": "<div>\n<style scoped>\n    .dataframe tbody tr th:only-of-type {\n        vertical-align: middle;\n    }\n\n    .dataframe tbody tr th {\n        vertical-align: top;\n    }\n\n    .dataframe thead th {\n        text-align: right;\n    }\n</style>\n<table border=\"1\" class=\"dataframe\">\n  <thead>\n    <tr style=\"text-align: right;\">\n      <th></th>\n      <th>Unnamed: 0</th>\n      <th>text</th>\n      <th>retweets_count</th>\n      <th>favorites_count</th>\n      <th>followers_count</th>\n      <th>statuses_count</th>\n      <th>friends_count</th>\n      <th>mentions</th>\n      <th>urls</th>\n      <th>verified</th>\n      <th>...</th>\n      <th>rep_words_freq</th>\n      <th>rep_chars_freq</th>\n      <th>max_char_freq</th>\n      <th>avg_word_count</th>\n      <th>Macron</th>\n      <th>Zemmour</th>\n      <th>Melenchon</th>\n      <th>rt</th>\n      <th>polarity</th>\n      <th>subjectivity</th>\n    </tr>\n  </thead>\n  <tbody>\n    <tr>\n      <th>0</th>\n      <td>0</td>\n      <td>rt refarcir macron ans nom prépare</td>\n      <td>3</td>\n      <td>0</td>\n      <td>3682</td>\n      <td>453535</td>\n      <td>3628</td>\n      <td>[]</td>\n      <td>[]</td>\n      <td>0</td>\n      <td>...</td>\n      <td>1.000000</td>\n      <td>0.411765</td>\n      <td>0.205882</td>\n      <td>6</td>\n      <td>True</td>\n      <td>False</td>\n      <td>False</td>\n      <td>True</td>\n      <td>0.00</td>\n      <td>0.000</td>\n    </tr>\n    <tr>\n      <th>1</th>\n      <td>1</td>\n      <td>populaire</td>\n      <td>0</td>\n      <td>0</td>\n      <td>86</td>\n      <td>1016</td>\n      <td>284</td>\n      <td>[]</td>\n      <td>[]</td>\n      <td>0</td>\n      <td>...</td>\n      <td>1.000000</td>\n      <td>0.888889</td>\n      <td>0.222222</td>\n      <td>1</td>\n      <td>False</td>\n      <td>False</td>\n      <td>False</td>\n      <td>False</td>\n      <td>0.50</td>\n      <td>0.500</td>\n    </tr>\n    <tr>\n      <th>2</th>\n      <td>2</td>\n      <td>faut dégager cinglé</td>\n      <td>3</td>\n      <td>1</td>\n      <td>1944</td>\n      <td>28234</td>\n      <td>1995</td>\n      <td>[]</td>\n      <td>[]</td>\n      <td>0</td>\n      <td>...</td>\n      <td>1.000000</td>\n      <td>0.736842</td>\n      <td>0.157895</td>\n      <td>3</td>\n      <td>False</td>\n      <td>False</td>\n      <td>False</td>\n      <td>False</td>\n      <td>-0.01</td>\n      <td>-0.010</td>\n    </tr>\n    <tr>\n      <th>3</th>\n      <td>3</td>\n      <td>enseignants mettre prescriptions président rép...</td>\n      <td>0</td>\n      <td>0</td>\n      <td>1</td>\n      <td>1072</td>\n      <td>0</td>\n      <td>[]</td>\n      <td>['https://t.co/rytlted08g']</td>\n      <td>0</td>\n      <td>...</td>\n      <td>0.928571</td>\n      <td>0.170732</td>\n      <td>0.138211</td>\n      <td>14</td>\n      <td>False</td>\n      <td>False</td>\n      <td>False</td>\n      <td>False</td>\n      <td>0.06</td>\n      <td>0.125</td>\n    </tr>\n    <tr>\n      <th>4</th>\n      <td>4</td>\n      <td>mafieuse oppressive macron</td>\n      <td>0</td>\n      <td>0</td>\n      <td>13957</td>\n      <td>25311</td>\n      <td>10841</td>\n      <td>[]</td>\n      <td>[]</td>\n      <td>0</td>\n      <td>...</td>\n      <td>1.000000</td>\n      <td>0.538462</td>\n      <td>0.153846</td>\n      <td>3</td>\n      <td>True</td>\n      <td>False</td>\n      <td>False</td>\n      <td>False</td>\n      <td>0.00</td>\n      <td>0.000</td>\n    </tr>\n    <tr>\n      <th>...</th>\n      <td>...</td>\n      <td>...</td>\n      <td>...</td>\n      <td>...</td>\n      <td>...</td>\n      <td>...</td>\n      <td>...</td>\n      <td>...</td>\n      <td>...</td>\n      <td>...</td>\n      <td>...</td>\n      <td>...</td>\n      <td>...</td>\n      <td>...</td>\n      <td>...</td>\n      <td>...</td>\n      <td>...</td>\n      <td>...</td>\n      <td>...</td>\n      <td>...</td>\n      <td>...</td>\n    </tr>\n    <tr>\n      <th>353964</th>\n      <td>353964</td>\n      <td>gonflette tour raciste frustré</td>\n      <td>0</td>\n      <td>0</td>\n      <td>34</td>\n      <td>1509</td>\n      <td>55</td>\n      <td>[]</td>\n      <td>['https://t.co/pma33zhslx']</td>\n      <td>0</td>\n      <td>...</td>\n      <td>1.000000</td>\n      <td>0.500000</td>\n      <td>0.166667</td>\n      <td>4</td>\n      <td>False</td>\n      <td>False</td>\n      <td>False</td>\n      <td>False</td>\n      <td>0.00</td>\n      <td>0.000</td>\n    </tr>\n    <tr>\n      <th>353965</th>\n      <td>353965</td>\n      <td>france caste crapuleuse encadrée gangsters irr...</td>\n      <td>0</td>\n      <td>0</td>\n      <td>89</td>\n      <td>11166</td>\n      <td>127</td>\n      <td>[]</td>\n      <td>[]</td>\n      <td>0</td>\n      <td>...</td>\n      <td>1.000000</td>\n      <td>0.260870</td>\n      <td>0.159420</td>\n      <td>7</td>\n      <td>False</td>\n      <td>False</td>\n      <td>False</td>\n      <td>False</td>\n      <td>0.10</td>\n      <td>0.200</td>\n    </tr>\n    <tr>\n      <th>353966</th>\n      <td>353966</td>\n      <td>eric zemmour français berbère</td>\n      <td>3</td>\n      <td>0</td>\n      <td>1888</td>\n      <td>712</td>\n      <td>3086</td>\n      <td>[]</td>\n      <td>[]</td>\n      <td>0</td>\n      <td>...</td>\n      <td>1.000000</td>\n      <td>0.551724</td>\n      <td>0.172414</td>\n      <td>4</td>\n      <td>False</td>\n      <td>True</td>\n      <td>False</td>\n      <td>False</td>\n      <td>0.20</td>\n      <td>0.000</td>\n    </tr>\n    <tr>\n      <th>353967</th>\n      <td>353967</td>\n      <td>gauchistes dépression pq</td>\n      <td>0</td>\n      <td>0</td>\n      <td>139</td>\n      <td>486</td>\n      <td>320</td>\n      <td>[]</td>\n      <td>[]</td>\n      <td>0</td>\n      <td>...</td>\n      <td>1.000000</td>\n      <td>0.708333</td>\n      <td>0.166667</td>\n      <td>3</td>\n      <td>False</td>\n      <td>False</td>\n      <td>False</td>\n      <td>False</td>\n      <td>0.00</td>\n      <td>0.000</td>\n    </tr>\n    <tr>\n      <th>353968</th>\n      <td>353968</td>\n      <td>algérie emmanuel macron grande histoire amour</td>\n      <td>0</td>\n      <td>0</td>\n      <td>0</td>\n      <td>82</td>\n      <td>24</td>\n      <td>[]</td>\n      <td>[]</td>\n      <td>0</td>\n      <td>...</td>\n      <td>1.000000</td>\n      <td>0.377778</td>\n      <td>0.111111</td>\n      <td>6</td>\n      <td>True</td>\n      <td>False</td>\n      <td>False</td>\n      <td>False</td>\n      <td>0.30</td>\n      <td>0.200</td>\n    </tr>\n  </tbody>\n</table>\n<p>353969 rows × 61 columns</p>\n</div>"
     },
     "metadata": {},
     "output_type": "display_data"
    }
   ],
   "source": [
    "display(train_data)"
   ]
  },
  {
   "cell_type": "code",
   "execution_count": 7,
   "metadata": {},
   "outputs": [],
   "source": [
    "# select useful columns\n",
    "train_data_filtered = train_data.drop([\"text\", \"urls\", \"mentions\", \"hashtags\", \"timestamp\", \"TweetID\"], axis=1)"
   ]
  },
  {
   "cell_type": "code",
   "execution_count": 8,
   "outputs": [],
   "source": [
    "# train_data_filtered = train_data.loc[:, [\"retweets_count\",\"favorites_count\",\"followers_count\",\"statuses_count\",\"friends_count\",\n",
    "#                                  \"hashtags_count\",\"hour\",\"verified\",\"url_count\",\"text_len\",\"rt\",\"Macron\",\"Zemmour\",\"Melenchon\"]]\n",
    "\n",
    "\n",
    "X_train, X_eval, y_train, y_eval = train_test_split(train_data_filtered.drop(\"retweets_count\", axis=1),\n",
    "                                                    train_data_filtered[\"retweets_count\"],\n",
    "                                                    random_state=42, test_size=0.1)\n",
    "\n",
    "# Standardize the data\n",
    "normal_columns = train_data_filtered.drop([\"hour\", \"verified\", \"Macron\", \"Zemmour\", \"Melenchon\", \"url_count\", \"rt\", \"retweets_count\"], axis=1).columns\n",
    "mu, sigma = X_train[normal_columns].mean(axis=0), X_train[normal_columns].std(axis=0)\n",
    "X_train.loc[:, normal_columns] = (X_train[normal_columns] - mu) / sigma\n",
    "X_eval.loc[:, normal_columns] = (X_eval[normal_columns] - mu) / sigma"
   ],
   "metadata": {
    "collapsed": false
   }
  },
  {
   "cell_type": "code",
   "execution_count": 9,
   "metadata": {},
   "outputs": [],
   "source": [
    "import tensorflow as tf"
   ]
  },
  {
   "cell_type": "code",
   "execution_count": 10,
   "metadata": {},
   "outputs": [
    {
     "name": "stderr",
     "output_type": "stream",
     "text": [
      "2022-12-05 02:17:38.659234: I tensorflow/core/platform/cpu_feature_guard.cc:151] This TensorFlow binary is optimized with oneAPI Deep Neural Network Library (oneDNN) to use the following CPU instructions in performance-critical operations:  AVX2 FMA\n",
      "To enable them in other operations, rebuild TensorFlow with the appropriate compiler flags.\n",
      "2022-12-05 02:17:38.659677: I tensorflow/stream_executor/cuda/cuda_gpu_executor.cc:939] successful NUMA node read from SysFS had negative value (-1), but there must be at least one NUMA node, so returning NUMA node zero\n",
      "2022-12-05 02:17:38.660494: I tensorflow/stream_executor/cuda/cuda_gpu_executor.cc:939] successful NUMA node read from SysFS had negative value (-1), but there must be at least one NUMA node, so returning NUMA node zero\n",
      "2022-12-05 02:17:38.660916: I tensorflow/stream_executor/cuda/cuda_gpu_executor.cc:939] successful NUMA node read from SysFS had negative value (-1), but there must be at least one NUMA node, so returning NUMA node zero\n",
      "2022-12-05 02:17:42.664318: I tensorflow/stream_executor/cuda/cuda_gpu_executor.cc:939] successful NUMA node read from SysFS had negative value (-1), but there must be at least one NUMA node, so returning NUMA node zero\n",
      "2022-12-05 02:17:42.664763: I tensorflow/stream_executor/cuda/cuda_gpu_executor.cc:939] successful NUMA node read from SysFS had negative value (-1), but there must be at least one NUMA node, so returning NUMA node zero\n",
      "2022-12-05 02:17:42.665108: I tensorflow/stream_executor/cuda/cuda_gpu_executor.cc:939] successful NUMA node read from SysFS had negative value (-1), but there must be at least one NUMA node, so returning NUMA node zero\n",
      "2022-12-05 02:17:42.665401: I tensorflow/core/common_runtime/gpu/gpu_device.cc:1525] Created device /job:localhost/replica:0/task:0/device:GPU:0 with 1278 MB memory:  -> device: 0, name: NVIDIA GeForce 920MX, pci bus id: 0000:01:00.0, compute capability: 5.0\n"
     ]
    }
   ],
   "source": [
    "# model = tf.keras.models.Sequential([\n",
    "#   tf.keras.layers.Dense(32, activation='relu'),\n",
    "#   tf.keras.layers.Dense(32, activation='relu'),\n",
    "#   tf.keras.layers.Dense(32, activation='relu'),\n",
    "#   tf.keras.layers.Dense(1),\n",
    "# ])\n",
    "\n",
    "model = tf.keras.models.Sequential([\n",
    "  tf.keras.layers.Dense(20, activation='relu'),\n",
    "  tf.keras.layers.Dense(20, activation='relu'),\n",
    "  tf.keras.layers.Dense(20, activation='relu'),\n",
    "  tf.keras.layers.Dense(1),\n",
    "])"
   ]
  },
  {
   "cell_type": "code",
   "execution_count": 11,
   "metadata": {},
   "outputs": [],
   "source": [
    "# import tensorflow_addons as tfa\n",
    "# optimizer = tfa.optimizers.AdamW(learning_rate=1e-3, weight_decay=1e-4)\n",
    "# model.compile(optimizer=optimizer, loss='mae')"
   ]
  },
  {
   "cell_type": "code",
   "execution_count": 12,
   "metadata": {},
   "outputs": [],
   "source": [
    "model.compile(optimizer=\"adam\", loss='mae')"
   ]
  },
  {
   "cell_type": "code",
   "execution_count": 15,
   "metadata": {},
   "outputs": [
    {
     "name": "stdout",
     "output_type": "stream",
     "text": [
      "Epoch 1/20\n",
      " 13/312 [>.............................] - ETA: 1s - loss: 6.1170"
     ]
    },
    {
     "name": "stderr",
     "output_type": "stream",
     "text": [
      "2022-12-05 02:22:03.175176: W tensorflow/core/framework/cpu_allocator_impl.cc:82] Allocation of 68811552 exceeds 10% of free system memory.\n",
      "2022-12-05 02:22:03.268540: W tensorflow/core/framework/cpu_allocator_impl.cc:82] Allocation of 68811552 exceeds 10% of free system memory.\n"
     ]
    },
    {
     "name": "stdout",
     "output_type": "stream",
     "text": [
      "312/312 [==============================] - 1s 5ms/step - loss: 5.7491 - val_loss: 5.8758\n",
      "Epoch 2/20\n",
      "312/312 [==============================] - 1s 4ms/step - loss: 5.7612 - val_loss: 5.8659\n",
      "Epoch 3/20\n",
      "312/312 [==============================] - 1s 3ms/step - loss: 5.7376 - val_loss: 5.8125\n",
      "Epoch 4/20\n",
      "312/312 [==============================] - 1s 4ms/step - loss: 5.7324 - val_loss: 5.7925\n",
      "Epoch 5/20\n",
      "312/312 [==============================] - 1s 4ms/step - loss: 5.7516 - val_loss: 5.7962\n",
      "Epoch 6/20\n",
      "312/312 [==============================] - 2s 6ms/step - loss: 5.7331 - val_loss: 5.7815\n",
      "Epoch 7/20\n",
      "312/312 [==============================] - 1s 4ms/step - loss: 5.7352 - val_loss: 5.9032\n",
      "Epoch 8/20\n",
      "312/312 [==============================] - 1s 3ms/step - loss: 5.7417 - val_loss: 5.8357\n",
      "Epoch 9/20\n",
      "312/312 [==============================] - 1s 3ms/step - loss: 5.7411 - val_loss: 5.8357\n",
      "Epoch 10/20\n",
      "312/312 [==============================] - 1s 3ms/step - loss: 5.7355 - val_loss: 5.8122\n",
      "Epoch 11/20\n",
      "312/312 [==============================] - 1s 4ms/step - loss: 5.7222 - val_loss: 5.9583\n",
      "Epoch 12/20\n",
      "312/312 [==============================] - 1s 4ms/step - loss: 5.7304 - val_loss: 5.7983\n",
      "Epoch 13/20\n",
      "312/312 [==============================] - 1s 4ms/step - loss: 5.7291 - val_loss: 5.8334\n",
      "Epoch 14/20\n",
      "312/312 [==============================] - 1s 3ms/step - loss: 5.7207 - val_loss: 5.9893\n",
      "Epoch 15/20\n",
      "312/312 [==============================] - 1s 3ms/step - loss: 5.7156 - val_loss: 5.8681\n",
      "Epoch 16/20\n",
      "312/312 [==============================] - 1s 3ms/step - loss: 5.7201 - val_loss: 5.8872\n",
      "Epoch 17/20\n",
      "312/312 [==============================] - 1s 3ms/step - loss: 5.7047 - val_loss: 5.8323\n",
      "Epoch 18/20\n",
      "312/312 [==============================] - 1s 4ms/step - loss: 5.7242 - val_loss: 5.8631\n",
      "Epoch 19/20\n",
      "312/312 [==============================] - 1s 2ms/step - loss: 5.7083 - val_loss: 5.8273\n",
      "Epoch 20/20\n",
      "312/312 [==============================] - 1s 3ms/step - loss: 5.7056 - val_loss: 5.8400\n"
     ]
    }
   ],
   "source": [
    "history = model.fit(X_train.values.astype(np.float32), y_train.values.astype(np.float32), epochs=20, batch_size=1024,\n",
    "         validation_data=(X_eval.values.astype(np.float32), y_eval.values.astype(np.float32)), shuffle=True)"
   ]
  },
  {
   "cell_type": "code",
   "execution_count": 14,
   "metadata": {},
   "outputs": [
    {
     "data": {
      "text/plain": "<Figure size 640x480 with 1 Axes>",
      "image/png": "[encoded data removed]"
     },
     "metadata": {},
     "output_type": "display_data"
    }
   ],
   "source": [
    "plt.plot(history.epoch, history.history[\"loss\"], 'b', label='Training loss')\n",
    "plt.plot(history.epoch, history.history[\"val_loss\"], 'g', label='Validation loss')\n",
    "plt.title('Training loss')\n",
    "plt.xlabel('Epochs')\n",
    "plt.ylabel('Loss')\n",
    "plt.legend()\n",
    "plt.show()"
   ]
  },
  {
   "cell_type": "code",
   "execution_count": null,
   "metadata": {},
   "outputs": [
    {
     "name": "stdout",
     "output_type": "stream",
     "text": [
      "1107/1107 - 1s - loss: 5.8596 - 718ms/epoch - 649us/step\n"
     ]
    },
    {
     "data": {
      "text/plain": [
       "5.85959529876709"
      ]
     },
     "execution_count": 148,
     "metadata": {},
     "output_type": "execute_result"
    }
   ],
   "source": [
    "model.evaluate(X_eval.values.astype(np.float32),  y_eval.values.astype(np.float32), verbose=2)"
   ]
  },
  {
   "cell_type": "code",
   "execution_count": null,
   "metadata": {},
   "outputs": [
    {
     "name": "stdout",
     "output_type": "stream",
     "text": [
      "9956/9956 [==============================] - 5s 484us/step\n",
      "[[-0.00161982]\n",
      " [ 1.0689433 ]\n",
      " [-0.00469404]\n",
      " ...\n",
      " [ 1.1079342 ]\n",
      " [ 0.38836724]\n",
      " [ 1.0198526 ]]\n"
     ]
    }
   ],
   "source": [
    "pred = model.predict(X_train.values.astype(np.float32))\n",
    "print(pred)"
   ]
  },
  {
   "cell_type": "code",
   "execution_count": null,
   "metadata": {},
   "outputs": [],
   "source": [
    "# plt.scatter(X_train[\"favorites_count\"], model.predict(X_train))\n",
    "# plt.scatter(X_train[\"favorites_count\"], y_train.values.astype(np.float32))"
   ]
  },
  {
   "cell_type": "code",
   "execution_count": null,
   "metadata": {},
   "outputs": [],
   "source": [
    "# evaluation\n",
    "\n",
    "eval_data = pd.read_csv(\"data/evaluation_with_embeddings.csv\")\n",
    "tweets = eval_data[\"TweetID\"]"
   ]
  },
  {
   "cell_type": "code",
   "execution_count": null,
   "metadata": {},
   "outputs": [
    {
     "ename": "KeyError",
     "evalue": "\"['avg_word_count', 'compound'] not in index\"",
     "output_type": "error",
     "traceback": [
      "\u001B[0;31m---------------------------------------------------------------------------\u001B[0m",
      "\u001B[0;31mKeyError\u001B[0m                                  Traceback (most recent call last)",
      "Cell \u001B[0;32mIn[152], line 21\u001B[0m\n\u001B[1;32m     18\u001B[0m eval_data \u001B[39m=\u001B[39m eval_data\u001B[39m.\u001B[39mdrop([\u001B[39m\"\u001B[39m\u001B[39mtext\u001B[39m\u001B[39m\"\u001B[39m, \u001B[39m\"\u001B[39m\u001B[39murls\u001B[39m\u001B[39m\"\u001B[39m, \u001B[39m\"\u001B[39m\u001B[39mmentions\u001B[39m\u001B[39m\"\u001B[39m, \u001B[39m\"\u001B[39m\u001B[39mhashtags\u001B[39m\u001B[39m\"\u001B[39m, \u001B[39m\"\u001B[39m\u001B[39mtimestamp\u001B[39m\u001B[39m\"\u001B[39m, \u001B[39m\"\u001B[39m\u001B[39mTweetID\u001B[39m\u001B[39m\"\u001B[39m], axis\u001B[39m=\u001B[39m\u001B[39m1\u001B[39m)\n\u001B[1;32m     20\u001B[0m \u001B[39m# normalize\u001B[39;00m\n\u001B[0;32m---> 21\u001B[0m eval_data\u001B[39m.\u001B[39mloc[:, normal_columns] \u001B[39m=\u001B[39m (eval_data\u001B[39m.\u001B[39;49mloc[:, normal_columns] \u001B[39m-\u001B[39m mu) \u001B[39m/\u001B[39m sigma\n\u001B[1;32m     23\u001B[0m \u001B[39mprint\u001B[39m(eval_data)\n\u001B[1;32m     25\u001B[0m pred \u001B[39m=\u001B[39m model\u001B[39m.\u001B[39mpredict(eval_data\u001B[39m.\u001B[39mvalues\u001B[39m.\u001B[39mastype(np\u001B[39m.\u001B[39mfloat32))\n",
      "File \u001B[0;32m~/Desktop/hexa/hexa/venv/lib/python3.10/site-packages/pandas/core/indexing.py:1067\u001B[0m, in \u001B[0;36m_LocationIndexer.__getitem__\u001B[0;34m(self, key)\u001B[0m\n\u001B[1;32m   1065\u001B[0m     \u001B[39mif\u001B[39;00m \u001B[39mself\u001B[39m\u001B[39m.\u001B[39m_is_scalar_access(key):\n\u001B[1;32m   1066\u001B[0m         \u001B[39mreturn\u001B[39;00m \u001B[39mself\u001B[39m\u001B[39m.\u001B[39mobj\u001B[39m.\u001B[39m_get_value(\u001B[39m*\u001B[39mkey, takeable\u001B[39m=\u001B[39m\u001B[39mself\u001B[39m\u001B[39m.\u001B[39m_takeable)\n\u001B[0;32m-> 1067\u001B[0m     \u001B[39mreturn\u001B[39;00m \u001B[39mself\u001B[39;49m\u001B[39m.\u001B[39;49m_getitem_tuple(key)\n\u001B[1;32m   1068\u001B[0m \u001B[39melse\u001B[39;00m:\n\u001B[1;32m   1069\u001B[0m     \u001B[39m# we by definition only have the 0th axis\u001B[39;00m\n\u001B[1;32m   1070\u001B[0m     axis \u001B[39m=\u001B[39m \u001B[39mself\u001B[39m\u001B[39m.\u001B[39maxis \u001B[39mor\u001B[39;00m \u001B[39m0\u001B[39m\n",
      "File \u001B[0;32m~/Desktop/hexa/hexa/venv/lib/python3.10/site-packages/pandas/core/indexing.py:1256\u001B[0m, in \u001B[0;36m_LocIndexer._getitem_tuple\u001B[0;34m(self, tup)\u001B[0m\n\u001B[1;32m   1253\u001B[0m \u001B[39mif\u001B[39;00m \u001B[39mself\u001B[39m\u001B[39m.\u001B[39m_multi_take_opportunity(tup):\n\u001B[1;32m   1254\u001B[0m     \u001B[39mreturn\u001B[39;00m \u001B[39mself\u001B[39m\u001B[39m.\u001B[39m_multi_take(tup)\n\u001B[0;32m-> 1256\u001B[0m \u001B[39mreturn\u001B[39;00m \u001B[39mself\u001B[39;49m\u001B[39m.\u001B[39;49m_getitem_tuple_same_dim(tup)\n",
      "File \u001B[0;32m~/Desktop/hexa/hexa/venv/lib/python3.10/site-packages/pandas/core/indexing.py:924\u001B[0m, in \u001B[0;36m_LocationIndexer._getitem_tuple_same_dim\u001B[0;34m(self, tup)\u001B[0m\n\u001B[1;32m    921\u001B[0m \u001B[39mif\u001B[39;00m com\u001B[39m.\u001B[39mis_null_slice(key):\n\u001B[1;32m    922\u001B[0m     \u001B[39mcontinue\u001B[39;00m\n\u001B[0;32m--> 924\u001B[0m retval \u001B[39m=\u001B[39m \u001B[39mgetattr\u001B[39;49m(retval, \u001B[39mself\u001B[39;49m\u001B[39m.\u001B[39;49mname)\u001B[39m.\u001B[39;49m_getitem_axis(key, axis\u001B[39m=\u001B[39;49mi)\n\u001B[1;32m    925\u001B[0m \u001B[39m# We should never have retval.ndim < self.ndim, as that should\u001B[39;00m\n\u001B[1;32m    926\u001B[0m \u001B[39m#  be handled by the _getitem_lowerdim call above.\u001B[39;00m\n\u001B[1;32m    927\u001B[0m \u001B[39massert\u001B[39;00m retval\u001B[39m.\u001B[39mndim \u001B[39m==\u001B[39m \u001B[39mself\u001B[39m\u001B[39m.\u001B[39mndim\n",
      "File \u001B[0;32m~/Desktop/hexa/hexa/venv/lib/python3.10/site-packages/pandas/core/indexing.py:1301\u001B[0m, in \u001B[0;36m_LocIndexer._getitem_axis\u001B[0;34m(self, key, axis)\u001B[0m\n\u001B[1;32m   1298\u001B[0m     \u001B[39mif\u001B[39;00m \u001B[39mhasattr\u001B[39m(key, \u001B[39m\"\u001B[39m\u001B[39mndim\u001B[39m\u001B[39m\"\u001B[39m) \u001B[39mand\u001B[39;00m key\u001B[39m.\u001B[39mndim \u001B[39m>\u001B[39m \u001B[39m1\u001B[39m:\n\u001B[1;32m   1299\u001B[0m         \u001B[39mraise\u001B[39;00m \u001B[39mValueError\u001B[39;00m(\u001B[39m\"\u001B[39m\u001B[39mCannot index with multidimensional key\u001B[39m\u001B[39m\"\u001B[39m)\n\u001B[0;32m-> 1301\u001B[0m     \u001B[39mreturn\u001B[39;00m \u001B[39mself\u001B[39;49m\u001B[39m.\u001B[39;49m_getitem_iterable(key, axis\u001B[39m=\u001B[39;49maxis)\n\u001B[1;32m   1303\u001B[0m \u001B[39m# nested tuple slicing\u001B[39;00m\n\u001B[1;32m   1304\u001B[0m \u001B[39mif\u001B[39;00m is_nested_tuple(key, labels):\n",
      "File \u001B[0;32m~/Desktop/hexa/hexa/venv/lib/python3.10/site-packages/pandas/core/indexing.py:1239\u001B[0m, in \u001B[0;36m_LocIndexer._getitem_iterable\u001B[0;34m(self, key, axis)\u001B[0m\n\u001B[1;32m   1236\u001B[0m \u001B[39mself\u001B[39m\u001B[39m.\u001B[39m_validate_key(key, axis)\n\u001B[1;32m   1238\u001B[0m \u001B[39m# A collection of keys\u001B[39;00m\n\u001B[0;32m-> 1239\u001B[0m keyarr, indexer \u001B[39m=\u001B[39m \u001B[39mself\u001B[39;49m\u001B[39m.\u001B[39;49m_get_listlike_indexer(key, axis)\n\u001B[1;32m   1240\u001B[0m \u001B[39mreturn\u001B[39;00m \u001B[39mself\u001B[39m\u001B[39m.\u001B[39mobj\u001B[39m.\u001B[39m_reindex_with_indexers(\n\u001B[1;32m   1241\u001B[0m     {axis: [keyarr, indexer]}, copy\u001B[39m=\u001B[39m\u001B[39mTrue\u001B[39;00m, allow_dups\u001B[39m=\u001B[39m\u001B[39mTrue\u001B[39;00m\n\u001B[1;32m   1242\u001B[0m )\n",
      "File \u001B[0;32m~/Desktop/hexa/hexa/venv/lib/python3.10/site-packages/pandas/core/indexing.py:1432\u001B[0m, in \u001B[0;36m_LocIndexer._get_listlike_indexer\u001B[0;34m(self, key, axis)\u001B[0m\n\u001B[1;32m   1429\u001B[0m ax \u001B[39m=\u001B[39m \u001B[39mself\u001B[39m\u001B[39m.\u001B[39mobj\u001B[39m.\u001B[39m_get_axis(axis)\n\u001B[1;32m   1430\u001B[0m axis_name \u001B[39m=\u001B[39m \u001B[39mself\u001B[39m\u001B[39m.\u001B[39mobj\u001B[39m.\u001B[39m_get_axis_name(axis)\n\u001B[0;32m-> 1432\u001B[0m keyarr, indexer \u001B[39m=\u001B[39m ax\u001B[39m.\u001B[39;49m_get_indexer_strict(key, axis_name)\n\u001B[1;32m   1434\u001B[0m \u001B[39mreturn\u001B[39;00m keyarr, indexer\n",
      "File \u001B[0;32m~/Desktop/hexa/hexa/venv/lib/python3.10/site-packages/pandas/core/indexes/base.py:6113\u001B[0m, in \u001B[0;36mIndex._get_indexer_strict\u001B[0;34m(self, key, axis_name)\u001B[0m\n\u001B[1;32m   6110\u001B[0m \u001B[39melse\u001B[39;00m:\n\u001B[1;32m   6111\u001B[0m     keyarr, indexer, new_indexer \u001B[39m=\u001B[39m \u001B[39mself\u001B[39m\u001B[39m.\u001B[39m_reindex_non_unique(keyarr)\n\u001B[0;32m-> 6113\u001B[0m \u001B[39mself\u001B[39;49m\u001B[39m.\u001B[39;49m_raise_if_missing(keyarr, indexer, axis_name)\n\u001B[1;32m   6115\u001B[0m keyarr \u001B[39m=\u001B[39m \u001B[39mself\u001B[39m\u001B[39m.\u001B[39mtake(indexer)\n\u001B[1;32m   6116\u001B[0m \u001B[39mif\u001B[39;00m \u001B[39misinstance\u001B[39m(key, Index):\n\u001B[1;32m   6117\u001B[0m     \u001B[39m# GH 42790 - Preserve name from an Index\u001B[39;00m\n",
      "File \u001B[0;32m~/Desktop/hexa/hexa/venv/lib/python3.10/site-packages/pandas/core/indexes/base.py:6176\u001B[0m, in \u001B[0;36mIndex._raise_if_missing\u001B[0;34m(self, key, indexer, axis_name)\u001B[0m\n\u001B[1;32m   6173\u001B[0m     \u001B[39mraise\u001B[39;00m \u001B[39mKeyError\u001B[39;00m(\u001B[39mf\u001B[39m\u001B[39m\"\u001B[39m\u001B[39mNone of [\u001B[39m\u001B[39m{\u001B[39;00mkey\u001B[39m}\u001B[39;00m\u001B[39m] are in the [\u001B[39m\u001B[39m{\u001B[39;00maxis_name\u001B[39m}\u001B[39;00m\u001B[39m]\u001B[39m\u001B[39m\"\u001B[39m)\n\u001B[1;32m   6175\u001B[0m not_found \u001B[39m=\u001B[39m \u001B[39mlist\u001B[39m(ensure_index(key)[missing_mask\u001B[39m.\u001B[39mnonzero()[\u001B[39m0\u001B[39m]]\u001B[39m.\u001B[39munique())\n\u001B[0;32m-> 6176\u001B[0m \u001B[39mraise\u001B[39;00m \u001B[39mKeyError\u001B[39;00m(\u001B[39mf\u001B[39m\u001B[39m\"\u001B[39m\u001B[39m{\u001B[39;00mnot_found\u001B[39m}\u001B[39;00m\u001B[39m not in index\u001B[39m\u001B[39m\"\u001B[39m)\n",
      "\u001B[0;31mKeyError\u001B[0m: \"['avg_word_count', 'compound'] not in index\""
     ]
    }
   ],
   "source": [
    "eval_data[\"url_count\"] = eval_data[\"urls\"].apply(lambda s: s[1:-1].count(\"\\'\")/2)\n",
    "eval_data[\"text_len\"] = eval_data[\"text\"].apply(lambda s: len(s))\n",
    "eval_data[\"hashtags_count\"] = eval_data[\"hashtags\"].apply(lambda s: s[1:-1].count(\"\\'\")/2)\n",
    "eval_data[\"day\"] = eval_data[\"timestamp\"].apply(lambda t: datetime.utcfromtimestamp(t/1000).day)\n",
    "eval_data[\"hour\"] = eval_data[\"timestamp\"].apply(lambda t: datetime.utcfromtimestamp(t/1000).hour)\n",
    "eval_data[\"Macron\"] =  eval_data[\"text\"].apply(lambda s: (\"macron\" in s.lower().split()))\n",
    "eval_data[\"Zemmour\"] =  eval_data[\"text\"].apply(lambda s: (\"zemmour\" in s.lower().split()))\n",
    "eval_data[\"Melenchon\"] =  eval_data[\"text\"].apply(lambda s: (\"melenchon\" in s.lower().split()))\n",
    "eval_data[\"rt\"] =  eval_data[\"text\"].apply(lambda s: (\"rt\" in s.lower().split()))\n",
    "eval_data[\"avg_word_len\"] = eval_data[\"text\"].apply(lambda s: np.mean([len(w) for w in s.split()]))\n",
    "eval_data[\"rep_words_freq\"] = eval_data[\"text\"].apply(lambda s: np.mean(len(list(set(s.split())))/len(s.split())))\n",
    "eval_data[\"rep_chars_freq\"] = eval_data[\"text\"].apply(lambda s: np.mean(len(list(set(s)))/len(list(s))))\n",
    "eval_data[\"max_char_freq\"] = eval_data[\"text\"].apply(lambda s: max( [s.count(c) for c in list(set(s))] )/len(list(s)))\n",
    "\n",
    "# print(\"sentiment analysis...\")\n",
    "# eval_data[\"compound\"] =  eval_data[\"text\"].apply(lambda s: sia.polarity_scores(s)['compound'])\n",
    "\n",
    "eval_data = eval_data.drop([\"text\", \"urls\", \"mentions\", \"hashtags\", \"timestamp\", \"TweetID\"], axis=1)\n",
    "\n",
    "# normalize\n",
    "eval_data.loc[:, normal_columns] = (eval_data.loc[:, normal_columns] - mu) / sigma\n",
    "\n",
    "print(eval_data)\n",
    "\n",
    "pred = model.predict(eval_data.values.astype(np.float32))\n",
    "\n",
    "print(pred)\n",
    "\n",
    "# output normalization\n",
    "for i,p in enumerate(pred):\n",
    "    if p<0: pred[i] = 0"
   ]
  },
  {
   "cell_type": "code",
   "execution_count": null,
   "metadata": {},
   "outputs": [
    {
     "name": "stdout",
     "output_type": "stream",
     "text": [
      "[[5.9171066e-02]\n",
      " [1.4402901e-01]\n",
      " [3.0538517e-01]\n",
      " ...\n",
      " [2.8213394e+00]\n",
      " [2.3125261e-03]\n",
      " [1.4682983e-01]]\n"
     ]
    }
   ],
   "source": [
    "print(pred)"
   ]
  },
  {
   "cell_type": "code",
   "execution_count": null,
   "metadata": {},
   "outputs": [],
   "source": [
    "with open(\"data/predictions.csv\", 'w') as f:\n",
    "    writer = csv.writer(f)\n",
    "    writer.writerow([\"TweetID\", \"retweets_count\"])\n",
    "    for index, prediction in enumerate(pred):\n",
    "        writer.writerow([str(tweets[index]) , str(int(prediction))])"
   ]
  }
 ],
 "metadata": {
  "kernelspec": {
   "display_name": "Python 3.10.6 ('venv': venv)",
   "language": "python",
   "name": "python3"
  },
  "language_info": {
   "codemirror_mode": {
    "name": "ipython",
    "version": 3
   },
   "file_extension": ".py",
   "mimetype": "text/x-python",
   "name": "python",
   "nbconvert_exporter": "python",
   "pygments_lexer": "ipython3",
   "version": "3.10.6"
  },
  "orig_nbformat": 4,
  "vscode": {
   "interpreter": {
    "hash": "2b76f9357de510751682414c7cddbaacea429d985ca72e90da955bd41bf6fe1e"
   }
  }
 },
 "nbformat": 4,
 "nbformat_minor": 2
}

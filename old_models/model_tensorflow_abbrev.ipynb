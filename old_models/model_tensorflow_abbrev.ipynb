{
 "cells": [
  {
   "cell_type": "code",
   "execution_count": 3,
   "metadata": {},
   "outputs": [
    {
     "name": "stdout",
     "output_type": "stream",
     "text": [
      "The autoreload extension is already loaded. To reload it, use:\n",
      "  %reload_ext autoreload\n"
     ]
    }
   ],
   "source": [
    "%load_ext autoreload\n",
    "%autoreload 2\n",
    "from pylexique import Lexique383\n",
    "import csv\n",
    "import numpy as np\n",
    "import pandas as pd\n",
    "from matplotlib import pyplot as plt\n",
    "from datetime import datetime\n",
    "from sklearn.model_selection import train_test_split\n",
    "import data"
   ]
  },
  {
   "cell_type": "code",
   "execution_count": 12,
   "metadata": {},
   "outputs": [],
   "source": [
    "train_data = pd.read_csv(\"data/train.csv\")"
   ]
  },
  {
   "cell_type": "code",
   "execution_count": 13,
   "metadata": {},
   "outputs": [],
   "source": [
    "train_data = data.preprocess(train_data, create_keywords=True)"
   ]
  },
  {
   "cell_type": "code",
   "execution_count": 14,
   "outputs": [],
   "source": [
    "def feature_abbrev(dt):\n",
    "    LEXIQUE = Lexique383()\n",
    "    lexique = set(LEXIQUE.lexique.keys())\n",
    "    dt[\"abrev\"] = dt[\"text\"].apply(lambda s: data.count_abreviations_func(s, lexique))\n",
    "    return dt"
   ],
   "metadata": {
    "collapsed": false
   }
  },
  {
   "cell_type": "code",
   "execution_count": 8,
   "outputs": [],
   "source": [],
   "metadata": {
    "collapsed": false
   }
  },
  {
   "cell_type": "code",
   "execution_count": 9,
   "metadata": {},
   "outputs": [
    {
     "data": {
      "text/plain": "                                                     text  retweets_count  \\\n0                      rt refarcir macron ans nom prépare               3   \n1                                               populaire               0   \n2                                     faut dégager cinglé               3   \n3       enseignants mettre prescriptions président rép...               0   \n4                              mafieuse oppressive macron               0   \n...                                                   ...             ...   \n353964                     gonflette tour raciste frustré               0   \n353965  france caste crapuleuse encadrée gangsters irr...               0   \n353966                      eric zemmour français berbère               3   \n353967                           gauchistes dépression pq               0   \n353968      algérie emmanuel macron grande histoire amour               0   \n\n        favorites_count  followers_count  statuses_count  friends_count  \\\n0                     0             3682          453535           3628   \n1                     0               86            1016            284   \n2                     1             1944           28234           1995   \n3                     0                1            1072              0   \n4                     0            13957           25311          10841   \n...                 ...              ...             ...            ...   \n353964                0               34            1509             55   \n353965                0               89           11166            127   \n353966                0             1888             712           3086   \n353967                0              139             486            320   \n353968                0                0              82             24   \n\n       mentions                         urls  verified hashtags  ...  TweetID  \\\n0            []                           []         0       []  ...   832509   \n1            []                           []         0       []  ...  1388011   \n2            []                           []         0       []  ...    63896   \n3            []  ['https://t.co/rytlted08g']         0       []  ...   979251   \n4            []                           []         0       []  ...  1040049   \n...         ...                          ...       ...      ...  ...      ...   \n353964       []  ['https://t.co/pma33zhslx']         0       []  ...   142573   \n353965       []                           []         0       []  ...   240866   \n353966       []                           []         0       []  ...  1173763   \n353967       []                           []         0       []  ...   929182   \n353968       []                           []         0       []  ...  1250518   \n\n        url_count  text_len  hashtags_count  day  hour  Macron  Zemmour  \\\n0             0.0        34             0.0   11     5    True    False   \n1             0.0         9             0.0   19    12   False    False   \n2             0.0        19             0.0   15    18   False    False   \n3             1.0       123             0.0   14    11   False    False   \n4             0.0        26             0.0   14    11    True    False   \n...           ...       ...             ...  ...   ...     ...      ...   \n353964        1.0        30             0.0   16    13   False    False   \n353965        0.0        69             0.0   12     8   False    False   \n353966        0.0        29             0.0   18    12   False     True   \n353967        0.0        24             0.0   11     8   False    False   \n353968        0.0        45             0.0   18    11    True    False   \n\n        Melenchon     rt  \n0           False   True  \n1           False  False  \n2           False  False  \n3           False  False  \n4           False  False  \n...           ...    ...  \n353964      False  False  \n353965      False  False  \n353966      False  False  \n353967      False  False  \n353968      False  False  \n\n[353969 rows x 21 columns]",
      "text/html": "<div>\n<style scoped>\n    .dataframe tbody tr th:only-of-type {\n        vertical-align: middle;\n    }\n\n    .dataframe tbody tr th {\n        vertical-align: top;\n    }\n\n    .dataframe thead th {\n        text-align: right;\n    }\n</style>\n<table border=\"1\" class=\"dataframe\">\n  <thead>\n    <tr style=\"text-align: right;\">\n      <th></th>\n      <th>text</th>\n      <th>retweets_count</th>\n      <th>favorites_count</th>\n      <th>followers_count</th>\n      <th>statuses_count</th>\n      <th>friends_count</th>\n      <th>mentions</th>\n      <th>urls</th>\n      <th>verified</th>\n      <th>hashtags</th>\n      <th>...</th>\n      <th>TweetID</th>\n      <th>url_count</th>\n      <th>text_len</th>\n      <th>hashtags_count</th>\n      <th>day</th>\n      <th>hour</th>\n      <th>Macron</th>\n      <th>Zemmour</th>\n      <th>Melenchon</th>\n      <th>rt</th>\n    </tr>\n  </thead>\n  <tbody>\n    <tr>\n      <th>0</th>\n      <td>rt refarcir macron ans nom prépare</td>\n      <td>3</td>\n      <td>0</td>\n      <td>3682</td>\n      <td>453535</td>\n      <td>3628</td>\n      <td>[]</td>\n      <td>[]</td>\n      <td>0</td>\n      <td>[]</td>\n      <td>...</td>\n      <td>832509</td>\n      <td>0.0</td>\n      <td>34</td>\n      <td>0.0</td>\n      <td>11</td>\n      <td>5</td>\n      <td>True</td>\n      <td>False</td>\n      <td>False</td>\n      <td>True</td>\n    </tr>\n    <tr>\n      <th>1</th>\n      <td>populaire</td>\n      <td>0</td>\n      <td>0</td>\n      <td>86</td>\n      <td>1016</td>\n      <td>284</td>\n      <td>[]</td>\n      <td>[]</td>\n      <td>0</td>\n      <td>[]</td>\n      <td>...</td>\n      <td>1388011</td>\n      <td>0.0</td>\n      <td>9</td>\n      <td>0.0</td>\n      <td>19</td>\n      <td>12</td>\n      <td>False</td>\n      <td>False</td>\n      <td>False</td>\n      <td>False</td>\n    </tr>\n    <tr>\n      <th>2</th>\n      <td>faut dégager cinglé</td>\n      <td>3</td>\n      <td>1</td>\n      <td>1944</td>\n      <td>28234</td>\n      <td>1995</td>\n      <td>[]</td>\n      <td>[]</td>\n      <td>0</td>\n      <td>[]</td>\n      <td>...</td>\n      <td>63896</td>\n      <td>0.0</td>\n      <td>19</td>\n      <td>0.0</td>\n      <td>15</td>\n      <td>18</td>\n      <td>False</td>\n      <td>False</td>\n      <td>False</td>\n      <td>False</td>\n    </tr>\n    <tr>\n      <th>3</th>\n      <td>enseignants mettre prescriptions président rép...</td>\n      <td>0</td>\n      <td>0</td>\n      <td>1</td>\n      <td>1072</td>\n      <td>0</td>\n      <td>[]</td>\n      <td>['https://t.co/rytlted08g']</td>\n      <td>0</td>\n      <td>[]</td>\n      <td>...</td>\n      <td>979251</td>\n      <td>1.0</td>\n      <td>123</td>\n      <td>0.0</td>\n      <td>14</td>\n      <td>11</td>\n      <td>False</td>\n      <td>False</td>\n      <td>False</td>\n      <td>False</td>\n    </tr>\n    <tr>\n      <th>4</th>\n      <td>mafieuse oppressive macron</td>\n      <td>0</td>\n      <td>0</td>\n      <td>13957</td>\n      <td>25311</td>\n      <td>10841</td>\n      <td>[]</td>\n      <td>[]</td>\n      <td>0</td>\n      <td>[]</td>\n      <td>...</td>\n      <td>1040049</td>\n      <td>0.0</td>\n      <td>26</td>\n      <td>0.0</td>\n      <td>14</td>\n      <td>11</td>\n      <td>True</td>\n      <td>False</td>\n      <td>False</td>\n      <td>False</td>\n    </tr>\n    <tr>\n      <th>...</th>\n      <td>...</td>\n      <td>...</td>\n      <td>...</td>\n      <td>...</td>\n      <td>...</td>\n      <td>...</td>\n      <td>...</td>\n      <td>...</td>\n      <td>...</td>\n      <td>...</td>\n      <td>...</td>\n      <td>...</td>\n      <td>...</td>\n      <td>...</td>\n      <td>...</td>\n      <td>...</td>\n      <td>...</td>\n      <td>...</td>\n      <td>...</td>\n      <td>...</td>\n      <td>...</td>\n    </tr>\n    <tr>\n      <th>353964</th>\n      <td>gonflette tour raciste frustré</td>\n      <td>0</td>\n      <td>0</td>\n      <td>34</td>\n      <td>1509</td>\n      <td>55</td>\n      <td>[]</td>\n      <td>['https://t.co/pma33zhslx']</td>\n      <td>0</td>\n      <td>[]</td>\n      <td>...</td>\n      <td>142573</td>\n      <td>1.0</td>\n      <td>30</td>\n      <td>0.0</td>\n      <td>16</td>\n      <td>13</td>\n      <td>False</td>\n      <td>False</td>\n      <td>False</td>\n      <td>False</td>\n    </tr>\n    <tr>\n      <th>353965</th>\n      <td>france caste crapuleuse encadrée gangsters irr...</td>\n      <td>0</td>\n      <td>0</td>\n      <td>89</td>\n      <td>11166</td>\n      <td>127</td>\n      <td>[]</td>\n      <td>[]</td>\n      <td>0</td>\n      <td>[]</td>\n      <td>...</td>\n      <td>240866</td>\n      <td>0.0</td>\n      <td>69</td>\n      <td>0.0</td>\n      <td>12</td>\n      <td>8</td>\n      <td>False</td>\n      <td>False</td>\n      <td>False</td>\n      <td>False</td>\n    </tr>\n    <tr>\n      <th>353966</th>\n      <td>eric zemmour français berbère</td>\n      <td>3</td>\n      <td>0</td>\n      <td>1888</td>\n      <td>712</td>\n      <td>3086</td>\n      <td>[]</td>\n      <td>[]</td>\n      <td>0</td>\n      <td>[]</td>\n      <td>...</td>\n      <td>1173763</td>\n      <td>0.0</td>\n      <td>29</td>\n      <td>0.0</td>\n      <td>18</td>\n      <td>12</td>\n      <td>False</td>\n      <td>True</td>\n      <td>False</td>\n      <td>False</td>\n    </tr>\n    <tr>\n      <th>353967</th>\n      <td>gauchistes dépression pq</td>\n      <td>0</td>\n      <td>0</td>\n      <td>139</td>\n      <td>486</td>\n      <td>320</td>\n      <td>[]</td>\n      <td>[]</td>\n      <td>0</td>\n      <td>[]</td>\n      <td>...</td>\n      <td>929182</td>\n      <td>0.0</td>\n      <td>24</td>\n      <td>0.0</td>\n      <td>11</td>\n      <td>8</td>\n      <td>False</td>\n      <td>False</td>\n      <td>False</td>\n      <td>False</td>\n    </tr>\n    <tr>\n      <th>353968</th>\n      <td>algérie emmanuel macron grande histoire amour</td>\n      <td>0</td>\n      <td>0</td>\n      <td>0</td>\n      <td>82</td>\n      <td>24</td>\n      <td>[]</td>\n      <td>[]</td>\n      <td>0</td>\n      <td>[]</td>\n      <td>...</td>\n      <td>1250518</td>\n      <td>0.0</td>\n      <td>45</td>\n      <td>0.0</td>\n      <td>18</td>\n      <td>11</td>\n      <td>True</td>\n      <td>False</td>\n      <td>False</td>\n      <td>False</td>\n    </tr>\n  </tbody>\n</table>\n<p>353969 rows × 21 columns</p>\n</div>"
     },
     "metadata": {},
     "output_type": "display_data"
    }
   ],
   "source": [
    "display(train_data)"
   ]
  },
  {
   "cell_type": "code",
   "execution_count": 15,
   "metadata": {},
   "outputs": [],
   "source": [
    "# select useful columns\n",
    "train_data_filtered = train_data.drop([\"text\", \"urls\", \"mentions\", \"hashtags\", \"timestamp\", \"TweetID\"], axis=1)"
   ]
  },
  {
   "cell_type": "code",
   "execution_count": 16,
   "outputs": [],
   "source": [
    "\n",
    "# train_data_filtered = train_data.loc[:, [\"retweets_count\",\"favorites_count\",\"followers_count\",\"statuses_count\",\"friends_count\",\n",
    "#                                  \"hashtags_count\",\"hour\",\"verified\",\"url_count\",\"text_len\",\"rt\",\"Macron\",\"Zemmour\",\"Melenchon\"]]\n",
    "\n",
    "\n",
    "X_train, X_eval, y_train, y_eval = train_test_split(train_data_filtered.drop(\"retweets_count\", axis=1),\n",
    "                                                    train_data_filtered[\"retweets_count\"],\n",
    "                                                    random_state=42, test_size=0.1)\n",
    "\n",
    "# Standardize the data\n",
    "normal_columns = train_data_filtered.drop([\"hour\", \"verified\", \"Macron\", \"Zemmour\", \"Melenchon\", \"url_count\", \"rt\", \"retweets_count\"], axis=1).columns\n",
    "mu, sigma = X_train[normal_columns].mean(axis=0), X_train[normal_columns].std(axis=0)\n",
    "X_train.loc[:, normal_columns] = (X_train[normal_columns] - mu) / sigma\n",
    "X_eval.loc[:, normal_columns] = (X_eval[normal_columns] - mu) / sigma"
   ],
   "metadata": {
    "collapsed": false
   }
  },
  {
   "cell_type": "code",
   "execution_count": 17,
   "outputs": [
    {
     "data": {
      "text/plain": "        favorites_count  followers_count  statuses_count  friends_count  \\\n286184        -0.055089        -0.077844       -0.421579      -0.525943   \n83577         -0.055089        -0.067811       -0.070867       0.325185   \n165861        -0.055089        -0.077714       -0.417499      -0.523552   \n314938        -0.045624        -0.071025       -0.322850      -0.292042   \n301981        -0.052722        -0.076427       -0.310814      -0.221115   \n...                 ...              ...             ...            ...   \n119879        -0.055089        -0.074569       -0.374245      -0.252993   \n259178        -0.055089        -0.067190       -0.409402      -0.420349   \n131932        -0.055089        -0.062559       -0.417992       0.397706   \n146867        -0.055089        -0.076515       -0.175583      -0.372135   \n121958        -0.053906        -0.069167        0.454136       0.273384   \n\n        verified  url_count  text_len  hashtags_count       day  hour  Macron  \\\n286184         0        0.0 -0.456928       -0.384757  0.177303    19   False   \n83577          0        1.0  0.624187       -0.384757  0.177303     8   False   \n165861         0        0.0 -0.601077       -0.384757 -0.728852    17   False   \n314938         0        0.0  0.431989       -0.384757  0.479354    13   False   \n301981         0        1.0  1.945550        2.208030 -1.030903     5   False   \n...          ...        ...       ...             ...       ...   ...     ...   \n119879         0        1.0 -0.216681       -0.384757  1.385508     9   False   \n259178         0        1.0 -0.384854       -0.384757  0.177303    16    True   \n131932         0        1.0  0.480038       -0.384757  0.781405    17   False   \n146867         0        1.0  1.705302       -0.384757 -0.426800     9   False   \n121958         0        1.0  2.402021       -0.384757  0.479354     6   False   \n\n        Zemmour  Melenchon     rt  \n286184    False      False  False  \n83577     False      False  False  \n165861    False      False  False  \n314938    False      False  False  \n301981    False      False  False  \n...         ...        ...    ...  \n119879    False      False  False  \n259178    False      False  False  \n131932    False      False  False  \n146867     True      False  False  \n121958    False      False  False  \n\n[318572 rows x 14 columns]",
      "text/html": "<div>\n<style scoped>\n    .dataframe tbody tr th:only-of-type {\n        vertical-align: middle;\n    }\n\n    .dataframe tbody tr th {\n        vertical-align: top;\n    }\n\n    .dataframe thead th {\n        text-align: right;\n    }\n</style>\n<table border=\"1\" class=\"dataframe\">\n  <thead>\n    <tr style=\"text-align: right;\">\n      <th></th>\n      <th>favorites_count</th>\n      <th>followers_count</th>\n      <th>statuses_count</th>\n      <th>friends_count</th>\n      <th>verified</th>\n      <th>url_count</th>\n      <th>text_len</th>\n      <th>hashtags_count</th>\n      <th>day</th>\n      <th>hour</th>\n      <th>Macron</th>\n      <th>Zemmour</th>\n      <th>Melenchon</th>\n      <th>rt</th>\n    </tr>\n  </thead>\n  <tbody>\n    <tr>\n      <th>286184</th>\n      <td>-0.055089</td>\n      <td>-0.077844</td>\n      <td>-0.421579</td>\n      <td>-0.525943</td>\n      <td>0</td>\n      <td>0.0</td>\n      <td>-0.456928</td>\n      <td>-0.384757</td>\n      <td>0.177303</td>\n      <td>19</td>\n      <td>False</td>\n      <td>False</td>\n      <td>False</td>\n      <td>False</td>\n    </tr>\n    <tr>\n      <th>83577</th>\n      <td>-0.055089</td>\n      <td>-0.067811</td>\n      <td>-0.070867</td>\n      <td>0.325185</td>\n      <td>0</td>\n      <td>1.0</td>\n      <td>0.624187</td>\n      <td>-0.384757</td>\n      <td>0.177303</td>\n      <td>8</td>\n      <td>False</td>\n      <td>False</td>\n      <td>False</td>\n      <td>False</td>\n    </tr>\n    <tr>\n      <th>165861</th>\n      <td>-0.055089</td>\n      <td>-0.077714</td>\n      <td>-0.417499</td>\n      <td>-0.523552</td>\n      <td>0</td>\n      <td>0.0</td>\n      <td>-0.601077</td>\n      <td>-0.384757</td>\n      <td>-0.728852</td>\n      <td>17</td>\n      <td>False</td>\n      <td>False</td>\n      <td>False</td>\n      <td>False</td>\n    </tr>\n    <tr>\n      <th>314938</th>\n      <td>-0.045624</td>\n      <td>-0.071025</td>\n      <td>-0.322850</td>\n      <td>-0.292042</td>\n      <td>0</td>\n      <td>0.0</td>\n      <td>0.431989</td>\n      <td>-0.384757</td>\n      <td>0.479354</td>\n      <td>13</td>\n      <td>False</td>\n      <td>False</td>\n      <td>False</td>\n      <td>False</td>\n    </tr>\n    <tr>\n      <th>301981</th>\n      <td>-0.052722</td>\n      <td>-0.076427</td>\n      <td>-0.310814</td>\n      <td>-0.221115</td>\n      <td>0</td>\n      <td>1.0</td>\n      <td>1.945550</td>\n      <td>2.208030</td>\n      <td>-1.030903</td>\n      <td>5</td>\n      <td>False</td>\n      <td>False</td>\n      <td>False</td>\n      <td>False</td>\n    </tr>\n    <tr>\n      <th>...</th>\n      <td>...</td>\n      <td>...</td>\n      <td>...</td>\n      <td>...</td>\n      <td>...</td>\n      <td>...</td>\n      <td>...</td>\n      <td>...</td>\n      <td>...</td>\n      <td>...</td>\n      <td>...</td>\n      <td>...</td>\n      <td>...</td>\n      <td>...</td>\n    </tr>\n    <tr>\n      <th>119879</th>\n      <td>-0.055089</td>\n      <td>-0.074569</td>\n      <td>-0.374245</td>\n      <td>-0.252993</td>\n      <td>0</td>\n      <td>1.0</td>\n      <td>-0.216681</td>\n      <td>-0.384757</td>\n      <td>1.385508</td>\n      <td>9</td>\n      <td>False</td>\n      <td>False</td>\n      <td>False</td>\n      <td>False</td>\n    </tr>\n    <tr>\n      <th>259178</th>\n      <td>-0.055089</td>\n      <td>-0.067190</td>\n      <td>-0.409402</td>\n      <td>-0.420349</td>\n      <td>0</td>\n      <td>1.0</td>\n      <td>-0.384854</td>\n      <td>-0.384757</td>\n      <td>0.177303</td>\n      <td>16</td>\n      <td>True</td>\n      <td>False</td>\n      <td>False</td>\n      <td>False</td>\n    </tr>\n    <tr>\n      <th>131932</th>\n      <td>-0.055089</td>\n      <td>-0.062559</td>\n      <td>-0.417992</td>\n      <td>0.397706</td>\n      <td>0</td>\n      <td>1.0</td>\n      <td>0.480038</td>\n      <td>-0.384757</td>\n      <td>0.781405</td>\n      <td>17</td>\n      <td>False</td>\n      <td>False</td>\n      <td>False</td>\n      <td>False</td>\n    </tr>\n    <tr>\n      <th>146867</th>\n      <td>-0.055089</td>\n      <td>-0.076515</td>\n      <td>-0.175583</td>\n      <td>-0.372135</td>\n      <td>0</td>\n      <td>1.0</td>\n      <td>1.705302</td>\n      <td>-0.384757</td>\n      <td>-0.426800</td>\n      <td>9</td>\n      <td>False</td>\n      <td>True</td>\n      <td>False</td>\n      <td>False</td>\n    </tr>\n    <tr>\n      <th>121958</th>\n      <td>-0.053906</td>\n      <td>-0.069167</td>\n      <td>0.454136</td>\n      <td>0.273384</td>\n      <td>0</td>\n      <td>1.0</td>\n      <td>2.402021</td>\n      <td>-0.384757</td>\n      <td>0.479354</td>\n      <td>6</td>\n      <td>False</td>\n      <td>False</td>\n      <td>False</td>\n      <td>False</td>\n    </tr>\n  </tbody>\n</table>\n<p>318572 rows × 14 columns</p>\n</div>"
     },
     "metadata": {},
     "output_type": "display_data"
    }
   ],
   "source": [
    "display(X_train)"
   ],
   "metadata": {
    "collapsed": false
   }
  },
  {
   "cell_type": "code",
   "execution_count": 9,
   "metadata": {},
   "outputs": [],
   "source": [
    "import tensorflow as tf"
   ]
  },
  {
   "cell_type": "code",
   "execution_count": 31,
   "metadata": {},
   "outputs": [],
   "source": [
    "model = tf.keras.models.Sequential([\n",
    "  tf.keras.layers.Dense(20, activation='relu'),\n",
    "  tf.keras.layers.Dense(20, activation='relu'),\n",
    "  tf.keras.layers.Dense(20, activation='relu'),\n",
    "  tf.keras.layers.Dense(1),\n",
    "])"
   ]
  },
  {
   "cell_type": "code",
   "execution_count": 32,
   "metadata": {},
   "outputs": [],
   "source": [
    "# import tensorflow_addons as tfa\n",
    "# optimizer = tfa.optimizers.AdamW(learning_rate=1e-3, weight_decay=1e-4)\n",
    "# model.compile(optimizer=optimizer, loss='mae')"
   ]
  },
  {
   "cell_type": "markdown",
   "source": [],
   "metadata": {
    "collapsed": false
   }
  },
  {
   "cell_type": "code",
   "execution_count": 33,
   "metadata": {},
   "outputs": [],
   "source": [
    "model.compile(optimizer=\"adam\", loss='mae')"
   ]
  },
  {
   "cell_type": "code",
   "execution_count": 34,
   "metadata": {},
   "outputs": [
    {
     "name": "stdout",
     "output_type": "stream",
     "text": [
      "Epoch 1/190\n",
      "312/312 [==============================] - 2s 4ms/step - loss: 15.6001 - val_loss: 14.9657\n",
      "Epoch 2/190\n",
      "312/312 [==============================] - 1s 4ms/step - loss: 10.9860 - val_loss: 7.3418\n",
      "Epoch 3/190\n",
      "312/312 [==============================] - 2s 5ms/step - loss: 7.3329 - val_loss: 7.0410\n",
      "Epoch 4/190\n",
      "312/312 [==============================] - 1s 3ms/step - loss: 7.1491 - val_loss: 6.9493\n",
      "Epoch 5/190\n",
      "312/312 [==============================] - 1s 3ms/step - loss: 7.0774 - val_loss: 6.9505\n",
      "Epoch 6/190\n",
      "312/312 [==============================] - 2s 6ms/step - loss: 7.0153 - val_loss: 6.9090\n",
      "Epoch 7/190\n",
      "312/312 [==============================] - 1s 3ms/step - loss: 6.9624 - val_loss: 6.8122\n",
      "Epoch 8/190\n",
      "312/312 [==============================] - 1s 3ms/step - loss: 6.9091 - val_loss: 6.7565\n",
      "Epoch 9/190\n",
      "312/312 [==============================] - 1s 3ms/step - loss: 6.8702 - val_loss: 6.7746\n",
      "Epoch 10/190\n",
      "312/312 [==============================] - 1s 3ms/step - loss: 6.8228 - val_loss: 6.6374\n",
      "Epoch 11/190\n",
      "312/312 [==============================] - 1s 3ms/step - loss: 6.7754 - val_loss: 6.5882\n",
      "Epoch 12/190\n",
      "312/312 [==============================] - 2s 5ms/step - loss: 6.7396 - val_loss: 6.5922\n",
      "Epoch 13/190\n",
      "312/312 [==============================] - 1s 4ms/step - loss: 6.6831 - val_loss: 6.5173\n",
      "Epoch 14/190\n",
      "312/312 [==============================] - 1s 3ms/step - loss: 6.6687 - val_loss: 6.5819\n",
      "Epoch 15/190\n",
      "312/312 [==============================] - 1s 3ms/step - loss: 6.6390 - val_loss: 6.4669\n",
      "Epoch 16/190\n",
      "312/312 [==============================] - 1s 3ms/step - loss: 6.6250 - val_loss: 6.7406\n",
      "Epoch 17/190\n",
      "312/312 [==============================] - 1s 3ms/step - loss: 6.6170 - val_loss: 6.4813\n",
      "Epoch 18/190\n",
      "312/312 [==============================] - 1s 5ms/step - loss: 6.5784 - val_loss: 6.4120\n",
      "Epoch 19/190\n",
      "312/312 [==============================] - 1s 3ms/step - loss: 6.5621 - val_loss: 6.4356\n",
      "Epoch 20/190\n",
      "312/312 [==============================] - 1s 3ms/step - loss: 6.5541 - val_loss: 6.3338\n",
      "Epoch 21/190\n",
      "312/312 [==============================] - 1s 4ms/step - loss: 6.5398 - val_loss: 6.4140\n",
      "Epoch 22/190\n",
      "312/312 [==============================] - 1s 3ms/step - loss: 6.5317 - val_loss: 6.3097\n",
      "Epoch 23/190\n",
      "312/312 [==============================] - 1s 3ms/step - loss: 6.5101 - val_loss: 6.4614\n",
      "Epoch 24/190\n",
      "312/312 [==============================] - 1s 4ms/step - loss: 6.5093 - val_loss: 6.3726\n",
      "Epoch 25/190\n",
      "312/312 [==============================] - 1s 3ms/step - loss: 6.4973 - val_loss: 6.2850\n",
      "Epoch 26/190\n",
      "312/312 [==============================] - 1s 3ms/step - loss: 6.4925 - val_loss: 6.5641\n",
      "Epoch 27/190\n",
      "312/312 [==============================] - 1s 3ms/step - loss: 6.4720 - val_loss: 6.2518\n",
      "Epoch 28/190\n",
      "312/312 [==============================] - 1s 3ms/step - loss: 6.4619 - val_loss: 6.4184\n",
      "Epoch 29/190\n",
      "312/312 [==============================] - 1s 3ms/step - loss: 6.4575 - val_loss: 6.2456\n",
      "Epoch 30/190\n",
      "312/312 [==============================] - 1s 3ms/step - loss: 6.4360 - val_loss: 6.2898\n",
      "Epoch 31/190\n",
      "312/312 [==============================] - 1s 3ms/step - loss: 6.4351 - val_loss: 6.2290\n",
      "Epoch 32/190\n",
      "312/312 [==============================] - 1s 3ms/step - loss: 6.4116 - val_loss: 6.1880\n",
      "Epoch 33/190\n",
      "312/312 [==============================] - 1s 4ms/step - loss: 6.4218 - val_loss: 6.2307\n",
      "Epoch 34/190\n",
      "312/312 [==============================] - 1s 3ms/step - loss: 6.3983 - val_loss: 6.1631\n",
      "Epoch 35/190\n",
      "312/312 [==============================] - 1s 3ms/step - loss: 6.4161 - val_loss: 6.5181\n",
      "Epoch 36/190\n",
      "312/312 [==============================] - 1s 4ms/step - loss: 6.4108 - val_loss: 6.1591\n",
      "Epoch 37/190\n",
      "312/312 [==============================] - 1s 4ms/step - loss: 6.3815 - val_loss: 6.1951\n",
      "Epoch 38/190\n",
      "312/312 [==============================] - 1s 3ms/step - loss: 6.3960 - val_loss: 6.1357\n",
      "Epoch 39/190\n",
      "312/312 [==============================] - 1s 4ms/step - loss: 6.3723 - val_loss: 6.1140\n",
      "Epoch 40/190\n",
      "312/312 [==============================] - 1s 3ms/step - loss: 6.3676 - val_loss: 6.1282\n",
      "Epoch 41/190\n",
      "312/312 [==============================] - 1s 3ms/step - loss: 6.3574 - val_loss: 6.1027\n",
      "Epoch 42/190\n",
      "312/312 [==============================] - 1s 4ms/step - loss: 6.3513 - val_loss: 6.1542\n",
      "Epoch 43/190\n",
      "312/312 [==============================] - 1s 3ms/step - loss: 6.3466 - val_loss: 6.0910\n",
      "Epoch 44/190\n",
      "312/312 [==============================] - 1s 3ms/step - loss: 6.3399 - val_loss: 6.4668\n",
      "Epoch 45/190\n",
      "312/312 [==============================] - 1s 3ms/step - loss: 6.3359 - val_loss: 6.0937\n",
      "Epoch 46/190\n",
      "312/312 [==============================] - 1s 3ms/step - loss: 6.3168 - val_loss: 6.1011\n",
      "Epoch 47/190\n",
      "312/312 [==============================] - 1s 3ms/step - loss: 6.3199 - val_loss: 6.0830\n",
      "Epoch 48/190\n",
      "312/312 [==============================] - 1s 3ms/step - loss: 6.3030 - val_loss: 6.1390\n",
      "Epoch 49/190\n",
      "312/312 [==============================] - 1s 3ms/step - loss: 6.3047 - val_loss: 6.0986\n",
      "Epoch 50/190\n",
      "312/312 [==============================] - 1s 3ms/step - loss: 6.3005 - val_loss: 6.0845\n",
      "Epoch 51/190\n",
      "312/312 [==============================] - 1s 3ms/step - loss: 6.2881 - val_loss: 6.0303\n",
      "Epoch 52/190\n",
      "312/312 [==============================] - 1s 3ms/step - loss: 6.2786 - val_loss: 6.0870\n",
      "Epoch 53/190\n",
      "312/312 [==============================] - 1s 3ms/step - loss: 6.2742 - val_loss: 6.0628\n",
      "Epoch 54/190\n",
      "312/312 [==============================] - 1s 3ms/step - loss: 6.2655 - val_loss: 6.0833\n",
      "Epoch 55/190\n",
      "312/312 [==============================] - 1s 4ms/step - loss: 6.2696 - val_loss: 6.0420\n",
      "Epoch 56/190\n",
      "312/312 [==============================] - 1s 3ms/step - loss: 6.2626 - val_loss: 6.0341\n",
      "Epoch 57/190\n",
      "312/312 [==============================] - 1s 3ms/step - loss: 6.2674 - val_loss: 6.0321\n",
      "Epoch 58/190\n",
      "312/312 [==============================] - 1s 3ms/step - loss: 6.2430 - val_loss: 5.9815\n",
      "Epoch 59/190\n",
      "312/312 [==============================] - 1s 3ms/step - loss: 6.2452 - val_loss: 5.9789\n",
      "Epoch 60/190\n",
      "312/312 [==============================] - 1s 3ms/step - loss: 6.2432 - val_loss: 6.0607\n",
      "Epoch 61/190\n",
      "312/312 [==============================] - 1s 4ms/step - loss: 6.2386 - val_loss: 5.9736\n",
      "Epoch 62/190\n",
      "312/312 [==============================] - 1s 3ms/step - loss: 6.2335 - val_loss: 5.9950\n",
      "Epoch 63/190\n",
      "312/312 [==============================] - 1s 3ms/step - loss: 6.2294 - val_loss: 5.9945\n",
      "Epoch 64/190\n",
      "312/312 [==============================] - 2s 6ms/step - loss: 6.2235 - val_loss: 6.1387\n",
      "Epoch 65/190\n",
      "312/312 [==============================] - 1s 4ms/step - loss: 6.2214 - val_loss: 6.0309\n",
      "Epoch 66/190\n",
      "312/312 [==============================] - 2s 6ms/step - loss: 6.2066 - val_loss: 5.9633\n",
      "Epoch 67/190\n",
      "312/312 [==============================] - 2s 6ms/step - loss: 6.2057 - val_loss: 5.9639\n",
      "Epoch 68/190\n",
      "312/312 [==============================] - 2s 6ms/step - loss: 6.2007 - val_loss: 6.0262\n",
      "Epoch 69/190\n",
      "312/312 [==============================] - 3s 8ms/step - loss: 6.1959 - val_loss: 5.9985\n",
      "Epoch 70/190\n",
      "312/312 [==============================] - 3s 8ms/step - loss: 6.1953 - val_loss: 5.9569\n",
      "Epoch 71/190\n",
      "312/312 [==============================] - 3s 9ms/step - loss: 6.1845 - val_loss: 5.9201\n",
      "Epoch 72/190\n",
      "312/312 [==============================] - 2s 8ms/step - loss: 6.1737 - val_loss: 6.0820\n",
      "Epoch 73/190\n",
      "312/312 [==============================] - 2s 8ms/step - loss: 6.1799 - val_loss: 5.9180\n",
      "Epoch 74/190\n",
      "312/312 [==============================] - 1s 4ms/step - loss: 6.1737 - val_loss: 5.9258\n",
      "Epoch 75/190\n",
      "312/312 [==============================] - 1s 5ms/step - loss: 6.1714 - val_loss: 5.9305\n",
      "Epoch 76/190\n",
      "312/312 [==============================] - 2s 6ms/step - loss: 6.1548 - val_loss: 5.9544\n",
      "Epoch 77/190\n",
      "312/312 [==============================] - 1s 5ms/step - loss: 6.1576 - val_loss: 5.9178\n",
      "Epoch 78/190\n",
      "312/312 [==============================] - 1s 4ms/step - loss: 6.1531 - val_loss: 5.9299\n",
      "Epoch 79/190\n",
      "312/312 [==============================] - 1s 5ms/step - loss: 6.1517 - val_loss: 5.9169\n",
      "Epoch 80/190\n",
      "312/312 [==============================] - 1s 3ms/step - loss: 6.1397 - val_loss: 5.9423\n",
      "Epoch 81/190\n",
      "312/312 [==============================] - 1s 3ms/step - loss: 6.1295 - val_loss: 5.9624\n",
      "Epoch 82/190\n",
      "312/312 [==============================] - 1s 4ms/step - loss: 6.1461 - val_loss: 5.9038\n",
      "Epoch 83/190\n",
      "312/312 [==============================] - 1s 3ms/step - loss: 6.1311 - val_loss: 5.9016\n",
      "Epoch 84/190\n",
      "312/312 [==============================] - 1s 3ms/step - loss: 6.1210 - val_loss: 5.8965\n",
      "Epoch 85/190\n",
      "312/312 [==============================] - 1s 3ms/step - loss: 6.1240 - val_loss: 5.9807\n",
      "Epoch 86/190\n",
      "312/312 [==============================] - 1s 4ms/step - loss: 6.1136 - val_loss: 5.8635\n",
      "Epoch 87/190\n",
      "312/312 [==============================] - 1s 4ms/step - loss: 6.1091 - val_loss: 5.9745\n",
      "Epoch 88/190\n",
      "312/312 [==============================] - 1s 5ms/step - loss: 6.1036 - val_loss: 5.9179\n",
      "Epoch 89/190\n",
      "312/312 [==============================] - 1s 3ms/step - loss: 6.1027 - val_loss: 5.9197\n",
      "Epoch 90/190\n",
      "312/312 [==============================] - 1s 3ms/step - loss: 6.1036 - val_loss: 5.9315\n",
      "Epoch 91/190\n",
      "312/312 [==============================] - 1s 3ms/step - loss: 6.0915 - val_loss: 5.9772\n",
      "Epoch 92/190\n",
      "312/312 [==============================] - 1s 3ms/step - loss: 6.0910 - val_loss: 5.8551\n",
      "Epoch 93/190\n",
      "312/312 [==============================] - 1s 3ms/step - loss: 6.0838 - val_loss: 5.9554\n",
      "Epoch 94/190\n",
      "312/312 [==============================] - 1s 4ms/step - loss: 6.0857 - val_loss: 5.9207\n",
      "Epoch 95/190\n",
      "312/312 [==============================] - 1s 3ms/step - loss: 6.0868 - val_loss: 5.9404\n",
      "Epoch 96/190\n",
      "312/312 [==============================] - 1s 3ms/step - loss: 6.0739 - val_loss: 5.8725\n",
      "Epoch 97/190\n",
      "312/312 [==============================] - 2s 5ms/step - loss: 6.0773 - val_loss: 5.8822\n",
      "Epoch 98/190\n",
      "312/312 [==============================] - 1s 3ms/step - loss: 6.0695 - val_loss: 5.8773\n",
      "Epoch 99/190\n",
      "312/312 [==============================] - 1s 3ms/step - loss: 6.0651 - val_loss: 5.8927\n",
      "Epoch 100/190\n",
      "312/312 [==============================] - 2s 7ms/step - loss: 6.0636 - val_loss: 5.9266\n",
      "Epoch 101/190\n",
      "312/312 [==============================] - 2s 5ms/step - loss: 6.0540 - val_loss: 5.8871\n",
      "Epoch 102/190\n",
      "312/312 [==============================] - 1s 4ms/step - loss: 6.0557 - val_loss: 5.9250\n",
      "Epoch 103/190\n",
      "312/312 [==============================] - 1s 3ms/step - loss: 6.0569 - val_loss: 5.9129\n",
      "Epoch 104/190\n",
      "312/312 [==============================] - 1s 3ms/step - loss: 6.0461 - val_loss: 5.8604\n",
      "Epoch 105/190\n",
      "312/312 [==============================] - 1s 4ms/step - loss: 6.0415 - val_loss: 5.9246\n",
      "Epoch 106/190\n",
      "312/312 [==============================] - 1s 3ms/step - loss: 6.0468 - val_loss: 5.8828\n",
      "Epoch 107/190\n",
      "312/312 [==============================] - 1s 3ms/step - loss: 6.0342 - val_loss: 5.8731\n",
      "Epoch 108/190\n",
      "312/312 [==============================] - 1s 3ms/step - loss: 6.0306 - val_loss: 5.8482\n",
      "Epoch 109/190\n",
      "312/312 [==============================] - 1s 3ms/step - loss: 6.0305 - val_loss: 5.9478\n",
      "Epoch 110/190\n",
      "312/312 [==============================] - 1s 4ms/step - loss: 6.0222 - val_loss: 5.8279\n",
      "Epoch 111/190\n",
      "312/312 [==============================] - 1s 4ms/step - loss: 6.0218 - val_loss: 5.9559\n",
      "Epoch 112/190\n",
      "312/312 [==============================] - 1s 3ms/step - loss: 6.0295 - val_loss: 5.8846\n",
      "Epoch 113/190\n",
      "312/312 [==============================] - 1s 3ms/step - loss: 6.0161 - val_loss: 5.8579\n",
      "Epoch 114/190\n",
      "312/312 [==============================] - 1s 3ms/step - loss: 6.0149 - val_loss: 5.9065\n",
      "Epoch 115/190\n",
      "312/312 [==============================] - 1s 3ms/step - loss: 6.0158 - val_loss: 5.8605\n",
      "Epoch 116/190\n",
      "312/312 [==============================] - 1s 3ms/step - loss: 6.0092 - val_loss: 5.8873\n",
      "Epoch 117/190\n",
      "312/312 [==============================] - 1s 4ms/step - loss: 6.0161 - val_loss: 5.8461\n",
      "Epoch 118/190\n",
      "312/312 [==============================] - 1s 3ms/step - loss: 6.0005 - val_loss: 5.8491\n",
      "Epoch 119/190\n",
      "312/312 [==============================] - 1s 3ms/step - loss: 6.0096 - val_loss: 5.9487\n",
      "Epoch 120/190\n",
      "312/312 [==============================] - 1s 3ms/step - loss: 5.9986 - val_loss: 5.8801\n",
      "Epoch 121/190\n",
      "312/312 [==============================] - 1s 3ms/step - loss: 6.0015 - val_loss: 5.9452\n",
      "Epoch 122/190\n",
      "312/312 [==============================] - 1s 5ms/step - loss: 6.0028 - val_loss: 5.8826\n",
      "Epoch 123/190\n",
      "312/312 [==============================] - 1s 4ms/step - loss: 5.9840 - val_loss: 5.8588\n",
      "Epoch 124/190\n",
      "312/312 [==============================] - 1s 3ms/step - loss: 5.9779 - val_loss: 5.9260\n",
      "Epoch 125/190\n",
      "312/312 [==============================] - 1s 3ms/step - loss: 5.9951 - val_loss: 5.8650\n",
      "Epoch 126/190\n",
      "312/312 [==============================] - 1s 4ms/step - loss: 5.9747 - val_loss: 5.8744\n",
      "Epoch 127/190\n",
      "312/312 [==============================] - 1s 3ms/step - loss: 5.9790 - val_loss: 5.8782\n",
      "Epoch 128/190\n",
      "312/312 [==============================] - 1s 4ms/step - loss: 5.9754 - val_loss: 5.8227\n",
      "Epoch 129/190\n",
      "312/312 [==============================] - 1s 4ms/step - loss: 5.9784 - val_loss: 5.8183\n",
      "Epoch 130/190\n",
      "312/312 [==============================] - 1s 4ms/step - loss: 5.9737 - val_loss: 5.8440\n",
      "Epoch 131/190\n",
      "312/312 [==============================] - 1s 3ms/step - loss: 5.9724 - val_loss: 5.8412\n",
      "Epoch 132/190\n",
      "312/312 [==============================] - 1s 5ms/step - loss: 5.9652 - val_loss: 5.8321\n",
      "Epoch 133/190\n",
      "312/312 [==============================] - 2s 6ms/step - loss: 5.9640 - val_loss: 5.8486\n",
      "Epoch 134/190\n",
      "312/312 [==============================] - 1s 4ms/step - loss: 5.9595 - val_loss: 5.8469\n",
      "Epoch 135/190\n",
      "312/312 [==============================] - 1s 3ms/step - loss: 5.9547 - val_loss: 5.8508\n",
      "Epoch 136/190\n",
      "312/312 [==============================] - 1s 3ms/step - loss: 5.9536 - val_loss: 5.8260\n",
      "Epoch 137/190\n",
      "312/312 [==============================] - 1s 5ms/step - loss: 5.9404 - val_loss: 5.8208\n",
      "Epoch 138/190\n",
      "312/312 [==============================] - 1s 4ms/step - loss: 5.9591 - val_loss: 5.8125\n",
      "Epoch 139/190\n",
      "312/312 [==============================] - 1s 4ms/step - loss: 5.9407 - val_loss: 5.8731\n",
      "Epoch 140/190\n",
      "312/312 [==============================] - 1s 4ms/step - loss: 5.9449 - val_loss: 5.8037\n",
      "Epoch 141/190\n",
      "312/312 [==============================] - 2s 5ms/step - loss: 5.9299 - val_loss: 5.7819\n",
      "Epoch 142/190\n",
      "312/312 [==============================] - 1s 3ms/step - loss: 5.9406 - val_loss: 5.8706\n",
      "Epoch 143/190\n",
      "312/312 [==============================] - 1s 4ms/step - loss: 5.9256 - val_loss: 5.8931\n",
      "Epoch 144/190\n",
      "312/312 [==============================] - 2s 5ms/step - loss: 5.9315 - val_loss: 5.8262\n",
      "Epoch 145/190\n",
      "312/312 [==============================] - 1s 3ms/step - loss: 5.9166 - val_loss: 5.7829\n",
      "Epoch 146/190\n",
      "312/312 [==============================] - 1s 3ms/step - loss: 5.9136 - val_loss: 5.8633\n",
      "Epoch 147/190\n",
      "312/312 [==============================] - 1s 3ms/step - loss: 5.9050 - val_loss: 5.8260\n",
      "Epoch 148/190\n",
      "312/312 [==============================] - 1s 3ms/step - loss: 5.9040 - val_loss: 5.8216\n",
      "Epoch 149/190\n",
      "312/312 [==============================] - 1s 3ms/step - loss: 5.9097 - val_loss: 5.8091\n",
      "Epoch 150/190\n",
      "312/312 [==============================] - 2s 5ms/step - loss: 5.9033 - val_loss: 5.8010\n",
      "Epoch 151/190\n",
      "312/312 [==============================] - 1s 5ms/step - loss: 5.9074 - val_loss: 5.7956\n",
      "Epoch 152/190\n",
      "312/312 [==============================] - 1s 3ms/step - loss: 5.9001 - val_loss: 5.7819\n",
      "Epoch 153/190\n",
      "312/312 [==============================] - 1s 3ms/step - loss: 5.8855 - val_loss: 5.8052\n",
      "Epoch 154/190\n",
      "312/312 [==============================] - 1s 3ms/step - loss: 5.8722 - val_loss: 5.7748\n",
      "Epoch 155/190\n",
      "312/312 [==============================] - 1s 3ms/step - loss: 5.8855 - val_loss: 5.7930\n",
      "Epoch 156/190\n",
      "312/312 [==============================] - 1s 4ms/step - loss: 5.8786 - val_loss: 5.7848\n",
      "Epoch 157/190\n",
      "312/312 [==============================] - 1s 3ms/step - loss: 5.8661 - val_loss: 5.7750\n",
      "Epoch 158/190\n",
      "312/312 [==============================] - 1s 4ms/step - loss: 5.8787 - val_loss: 5.7953\n",
      "Epoch 159/190\n",
      "312/312 [==============================] - 1s 4ms/step - loss: 5.8614 - val_loss: 5.7984\n",
      "Epoch 160/190\n",
      "312/312 [==============================] - 1s 4ms/step - loss: 5.8672 - val_loss: 5.7826\n",
      "Epoch 161/190\n",
      "312/312 [==============================] - 2s 7ms/step - loss: 5.8659 - val_loss: 5.7885\n",
      "Epoch 162/190\n",
      "312/312 [==============================] - 2s 7ms/step - loss: 5.8577 - val_loss: 5.8762\n",
      "Epoch 163/190\n",
      "312/312 [==============================] - 1s 4ms/step - loss: 5.8634 - val_loss: 5.8129\n",
      "Epoch 164/190\n",
      "312/312 [==============================] - 1s 4ms/step - loss: 5.8512 - val_loss: 5.7649\n",
      "Epoch 165/190\n",
      "312/312 [==============================] - 1s 5ms/step - loss: 5.8508 - val_loss: 5.8295\n",
      "Epoch 166/190\n",
      "312/312 [==============================] - 1s 4ms/step - loss: 5.8428 - val_loss: 5.8012\n",
      "Epoch 167/190\n",
      "312/312 [==============================] - 1s 3ms/step - loss: 5.8458 - val_loss: 5.8092\n",
      "Epoch 168/190\n",
      "312/312 [==============================] - 2s 7ms/step - loss: 5.8367 - val_loss: 5.7943\n",
      "Epoch 169/190\n",
      "312/312 [==============================] - 2s 5ms/step - loss: 5.8354 - val_loss: 5.8488\n",
      "Epoch 170/190\n",
      "312/312 [==============================] - 2s 6ms/step - loss: 5.8450 - val_loss: 5.7733\n",
      "Epoch 171/190\n",
      "312/312 [==============================] - 1s 4ms/step - loss: 5.8214 - val_loss: 5.8021\n",
      "Epoch 172/190\n",
      "312/312 [==============================] - 1s 3ms/step - loss: 5.8408 - val_loss: 5.8076\n",
      "Epoch 173/190\n",
      "312/312 [==============================] - 1s 4ms/step - loss: 5.8200 - val_loss: 5.8077\n",
      "Epoch 174/190\n",
      "312/312 [==============================] - 1s 3ms/step - loss: 5.8204 - val_loss: 5.7912\n",
      "Epoch 175/190\n",
      "312/312 [==============================] - 1s 4ms/step - loss: 5.8151 - val_loss: 5.7978\n",
      "Epoch 176/190\n",
      "312/312 [==============================] - 1s 4ms/step - loss: 5.8217 - val_loss: 5.7947\n",
      "Epoch 177/190\n",
      "312/312 [==============================] - 2s 6ms/step - loss: 5.8113 - val_loss: 5.8042\n",
      "Epoch 178/190\n",
      "312/312 [==============================] - 1s 4ms/step - loss: 5.8079 - val_loss: 5.7863\n",
      "Epoch 179/190\n",
      "312/312 [==============================] - 1s 3ms/step - loss: 5.8051 - val_loss: 5.7473\n",
      "Epoch 180/190\n",
      "312/312 [==============================] - 2s 6ms/step - loss: 5.7994 - val_loss: 5.7858\n",
      "Epoch 181/190\n",
      "312/312 [==============================] - 1s 4ms/step - loss: 5.7886 - val_loss: 5.7597\n",
      "Epoch 182/190\n",
      "312/312 [==============================] - 1s 4ms/step - loss: 5.7878 - val_loss: 5.8790\n",
      "Epoch 183/190\n",
      "312/312 [==============================] - 1s 3ms/step - loss: 5.8060 - val_loss: 5.7889\n",
      "Epoch 184/190\n",
      "312/312 [==============================] - 1s 3ms/step - loss: 5.7803 - val_loss: 5.7548\n",
      "Epoch 185/190\n",
      "312/312 [==============================] - 2s 6ms/step - loss: 5.7904 - val_loss: 5.7659\n",
      "Epoch 186/190\n",
      "312/312 [==============================] - 2s 6ms/step - loss: 5.7917 - val_loss: 5.7223\n",
      "Epoch 187/190\n",
      "312/312 [==============================] - 2s 7ms/step - loss: 5.7901 - val_loss: 5.8004\n",
      "Epoch 188/190\n",
      "312/312 [==============================] - 2s 6ms/step - loss: 5.7883 - val_loss: 5.7605\n",
      "Epoch 189/190\n",
      "312/312 [==============================] - 3s 10ms/step - loss: 5.7738 - val_loss: 5.7813\n",
      "Epoch 190/190\n",
      "312/312 [==============================] - 3s 10ms/step - loss: 5.7675 - val_loss: 5.7561\n"
     ]
    }
   ],
   "source": [
    "history = model.fit(X_train.values.astype(np.float32), y_train.values.astype(np.float32), epochs=190, batch_size=1024,\n",
    "         validation_data=(X_eval.values.astype(np.float32), y_eval.values.astype(np.float32)), shuffle=True)"
   ]
  },
  {
   "cell_type": "code",
   "execution_count": 35,
   "metadata": {},
   "outputs": [
    {
     "data": {
      "text/plain": "<Figure size 640x480 with 1 Axes>",
      "image/png": "[encoded data removed]"
     },
     "metadata": {},
     "output_type": "display_data"
    }
   ],
   "source": [
    "plt.plot(history.epoch, history.history[\"loss\"], 'b', label='Training loss')\n",
    "plt.plot(history.epoch, history.history[\"val_loss\"], 'g', label='Validation loss')\n",
    "plt.title('Training loss')\n",
    "plt.xlabel('Epochs')\n",
    "plt.ylabel('Loss')\n",
    "plt.legend()\n",
    "plt.show()"
   ]
  },
  {
   "cell_type": "code",
   "execution_count": 36,
   "metadata": {},
   "outputs": [
    {
     "name": "stdout",
     "output_type": "stream",
     "text": [
      "1107/1107 - 1s - loss: 5.7562 - 1s/epoch - 1ms/step\n"
     ]
    },
    {
     "data": {
      "text/plain": "5.75615119934082"
     },
     "execution_count": 36,
     "metadata": {},
     "output_type": "execute_result"
    }
   ],
   "source": [
    "model.evaluate(X_eval.values.astype(np.float32),  y_eval.values.astype(np.float32), verbose=2)"
   ]
  },
  {
   "cell_type": "code",
   "execution_count": 37,
   "metadata": {},
   "outputs": [
    {
     "name": "stdout",
     "output_type": "stream",
     "text": [
      "[[ 4.4286847e-03]\n",
      " [ 1.8070495e+00]\n",
      " [ 6.7651272e-03]\n",
      " ...\n",
      " [ 1.6769657e+00]\n",
      " [-2.5902390e-03]\n",
      " [ 2.6262755e+00]]\n"
     ]
    }
   ],
   "source": [
    "pred = model.predict(X_train.values.astype(np.float32))\n",
    "print(pred)"
   ]
  },
  {
   "cell_type": "code",
   "execution_count": 38,
   "metadata": {},
   "outputs": [],
   "source": [
    "# plt.scatter(X_train[\"favorites_count\"], model.predict(X_train))\n",
    "# plt.scatter(X_train[\"favorites_count\"], y_train.values.astype(np.float32))"
   ]
  },
  {
   "cell_type": "code",
   "execution_count": 39,
   "metadata": {},
   "outputs": [],
   "source": [
    "# evaluation\n",
    "\n",
    "eval_data = pd.read_csv(\"data/embeddings/evaluation_dim_32.csv\")\n",
    "tweets = eval_data[\"TweetID\"]"
   ]
  },
  {
   "cell_type": "code",
   "execution_count": 40,
   "metadata": {},
   "outputs": [
    {
     "name": "stdout",
     "output_type": "stream",
     "text": [
      "        Unnamed: 0  favorites_count  followers_count  statuses_count  \\\n",
      "0        -1.731691        -0.055089        -0.077561       -0.384487   \n",
      "1        -1.731681        -0.055089        -0.076250       -0.130940   \n",
      "2        -1.731672        -0.047990        -0.073569       -0.308274   \n",
      "3        -1.731662        -0.052722        -0.071378       -0.197070   \n",
      "4        -1.731652        -0.055089        -0.076932       -0.241396   \n",
      "...            ...              ...              ...             ...   \n",
      "117985   -0.577125        -0.055089        -0.077871       -0.421834   \n",
      "117986   -0.577115        -0.055089        -0.075036       -0.076371   \n",
      "117987   -0.577105        -0.040891        -0.074347       -0.403582   \n",
      "117988   -0.577095        -0.055089        -0.077867       -0.423504   \n",
      "117989   -0.577086        -0.055089        -0.075760       -0.373401   \n",
      "\n",
      "        friends_count  verified         0         1         2         3  ...  \\\n",
      "0           -0.451430         0  1.059738  0.136526 -1.154393 -0.550676  ...   \n",
      "1           -0.405207         0  0.014077  0.592870 -1.135842 -0.423057  ...   \n",
      "2            0.054226         0 -0.271848  0.004620 -0.494386 -0.101739  ...   \n",
      "3            0.229552         0  3.008314 -2.824130  0.810004  2.353724  ...   \n",
      "4           -0.434694         0 -1.369135 -1.275616  1.428243  0.802745  ...   \n",
      "...               ...       ...       ...       ...       ...       ...  ...   \n",
      "117985      -0.556227         0  0.594451  0.536703 -0.788027 -0.268938  ...   \n",
      "117986      -0.225498         0 -0.100247 -0.132892 -0.914109 -0.264919  ...   \n",
      "117987      -0.518372         0  0.276603  0.158306 -0.778306  0.897802  ...   \n",
      "117988      -0.549851         0 -0.445887 -0.418066  0.045738  1.476588  ...   \n",
      "117989      -0.522357         0 -0.589858  0.761016 -0.884451  0.352354  ...   \n",
      "\n",
      "        url_count  text_len  hashtags_count       day  hour  Macron  Zemmour  \\\n",
      "0             0.0 -1.057548        2.208030  1.083457    12   False    False   \n",
      "1             0.0 -0.913399       -0.384757  1.083457    11   False    False   \n",
      "2             0.0 -0.673151        0.911637 -1.332955     8   False    False   \n",
      "3             1.0  1.152732       -0.384757 -0.426800     8    True    False   \n",
      "4             2.0  1.489079       -0.384757  1.385508    21   False     True   \n",
      "...           ...       ...             ...       ...   ...     ...      ...   \n",
      "117985        0.0 -1.009498       -0.384757 -0.728852    16   False    False   \n",
      "117986        1.0  1.801401       -0.384757  0.781405     4   False    False   \n",
      "117987        0.0 -0.048507       -0.384757  0.781405    13    True    False   \n",
      "117988        1.0  1.585178       -0.384757  1.083457    12   False    False   \n",
      "117989        0.0 -0.120581       -0.384757 -0.124749    13   False    False   \n",
      "\n",
      "        Melenchon     rt     abrev  \n",
      "0           False  False  0.000000  \n",
      "1           False  False  0.000000  \n",
      "2           False  False  0.000000  \n",
      "3           False  False  0.062500  \n",
      "4           False  False  0.000000  \n",
      "...           ...    ...       ...  \n",
      "117985      False  False  0.000000  \n",
      "117986      False  False  0.000000  \n",
      "117987      False  False  0.000000  \n",
      "117988      False  False  0.058824  \n",
      "117989      False   True  0.000000  \n",
      "\n",
      "[117990 rows x 48 columns]\n",
      "[[0.24445933]\n",
      " [0.37411946]\n",
      " [1.9116864 ]\n",
      " ...\n",
      " [2.9163098 ]\n",
      " [0.13866237]\n",
      " [0.02795523]]\n"
     ]
    }
   ],
   "source": [
    "eval_data[\"url_count\"] = eval_data[\"urls\"].apply(lambda s: s[1:-1].count(\"\\'\")/2)\n",
    "eval_data[\"text_len\"] = eval_data[\"text\"].apply(lambda s: len(s))\n",
    "eval_data[\"hashtags_count\"] = eval_data[\"hashtags\"].apply(lambda s: s[1:-1].count(\"\\'\")/2)\n",
    "eval_data[\"day\"] = eval_data[\"timestamp\"].apply(lambda t: datetime.utcfromtimestamp(t/1000).day)\n",
    "eval_data[\"hour\"] = eval_data[\"timestamp\"].apply(lambda t: datetime.utcfromtimestamp(t/1000).hour)\n",
    "eval_data[\"Macron\"] =  eval_data[\"text\"].apply(lambda s: (\"macron\" in s.lower().split()))\n",
    "eval_data[\"Zemmour\"] =  eval_data[\"text\"].apply(lambda s: (\"zemmour\" in s.lower().split()))\n",
    "eval_data[\"Melenchon\"] =  eval_data[\"text\"].apply(lambda s: (\"melenchon\" in s.lower().split()))\n",
    "eval_data[\"rt\"] =  eval_data[\"text\"].apply(lambda s: (\"rt\" in s.lower().split()))\n",
    "eval_data[\"abrev\"] = eval_data[\"text\"].apply(lambda s: data.count_abreviations_func(s, lexique))\n",
    "\n",
    "# print(\"sentiment analysis...\")\n",
    "# eval_data[\"compound\"] =  eval_data[\"text\"].apply(lambda s: sia.polarity_scores(s)['compound'])\n",
    "\n",
    "eval_data = eval_data.drop([\"text\", \"urls\", \"mentions\", \"hashtags\", \"timestamp\", \"TweetID\"], axis=1)\n",
    "\n",
    "# normalize\n",
    "eval_data.loc[:, normal_columns] = (eval_data.loc[:, normal_columns] - mu) / sigma\n",
    "\n",
    "print(eval_data)\n",
    "\n",
    "pred = model.predict(eval_data.values.astype(np.float32))\n",
    "\n",
    "print(pred)\n",
    "\n",
    "# output normalization\n",
    "for i,p in enumerate(pred):\n",
    "    if p<0: pred[i] = 0"
   ]
  },
  {
   "cell_type": "code",
   "execution_count": 41,
   "metadata": {},
   "outputs": [],
   "source": [
    "with open(\"data/predictions.csv\", 'w') as f:\n",
    "    writer = csv.writer(f)\n",
    "    writer.writerow([\"TweetID\", \"retweets_count\"])\n",
    "    for index, prediction in enumerate(pred):\n",
    "        writer.writerow([str(tweets[index]) , str(int(prediction))])"
   ]
  },
  {
   "cell_type": "code",
   "execution_count": 20,
   "outputs": [],
   "source": [],
   "metadata": {
    "collapsed": false
   }
  }
 ],
 "metadata": {
  "kernelspec": {
   "display_name": "Python 3.9.13 ('base')",
   "language": "python",
   "name": "python3"
  },
  "language_info": {
   "codemirror_mode": {
    "name": "ipython",
    "version": 3
   },
   "file_extension": ".py",
   "mimetype": "text/x-python",
   "name": "python",
   "nbconvert_exporter": "python",
   "pygments_lexer": "ipython3",
   "version": "3.9.13"
  },
  "orig_nbformat": 4,
  "vscode": {
   "interpreter": {
    "hash": "869fcbf3262855e1eaf5654d341d7f712e3ffc1dffd54e403b0f2d04ee7ae421"
   }
  }
 },
 "nbformat": 4,
 "nbformat_minor": 2
}
